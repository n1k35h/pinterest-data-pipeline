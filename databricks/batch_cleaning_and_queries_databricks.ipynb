{
 "cells": [
  {
   "cell_type": "code",
   "execution_count": null,
   "metadata": {
    "application/vnd.databricks.v1+cell": {
     "cellMetadata": {
      "byteLimit": 2048000,
      "rowLimit": 10000
     },
     "inputWidgets": {},
     "nuid": "6473e873-56e3-4340-b276-faf921e84935",
     "showTitle": false,
     "title": ""
    }
   },
   "outputs": [
    {
     "data": {
      "text/html": [
       "<style scoped>\n",
       "  .ansiout {\n",
       "    display: block;\n",
       "    unicode-bidi: embed;\n",
       "    white-space: pre-wrap;\n",
       "    word-wrap: break-word;\n",
       "    word-break: break-all;\n",
       "    font-family: \"Menlo\", \"Monaco\", \"Consolas\", \"Ubuntu Mono\", \"Source Code Pro\", monospace;\n",
       "    font-size: 13px;\n",
       "    color: #555;\n",
       "    margin-left: 4px;\n",
       "    line-height: 19px;\n",
       "  }\n",
       "</style>\n",
       "<div class=\"ansiout\"></div>"
      ]
     },
     "metadata": {
      "application/vnd.databricks.v1+output": {
       "addedWidgets": {},
       "arguments": {},
       "data": "<div class=\"ansiout\"></div>",
       "datasetInfos": [],
       "metadata": {},
       "removedWidgets": [],
       "type": "html"
      }
     },
     "output_type": "display_data"
    }
   ],
   "source": [
    "# pyspark functions\n",
    "from pyspark.sql.functions import *\n",
    "# URL processing\n",
    "import urllib"
   ]
  },
  {
   "cell_type": "code",
   "execution_count": null,
   "metadata": {
    "application/vnd.databricks.v1+cell": {
     "cellMetadata": {
      "byteLimit": 2048000,
      "rowLimit": 10000
     },
     "inputWidgets": {},
     "nuid": "471173e4-4fe4-4b3f-8854-abcc0de171a3",
     "showTitle": false,
     "title": ""
    }
   },
   "outputs": [
    {
     "data": {
      "text/html": [
       "<style scoped>\n",
       "  .ansiout {\n",
       "    display: block;\n",
       "    unicode-bidi: embed;\n",
       "    white-space: pre-wrap;\n",
       "    word-wrap: break-word;\n",
       "    word-break: break-all;\n",
       "    font-family: \"Menlo\", \"Monaco\", \"Consolas\", \"Ubuntu Mono\", \"Source Code Pro\", monospace;\n",
       "    font-size: 13px;\n",
       "    color: #555;\n",
       "    margin-left: 4px;\n",
       "    line-height: 19px;\n",
       "  }\n",
       "</style>\n",
       "<div class=\"ansiout\"></div>"
      ]
     },
     "metadata": {
      "application/vnd.databricks.v1+output": {
       "addedWidgets": {},
       "arguments": {},
       "data": "<div class=\"ansiout\"></div>",
       "datasetInfos": [],
       "metadata": {},
       "removedWidgets": [],
       "type": "html"
      }
     },
     "output_type": "display_data"
    }
   ],
   "source": [
    "# Define the path to the Delta table\n",
    "delta_table_path = \"dbfs:/user/hive/warehouse/authentication_credentials\"\n",
    "\n",
    "# Read the Delta table to a Spark DataFrame\n",
    "aws_keys_df = spark.read.format(\"delta\").load(delta_table_path)"
   ]
  },
  {
   "cell_type": "code",
   "execution_count": null,
   "metadata": {
    "application/vnd.databricks.v1+cell": {
     "cellMetadata": {
      "byteLimit": 2048000,
      "rowLimit": 10000
     },
     "inputWidgets": {},
     "nuid": "7de93c1a-9048-46a7-95cb-79441a51f668",
     "showTitle": false,
     "title": ""
    }
   },
   "outputs": [
    {
     "data": {
      "text/html": [
       "<style scoped>\n",
       "  .ansiout {\n",
       "    display: block;\n",
       "    unicode-bidi: embed;\n",
       "    white-space: pre-wrap;\n",
       "    word-wrap: break-word;\n",
       "    word-break: break-all;\n",
       "    font-family: \"Menlo\", \"Monaco\", \"Consolas\", \"Ubuntu Mono\", \"Source Code Pro\", monospace;\n",
       "    font-size: 13px;\n",
       "    color: #555;\n",
       "    margin-left: 4px;\n",
       "    line-height: 19px;\n",
       "  }\n",
       "</style>\n",
       "<div class=\"ansiout\"></div>"
      ]
     },
     "metadata": {
      "application/vnd.databricks.v1+output": {
       "addedWidgets": {},
       "arguments": {},
       "data": "<div class=\"ansiout\"></div>",
       "datasetInfos": [],
       "metadata": {},
       "removedWidgets": [],
       "type": "html"
      }
     },
     "output_type": "display_data"
    }
   ],
   "source": [
    "# Get the AWS access key and secret key from the spark dataframe\n",
    "ACCESS_KEY = aws_keys_df.select('Access key ID').collect()[0]['Access key ID']\n",
    "SECRET_KEY = aws_keys_df.select('Secret access key').collect()[0]['Secret access key']\n",
    "# Encode the secrete key\n",
    "ENCODED_SECRET_KEY = urllib.parse.quote(string=SECRET_KEY, safe=\"\")"
   ]
  },
  {
   "cell_type": "code",
   "execution_count": null,
   "metadata": {
    "application/vnd.databricks.v1+cell": {
     "cellMetadata": {
      "byteLimit": 2048000,
      "rowLimit": 10000
     },
     "inputWidgets": {},
     "nuid": "e55da8de-a273-4047-9c5e-d6c35592753d",
     "showTitle": false,
     "title": ""
    }
   },
   "outputs": [
    {
     "data": {
      "text/html": [
       "<style scoped>\n",
       "  .ansiout {\n",
       "    display: block;\n",
       "    unicode-bidi: embed;\n",
       "    white-space: pre-wrap;\n",
       "    word-wrap: break-word;\n",
       "    word-break: break-all;\n",
       "    font-family: \"Menlo\", \"Monaco\", \"Consolas\", \"Ubuntu Mono\", \"Source Code Pro\", monospace;\n",
       "    font-size: 13px;\n",
       "    color: #555;\n",
       "    margin-left: 4px;\n",
       "    line-height: 19px;\n",
       "  }\n",
       "</style>\n",
       "<div class=\"ansiout\">Out[4]: True</div>"
      ]
     },
     "metadata": {
      "application/vnd.databricks.v1+output": {
       "addedWidgets": {},
       "arguments": {},
       "data": "<div class=\"ansiout\">Out[4]: True</div>",
       "datasetInfos": [],
       "metadata": {},
       "removedWidgets": [],
       "type": "html"
      }
     },
     "output_type": "display_data"
    }
   ],
   "source": [
    "# AWS S3 bucket name\n",
    "AWS_S3_BUCKET = \"user-0e0816526d11-bucket\"\n",
    "# Mount name for the bucket\n",
    "MOUNT_NAME = \"/mnt/user-0e0816526d11-bucket\"\n",
    "# Source url\n",
    "SOURCE_URL = \"s3n://{0}:{1}@{2}\".format(ACCESS_KEY, ENCODED_SECRET_KEY, AWS_S3_BUCKET)\n",
    "# Mount the drive\n",
    "dbutils.fs.mount(SOURCE_URL, MOUNT_NAME)"
   ]
  },
  {
   "cell_type": "code",
   "execution_count": null,
   "metadata": {
    "application/vnd.databricks.v1+cell": {
     "cellMetadata": {
      "byteLimit": 2048000,
      "rowLimit": 10000
     },
     "inputWidgets": {},
     "nuid": "a8e9f744-bcaf-4012-9e81-e04bdfdfdddd",
     "showTitle": false,
     "title": ""
    }
   },
   "outputs": [
    {
     "data": {
      "text/html": [
       "<style scoped>\n",
       "  .table-result-container {\n",
       "    max-height: 300px;\n",
       "    overflow: auto;\n",
       "  }\n",
       "  table, th, td {\n",
       "    border: 1px solid black;\n",
       "    border-collapse: collapse;\n",
       "  }\n",
       "  th, td {\n",
       "    padding: 5px;\n",
       "  }\n",
       "  th {\n",
       "    text-align: left;\n",
       "  }\n",
       "</style><div class='table-result-container'><table class='table-result'><thead style='background-color: white'><tr><th>path</th><th>name</th><th>size</th><th>modificationTime</th></tr></thead><tbody><tr><td>dbfs:/mnt/user-0e0816526d11-bucket/topics/0e0816526d11.geo/</td><td>0e0816526d11.geo/</td><td>0</td><td>1704399369688</td></tr><tr><td>dbfs:/mnt/user-0e0816526d11-bucket/topics/0e0816526d11.pin/</td><td>0e0816526d11.pin/</td><td>0</td><td>1704399369688</td></tr><tr><td>dbfs:/mnt/user-0e0816526d11-bucket/topics/0e0816526d11.user/</td><td>0e0816526d11.user/</td><td>0</td><td>1704399369688</td></tr></tbody></table></div>"
      ]
     },
     "metadata": {
      "application/vnd.databricks.v1+output": {
       "addedWidgets": {},
       "aggData": [],
       "aggError": "",
       "aggOverflow": false,
       "aggSchema": [],
       "aggSeriesLimitReached": false,
       "aggType": "",
       "arguments": {},
       "columnCustomDisplayInfos": {},
       "data": [
        [
         "dbfs:/mnt/user-0e0816526d11-bucket/topics/0e0816526d11.geo/",
         "0e0816526d11.geo/",
         0,
         1704399369688
        ],
        [
         "dbfs:/mnt/user-0e0816526d11-bucket/topics/0e0816526d11.pin/",
         "0e0816526d11.pin/",
         0,
         1704399369688
        ],
        [
         "dbfs:/mnt/user-0e0816526d11-bucket/topics/0e0816526d11.user/",
         "0e0816526d11.user/",
         0,
         1704399369688
        ]
       ],
       "datasetInfos": [],
       "dbfsResultPath": null,
       "isJsonSchema": true,
       "metadata": {},
       "overflow": false,
       "plotOptions": {
        "customPlotOptions": {},
        "displayType": "table",
        "pivotAggregation": null,
        "pivotColumns": null,
        "xColumns": null,
        "yColumns": null
       },
       "removedWidgets": [],
       "schema": [
        {
         "metadata": "{}",
         "name": "path",
         "type": "\"string\""
        },
        {
         "metadata": "{}",
         "name": "name",
         "type": "\"string\""
        },
        {
         "metadata": "{}",
         "name": "size",
         "type": "\"long\""
        },
        {
         "metadata": "{}",
         "name": "modificationTime",
         "type": "\"long\""
        }
       ],
       "type": "table"
      }
     },
     "output_type": "display_data"
    }
   ],
   "source": [
    "# list the topics stored on the mounted S3 bucket\n",
    "display(dbutils.fs.ls(\"/mnt/user-0e0816526d11-bucket/topics\"))"
   ]
  },
  {
   "cell_type": "code",
   "execution_count": null,
   "metadata": {
    "application/vnd.databricks.v1+cell": {
     "cellMetadata": {
      "byteLimit": 2048000,
      "implicitDf": true,
      "rowLimit": 10000
     },
     "inputWidgets": {},
     "nuid": "7018a5f7-aff7-41a5-9032-2b2065ef5d0d",
     "showTitle": false,
     "title": ""
    }
   },
   "outputs": [
    {
     "data": {
      "text/html": [
       "<style scoped>\n",
       "  .table-result-container {\n",
       "    max-height: 300px;\n",
       "    overflow: auto;\n",
       "  }\n",
       "  table, th, td {\n",
       "    border: 1px solid black;\n",
       "    border-collapse: collapse;\n",
       "  }\n",
       "  th, td {\n",
       "    padding: 5px;\n",
       "  }\n",
       "  th {\n",
       "    text-align: left;\n",
       "  }\n",
       "</style><div class='table-result-container'><table class='table-result'><thead style='background-color: white'><tr><th>key</th><th>value</th></tr></thead><tbody><tr><td>spark.databricks.delta.formatCheck.enabled</td><td>false</td></tr></tbody></table></div>"
      ]
     },
     "metadata": {
      "application/vnd.databricks.v1+output": {
       "addedWidgets": {},
       "aggData": [],
       "aggError": "",
       "aggOverflow": false,
       "aggSchema": [],
       "aggSeriesLimitReached": false,
       "aggType": "",
       "arguments": {},
       "columnCustomDisplayInfos": {},
       "data": [
        [
         "spark.databricks.delta.formatCheck.enabled",
         "false"
        ]
       ],
       "datasetInfos": [],
       "dbfsResultPath": null,
       "isJsonSchema": true,
       "metadata": {},
       "overflow": false,
       "plotOptions": {
        "customPlotOptions": {},
        "displayType": "table",
        "pivotAggregation": null,
        "pivotColumns": null,
        "xColumns": null,
        "yColumns": null
       },
       "removedWidgets": [],
       "schema": [
        {
         "metadata": "{}",
         "name": "key",
         "type": "\"string\""
        },
        {
         "metadata": "{}",
         "name": "value",
         "type": "\"string\""
        }
       ],
       "type": "table"
      }
     },
     "output_type": "display_data"
    }
   ],
   "source": [
    "%sql\n",
    "-- Disable format checks during the reading of Delta tables\n",
    "SET spark.databricks.delta.formatCheck.enabled=false"
   ]
  },
  {
   "cell_type": "code",
   "execution_count": null,
   "metadata": {
    "application/vnd.databricks.v1+cell": {
     "cellMetadata": {
      "byteLimit": 2048000,
      "rowLimit": 10000
     },
     "inputWidgets": {},
     "nuid": "f1c94be4-7428-4c94-88b8-f3b21d90791c",
     "showTitle": false,
     "title": ""
    }
   },
   "outputs": [
    {
     "data": {
      "text/html": [
       "<style scoped>\n",
       "  .ansiout {\n",
       "    display: block;\n",
       "    unicode-bidi: embed;\n",
       "    white-space: pre-wrap;\n",
       "    word-wrap: break-word;\n",
       "    word-break: break-all;\n",
       "    font-family: \"Menlo\", \"Monaco\", \"Consolas\", \"Ubuntu Mono\", \"Source Code Pro\", monospace;\n",
       "    font-size: 13px;\n",
       "    color: #555;\n",
       "    margin-left: 4px;\n",
       "    line-height: 19px;\n",
       "  }\n",
       "</style>\n",
       "<div class=\"ansiout\"></div>"
      ]
     },
     "metadata": {
      "application/vnd.databricks.v1+output": {
       "addedWidgets": {},
       "arguments": {},
       "data": "<div class=\"ansiout\"></div>",
       "datasetInfos": [],
       "metadata": {},
       "removedWidgets": [],
       "type": "html"
      }
     },
     "output_type": "display_data"
    }
   ],
   "source": [
    "# create path to topic files and asterisk (*) will read all the contents for that particular .json file extension\n",
    "file_location = \"/mnt/user-0e0816526d11-bucket/topics/0e0816526d11.pin/partition=0/*.json\"\n",
    "# specify file type\n",
    "file_type = \"json\"\n",
    "# Ask Spark to infer the schema\n",
    "infer_schema = \"true\"\n",
    "# load JSONs from mounted S3 bucket to Spark dataframe\n",
    "df_pin = spark.read.format(file_type) \\\n",
    "    .option(\"inferSchema\", infer_schema) \\\n",
    "    .load(file_location)\n",
    "\n",
    "# cleaning Pinterest dataframe\n",
    "df_pin = df_pin.replace(\"No description available Story format\", None)\n",
    "df_pin = df_pin.replace(\"null\", None)\n",
    "df_pin = df_pin.replace(\"User Info Error\", None)\n",
    "df_pin = df_pin.replace(\"Image src error\", None)\n",
    "df_pin = df_pin.replace(\"N,o, ,T,a,g,s, ,A,v,a,i,l,a,b,l,e\", None)\n",
    "df_pin = df_pin.replace(\"No Title Data Available\", None)\n",
    "\n",
    "# transforms the 'follower_count' col from string to integer and checks if the value matches a pattern that contains either k or M \n",
    "df_pin = df_pin.withColumn(\"follower_count\", when(\n",
    "    col(\"follower_count\").rlike(\"\\d+k\"),(regexp_extract(col(\"follower_count\"),\"(\\d+)\",1).cast(\"integer\") * 1000)).when(col(\"follower_count\").rlike(\"\\d+M\"),(regexp_extract(col(\"follower_count\"), \"(\\d+)\", 1).cast(\"integer\") * 1000000))\n",
    "# otherwise, if it doesn't matches it leaves the full integer value\n",
    ".otherwise(col(\"follower_count\").cast(\"integer\")))\n",
    "\n",
    "# cleaning the 'save_location' column by removing 'Local save in ' text and just leaving the path for the 'save_location' column\n",
    "df_pin = df_pin.withColumn(\"save_location\", regexp_replace(\"save_location\", \"Local save in \", \"\"))\n",
    "\n",
    "# Renaming the column\n",
    "df_pin = df_pin.withColumnRenamed(\"index\", \"ind\")\n",
    "\n",
    "df_pin = df_pin.dropDuplicates([\"unique_id\"])\n",
    "df_pin = df_pin.na.drop()\n",
    "\n",
    "# rearranging the Pinterest columns\n",
    "reorder_col = [\"ind\", \"unique_id\", \"title\", \"description\", \"follower_count\", \"poster_name\", \"tag_list\", \"is_image_or_video\", \"image_src\", \"save_location\", \"category\"]\n",
    "df_pin = df_pin.select(reorder_col)\n",
    "\n",
    "# Show the table of the Pinterest data\n",
    "# display(df_pin)"
   ]
  },
  {
   "cell_type": "code",
   "execution_count": null,
   "metadata": {
    "application/vnd.databricks.v1+cell": {
     "cellMetadata": {
      "byteLimit": 2048000,
      "rowLimit": 10000
     },
     "inputWidgets": {},
     "nuid": "77d133f8-eec2-4018-86bc-aa8242b2c063",
     "showTitle": false,
     "title": ""
    }
   },
   "outputs": [
    {
     "data": {
      "text/html": [
       "<style scoped>\n",
       "  .ansiout {\n",
       "    display: block;\n",
       "    unicode-bidi: embed;\n",
       "    white-space: pre-wrap;\n",
       "    word-wrap: break-word;\n",
       "    word-break: break-all;\n",
       "    font-family: \"Menlo\", \"Monaco\", \"Consolas\", \"Ubuntu Mono\", \"Source Code Pro\", monospace;\n",
       "    font-size: 13px;\n",
       "    color: #555;\n",
       "    margin-left: 4px;\n",
       "    line-height: 19px;\n",
       "  }\n",
       "</style>\n",
       "<div class=\"ansiout\"></div>"
      ]
     },
     "metadata": {
      "application/vnd.databricks.v1+output": {
       "addedWidgets": {},
       "arguments": {},
       "data": "<div class=\"ansiout\"></div>",
       "datasetInfos": [],
       "metadata": {},
       "removedWidgets": [],
       "type": "html"
      }
     },
     "output_type": "display_data"
    }
   ],
   "source": [
    "# create path to topic files and asterisk (*) will read all the contents for that particular .json file extension\n",
    "file_location = \"/mnt/user-0e0816526d11-bucket/topics/0e0816526d11.geo/partition=0/*.json\"\n",
    "# specify file type\n",
    "file_type = \"json\"\n",
    "# Ask Spark to infer the schema\n",
    "infer_schema = \"true\"\n",
    "# load JSONs from mounted S3 bucket to Spark dataframe\n",
    "df_geo = spark.read.format(file_type) \\\n",
    "    .option(\"inferSchema\", infer_schema) \\\n",
    "    .load(file_location)\n",
    "\n",
    "# created a new column containing latitude and longitude\n",
    "df_geo = df_geo.withColumn(\"coordinates\", array(col(\"latitude\"), col(\"longitude\")))\n",
    "\n",
    "# dropping columns\n",
    "df_geo = df_geo.drop(\"latitude\", \"longitude\")\n",
    "df_geo = df_geo.withColumn(\"timestamp\", col(\"timestamp\").cast(\"timestamp\"))\n",
    "df_geo = df_geo.dropDuplicates([\"ind\",\"country\", \"coordinates\", \"timestamp\"])\n",
    "# df_geo = df_geo.na.drop()\n",
    "\n",
    "geo_reorder_col = [\"ind\", \"country\", \"coordinates\", \"timestamp\"]\n",
    "df_geo = df_geo.select(geo_reorder_col)\n",
    "\n",
    "df_geo = df_geo.sort(\"country\")\n",
    "\n",
    "# Show the table of the Geolocation data\n",
    "# display(df_geo)"
   ]
  },
  {
   "cell_type": "code",
   "execution_count": null,
   "metadata": {
    "application/vnd.databricks.v1+cell": {
     "cellMetadata": {
      "byteLimit": 2048000,
      "rowLimit": 10000
     },
     "inputWidgets": {},
     "nuid": "4a8b7c4f-1f6e-45a3-aff6-36e493d646de",
     "showTitle": false,
     "title": ""
    }
   },
   "outputs": [
    {
     "data": {
      "text/html": [
       "<style scoped>\n",
       "  .ansiout {\n",
       "    display: block;\n",
       "    unicode-bidi: embed;\n",
       "    white-space: pre-wrap;\n",
       "    word-wrap: break-word;\n",
       "    word-break: break-all;\n",
       "    font-family: \"Menlo\", \"Monaco\", \"Consolas\", \"Ubuntu Mono\", \"Source Code Pro\", monospace;\n",
       "    font-size: 13px;\n",
       "    color: #555;\n",
       "    margin-left: 4px;\n",
       "    line-height: 19px;\n",
       "  }\n",
       "</style>\n",
       "<div class=\"ansiout\"></div>"
      ]
     },
     "metadata": {
      "application/vnd.databricks.v1+output": {
       "addedWidgets": {},
       "arguments": {},
       "data": "<div class=\"ansiout\"></div>",
       "datasetInfos": [],
       "metadata": {},
       "removedWidgets": [],
       "type": "html"
      }
     },
     "output_type": "display_data"
    }
   ],
   "source": [
    "# create path to topic files and asterisk (*) will read all the contents for that particular .json file extension\n",
    "file_location = \"/mnt/user-0e0816526d11-bucket/topics/0e0816526d11.user/partition=0/*.json\"\n",
    "# specify file type\n",
    "file_type = \"json\"\n",
    "# Ask Spark to infer the schema\n",
    "infer_schema = \"true\"\n",
    "# load JSONs from mounted S3 bucket to Spark dataframe\n",
    "df_user = spark.read.format(file_type) \\\n",
    "    .option(\"inferSchema\", infer_schema) \\\n",
    "    .load(file_location)\n",
    "\n",
    "df_user = df_user.withColumn(\"user_name\", concat(col(\"first_name\"),lit(\" \"),col(\"last_name\")))\n",
    "df_user = df_user.drop(\"first_name\",\"last_name\",\"index\")\n",
    "df_user = df_user.withColumn(\"date_joined\", col(\"date_joined\").cast(\"timestamp\"))\n",
    "df_user = df_user.dropDuplicates([\"user_name\", \"age\", \"date_joined\"])\n",
    "df_user = df_user.na.drop()\n",
    "\n",
    "user_reorder_col = [\"ind\",\"user_name\",\"age\",\"date_joined\"]\n",
    "df_user = df_user.select(user_reorder_col)\n",
    "\n",
    "df_user = df_user.sort(\"user_name\")\n",
    "\n",
    "# Show the table of the User data\n",
    "# display(df_user)"
   ]
  },
  {
   "cell_type": "code",
   "execution_count": null,
   "metadata": {
    "application/vnd.databricks.v1+cell": {
     "cellMetadata": {
      "byteLimit": 2048000,
      "rowLimit": 10000
     },
     "inputWidgets": {},
     "nuid": "9f9e79d5-1138-4450-8d6d-bd2b9a47ab9a",
     "showTitle": false,
     "title": ""
    }
   },
   "outputs": [
    {
     "data": {
      "text/html": [
       "<style scoped>\n",
       "  .ansiout {\n",
       "    display: block;\n",
       "    unicode-bidi: embed;\n",
       "    white-space: pre-wrap;\n",
       "    word-wrap: break-word;\n",
       "    word-break: break-all;\n",
       "    font-family: \"Menlo\", \"Monaco\", \"Consolas\", \"Ubuntu Mono\", \"Source Code Pro\", monospace;\n",
       "    font-size: 13px;\n",
       "    color: #555;\n",
       "    margin-left: 4px;\n",
       "    line-height: 19px;\n",
       "  }\n",
       "</style>\n",
       "<div class=\"ansiout\">/mnt/user-0e0816526d11-bucket has been unmounted.\n",
       "Out[1]: True</div>"
      ]
     },
     "metadata": {
      "application/vnd.databricks.v1+output": {
       "addedWidgets": {},
       "arguments": {},
       "data": "<div class=\"ansiout\">/mnt/user-0e0816526d11-bucket has been unmounted.\nOut[1]: True</div>",
       "datasetInfos": [],
       "metadata": {},
       "removedWidgets": [],
       "type": "html"
      }
     },
     "output_type": "display_data"
    }
   ],
   "source": [
    "# dbutils.fs.unmount(\"/mnt/user-0e0816526d11-bucket\")"
   ]
  },
  {
   "cell_type": "code",
   "execution_count": null,
   "metadata": {
    "application/vnd.databricks.v1+cell": {
     "cellMetadata": {
      "byteLimit": 2048000,
      "rowLimit": 10000
     },
     "inputWidgets": {},
     "nuid": "167bf941-7e85-4327-924e-c3eb40867d3e",
     "showTitle": false,
     "title": ""
    }
   },
   "outputs": [
    {
     "data": {
      "text/html": [
       "<style scoped>\n",
       "  .table-result-container {\n",
       "    max-height: 300px;\n",
       "    overflow: auto;\n",
       "  }\n",
       "  table, th, td {\n",
       "    border: 1px solid black;\n",
       "    border-collapse: collapse;\n",
       "  }\n",
       "  th, td {\n",
       "    padding: 5px;\n",
       "  }\n",
       "  th {\n",
       "    text-align: left;\n",
       "  }\n",
       "</style><div class='table-result-container'><table class='table-result'><thead style='background-color: white'><tr><th>country</th><th>category</th><th>category_count</th></tr></thead><tbody><tr><td>Australia</td><td>mens-fashion</td><td>2</td></tr><tr><td>Austria</td><td>travel</td><td>2</td></tr><tr><td>Armenia</td><td>diy-and-crafts</td><td>2</td></tr><tr><td>India</td><td>travel</td><td>1</td></tr><tr><td>French Guiana</td><td>quotes</td><td>1</td></tr><tr><td>Cocos (Keeling) Islands</td><td>vehicles</td><td>1</td></tr><tr><td>Cambodia</td><td>diy-and-crafts</td><td>1</td></tr><tr><td>Grenada</td><td>vehicles</td><td>1</td></tr><tr><td>Armenia</td><td>christmas</td><td>1</td></tr><tr><td>Central African Republic</td><td>christmas</td><td>1</td></tr><tr><td>New Caledonia</td><td>mens-fashion</td><td>1</td></tr><tr><td>Madagascar</td><td>event-planning</td><td>1</td></tr><tr><td>Isle of Man</td><td>finance</td><td>1</td></tr><tr><td>Mozambique</td><td>home-decor</td><td>1</td></tr><tr><td>Aruba</td><td>tattoos</td><td>1</td></tr><tr><td>Tonga</td><td>beauty</td><td>1</td></tr><tr><td>Jamaica</td><td>vehicles</td><td>1</td></tr><tr><td>Dominican Republic</td><td>travel</td><td>1</td></tr><tr><td>Barbados</td><td>art</td><td>1</td></tr><tr><td>Armenia</td><td>beauty</td><td>1</td></tr><tr><td>American Samoa</td><td>travel</td><td>1</td></tr><tr><td>Aruba</td><td>mens-fashion</td><td>1</td></tr><tr><td>Armenia</td><td>art</td><td>1</td></tr><tr><td>American Samoa</td><td>beauty</td><td>1</td></tr><tr><td>Seychelles</td><td>tattoos</td><td>1</td></tr><tr><td>Isle of Man</td><td>art</td><td>1</td></tr><tr><td>Afghanistan</td><td>education</td><td>1</td></tr><tr><td>Botswana</td><td>tattoos</td><td>1</td></tr><tr><td>Colombia</td><td>finance</td><td>1</td></tr><tr><td>Bhutan</td><td>diy-and-crafts</td><td>1</td></tr><tr><td>Angola</td><td>diy-and-crafts</td><td>1</td></tr><tr><td>Bermuda</td><td>christmas</td><td>1</td></tr><tr><td>Papua New Guinea</td><td>quotes</td><td>1</td></tr><tr><td>Saint Kitts and Nevis</td><td>vehicles</td><td>1</td></tr><tr><td>Andorra</td><td>art</td><td>1</td></tr><tr><td>Bangladesh</td><td>art</td><td>1</td></tr><tr><td>Netherlands Antilles</td><td>art</td><td>1</td></tr><tr><td>British Virgin Islands</td><td>christmas</td><td>1</td></tr><tr><td>Montserrat</td><td>art</td><td>1</td></tr><tr><td>Cote d'Ivoire</td><td>education</td><td>1</td></tr><tr><td>Congo</td><td>art</td><td>1</td></tr><tr><td>Australia</td><td>education</td><td>1</td></tr><tr><td>Antigua and Barbuda</td><td>quotes</td><td>1</td></tr><tr><td>Anguilla</td><td>beauty</td><td>1</td></tr><tr><td>Albania</td><td>christmas</td><td>1</td></tr><tr><td>Algeria</td><td>beauty</td><td>1</td></tr><tr><td>Aruba</td><td>education</td><td>1</td></tr><tr><td>Aruba</td><td>event-planning</td><td>1</td></tr><tr><td>Australia</td><td>travel</td><td>1</td></tr><tr><td>Guinea-Bissau</td><td>tattoos</td><td>1</td></tr><tr><td>Bahrain</td><td>finance</td><td>1</td></tr><tr><td>Germany</td><td>event-planning</td><td>1</td></tr><tr><td>Maldives</td><td>finance</td><td>1</td></tr><tr><td>Albania</td><td>art</td><td>1</td></tr><tr><td>Mauritania</td><td>education</td><td>1</td></tr><tr><td>Barbados</td><td>travel</td><td>1</td></tr><tr><td>Cape Verde</td><td>home-decor</td><td>1</td></tr><tr><td>Philippines</td><td>event-planning</td><td>1</td></tr><tr><td>Cote d'Ivoire</td><td>diy-and-crafts</td><td>1</td></tr><tr><td>Christmas Island</td><td>christmas</td><td>1</td></tr><tr><td>Algeria</td><td>travel</td><td>1</td></tr><tr><td>Egypt</td><td>diy-and-crafts</td><td>1</td></tr><tr><td>Azerbaijan</td><td>event-planning</td><td>1</td></tr><tr><td>Algeria</td><td>quotes</td><td>1</td></tr><tr><td>Antigua and Barbuda</td><td>tattoos</td><td>1</td></tr><tr><td>Anguilla</td><td>home-decor</td><td>1</td></tr><tr><td>Sudan</td><td>mens-fashion</td><td>1</td></tr><tr><td>Afghanistan</td><td>art</td><td>1</td></tr><tr><td>Argentina</td><td>beauty</td><td>1</td></tr><tr><td>Antarctica (the territory South of 60 deg S)</td><td>christmas</td><td>1</td></tr><tr><td>Bulgaria</td><td>finance</td><td>1</td></tr><tr><td>Turkey</td><td>education</td><td>1</td></tr><tr><td>Argentina</td><td>tattoos</td><td>1</td></tr></tbody></table></div>"
      ]
     },
     "metadata": {
      "application/vnd.databricks.v1+output": {
       "addedWidgets": {},
       "aggData": [],
       "aggError": "",
       "aggOverflow": false,
       "aggSchema": [],
       "aggSeriesLimitReached": false,
       "aggType": "",
       "arguments": {},
       "columnCustomDisplayInfos": {},
       "data": [
        [
         "Australia",
         "mens-fashion",
         2
        ],
        [
         "Austria",
         "travel",
         2
        ],
        [
         "Armenia",
         "diy-and-crafts",
         2
        ],
        [
         "India",
         "travel",
         1
        ],
        [
         "French Guiana",
         "quotes",
         1
        ],
        [
         "Cocos (Keeling) Islands",
         "vehicles",
         1
        ],
        [
         "Cambodia",
         "diy-and-crafts",
         1
        ],
        [
         "Grenada",
         "vehicles",
         1
        ],
        [
         "Armenia",
         "christmas",
         1
        ],
        [
         "Central African Republic",
         "christmas",
         1
        ],
        [
         "New Caledonia",
         "mens-fashion",
         1
        ],
        [
         "Madagascar",
         "event-planning",
         1
        ],
        [
         "Isle of Man",
         "finance",
         1
        ],
        [
         "Mozambique",
         "home-decor",
         1
        ],
        [
         "Aruba",
         "tattoos",
         1
        ],
        [
         "Tonga",
         "beauty",
         1
        ],
        [
         "Jamaica",
         "vehicles",
         1
        ],
        [
         "Dominican Republic",
         "travel",
         1
        ],
        [
         "Barbados",
         "art",
         1
        ],
        [
         "Armenia",
         "beauty",
         1
        ],
        [
         "American Samoa",
         "travel",
         1
        ],
        [
         "Aruba",
         "mens-fashion",
         1
        ],
        [
         "Armenia",
         "art",
         1
        ],
        [
         "American Samoa",
         "beauty",
         1
        ],
        [
         "Seychelles",
         "tattoos",
         1
        ],
        [
         "Isle of Man",
         "art",
         1
        ],
        [
         "Afghanistan",
         "education",
         1
        ],
        [
         "Botswana",
         "tattoos",
         1
        ],
        [
         "Colombia",
         "finance",
         1
        ],
        [
         "Bhutan",
         "diy-and-crafts",
         1
        ],
        [
         "Angola",
         "diy-and-crafts",
         1
        ],
        [
         "Bermuda",
         "christmas",
         1
        ],
        [
         "Papua New Guinea",
         "quotes",
         1
        ],
        [
         "Saint Kitts and Nevis",
         "vehicles",
         1
        ],
        [
         "Andorra",
         "art",
         1
        ],
        [
         "Bangladesh",
         "art",
         1
        ],
        [
         "Netherlands Antilles",
         "art",
         1
        ],
        [
         "British Virgin Islands",
         "christmas",
         1
        ],
        [
         "Montserrat",
         "art",
         1
        ],
        [
         "Cote d'Ivoire",
         "education",
         1
        ],
        [
         "Congo",
         "art",
         1
        ],
        [
         "Australia",
         "education",
         1
        ],
        [
         "Antigua and Barbuda",
         "quotes",
         1
        ],
        [
         "Anguilla",
         "beauty",
         1
        ],
        [
         "Albania",
         "christmas",
         1
        ],
        [
         "Algeria",
         "beauty",
         1
        ],
        [
         "Aruba",
         "education",
         1
        ],
        [
         "Aruba",
         "event-planning",
         1
        ],
        [
         "Australia",
         "travel",
         1
        ],
        [
         "Guinea-Bissau",
         "tattoos",
         1
        ],
        [
         "Bahrain",
         "finance",
         1
        ],
        [
         "Germany",
         "event-planning",
         1
        ],
        [
         "Maldives",
         "finance",
         1
        ],
        [
         "Albania",
         "art",
         1
        ],
        [
         "Mauritania",
         "education",
         1
        ],
        [
         "Barbados",
         "travel",
         1
        ],
        [
         "Cape Verde",
         "home-decor",
         1
        ],
        [
         "Philippines",
         "event-planning",
         1
        ],
        [
         "Cote d'Ivoire",
         "diy-and-crafts",
         1
        ],
        [
         "Christmas Island",
         "christmas",
         1
        ],
        [
         "Algeria",
         "travel",
         1
        ],
        [
         "Egypt",
         "diy-and-crafts",
         1
        ],
        [
         "Azerbaijan",
         "event-planning",
         1
        ],
        [
         "Algeria",
         "quotes",
         1
        ],
        [
         "Antigua and Barbuda",
         "tattoos",
         1
        ],
        [
         "Anguilla",
         "home-decor",
         1
        ],
        [
         "Sudan",
         "mens-fashion",
         1
        ],
        [
         "Afghanistan",
         "art",
         1
        ],
        [
         "Argentina",
         "beauty",
         1
        ],
        [
         "Antarctica (the territory South of 60 deg S)",
         "christmas",
         1
        ],
        [
         "Bulgaria",
         "finance",
         1
        ],
        [
         "Turkey",
         "education",
         1
        ],
        [
         "Argentina",
         "tattoos",
         1
        ]
       ],
       "datasetInfos": [],
       "dbfsResultPath": null,
       "isJsonSchema": true,
       "metadata": {},
       "overflow": false,
       "plotOptions": {
        "customPlotOptions": {},
        "displayType": "table",
        "pivotAggregation": null,
        "pivotColumns": null,
        "xColumns": null,
        "yColumns": null
       },
       "removedWidgets": [],
       "schema": [
        {
         "metadata": "{}",
         "name": "country",
         "type": "\"string\""
        },
        {
         "metadata": "{}",
         "name": "category",
         "type": "\"string\""
        },
        {
         "metadata": "{}",
         "name": "category_count",
         "type": "\"long\""
        }
       ],
       "type": "table"
      }
     },
     "output_type": "display_data"
    }
   ],
   "source": [
    "# Finding the most popular Pinterest category in each country.\n",
    "\n",
    "df_pin_geo = df_pin.join(df_geo, \"ind\").groupBy(df_geo.country, df_pin.category).agg(count(\"category\").alias(\"category_count\")).orderBy(desc(\"category_count\"))\n",
    "\n",
    "display(df_pin_geo)\n"
   ]
  },
  {
   "cell_type": "code",
   "execution_count": null,
   "metadata": {
    "application/vnd.databricks.v1+cell": {
     "cellMetadata": {
      "byteLimit": 2048000,
      "rowLimit": 10000
     },
     "inputWidgets": {},
     "nuid": "3369ed5d-c8c7-416c-aad9-ba54cff60d2d",
     "showTitle": false,
     "title": ""
    }
   },
   "outputs": [
    {
     "data": {
      "text/html": [
       "<style scoped>\n",
       "  .table-result-container {\n",
       "    max-height: 300px;\n",
       "    overflow: auto;\n",
       "  }\n",
       "  table, th, td {\n",
       "    border: 1px solid black;\n",
       "    border-collapse: collapse;\n",
       "  }\n",
       "  th, td {\n",
       "    padding: 5px;\n",
       "  }\n",
       "  th {\n",
       "    text-align: left;\n",
       "  }\n",
       "</style><div class='table-result-container'><table class='table-result'><thead style='background-color: white'><tr><th>post_year</th><th>category</th><th>category_count</th></tr></thead><tbody><tr><td>2022</td><td>beauty</td><td>2</td></tr><tr><td>2021</td><td>event-planning</td><td>1</td></tr><tr><td>2020</td><td>diy-and-crafts</td><td>1</td></tr><tr><td>2019</td><td>christmas</td><td>2</td></tr><tr><td>2018</td><td>mens-fashion</td><td>2</td></tr></tbody></table></div>"
      ]
     },
     "metadata": {
      "application/vnd.databricks.v1+output": {
       "addedWidgets": {},
       "aggData": [],
       "aggError": "",
       "aggOverflow": false,
       "aggSchema": [],
       "aggSeriesLimitReached": false,
       "aggType": "",
       "arguments": {},
       "columnCustomDisplayInfos": {},
       "data": [
        [
         2022,
         "beauty",
         2
        ],
        [
         2021,
         "event-planning",
         1
        ],
        [
         2020,
         "diy-and-crafts",
         1
        ],
        [
         2019,
         "christmas",
         2
        ],
        [
         2018,
         "mens-fashion",
         2
        ]
       ],
       "datasetInfos": [],
       "dbfsResultPath": null,
       "isJsonSchema": true,
       "metadata": {},
       "overflow": false,
       "plotOptions": {
        "customPlotOptions": {},
        "displayType": "table",
        "pivotAggregation": null,
        "pivotColumns": null,
        "xColumns": null,
        "yColumns": null
       },
       "removedWidgets": [],
       "schema": [
        {
         "metadata": "{}",
         "name": "post_year",
         "type": "\"integer\""
        },
        {
         "metadata": "{}",
         "name": "category",
         "type": "\"string\""
        },
        {
         "metadata": "{}",
         "name": "category_count",
         "type": "\"long\""
        }
       ],
       "type": "table"
      }
     },
     "output_type": "display_data"
    }
   ],
   "source": [
    "# Finding the most popular category each year\n",
    "\n",
    "df_post_year = df_pin.join(df_geo, \"ind\").groupBy(year(\"timestamp\").alias(\"post_year\"), \"category\").agg(count(\"category\").alias(\"category_count\"))\n",
    "\n",
    "post_year_filter = df_post_year.filter((col(\"post_year\") >= 2018) & (col(\"post_year\") <= 2022))\n",
    "\n",
    "popular_cat_each_year = post_year_filter.groupBy(\"post_year\").agg(first(\"category\").alias(\"category\"), first(\"category_count\").alias(\"category_count\")).orderBy(desc(\"post_year\"))\n",
    "\n",
    "display(popular_cat_each_year)"
   ]
  },
  {
   "cell_type": "code",
   "execution_count": null,
   "metadata": {
    "application/vnd.databricks.v1+cell": {
     "cellMetadata": {
      "byteLimit": 2048000,
      "rowLimit": 10000
     },
     "inputWidgets": {},
     "nuid": "a69ab11e-269f-4cbb-971f-d30a667a4cee",
     "showTitle": false,
     "title": ""
    }
   },
   "outputs": [
    {
     "data": {
      "text/html": [
       "<style scoped>\n",
       "  .table-result-container {\n",
       "    max-height: 300px;\n",
       "    overflow: auto;\n",
       "  }\n",
       "  table, th, td {\n",
       "    border: 1px solid black;\n",
       "    border-collapse: collapse;\n",
       "  }\n",
       "  th, td {\n",
       "    padding: 5px;\n",
       "  }\n",
       "  th {\n",
       "    text-align: left;\n",
       "  }\n",
       "</style><div class='table-result-container'><table class='table-result'><thead style='background-color: white'><tr><th>country</th><th>poster_name</th><th>follower_count</th></tr></thead><tbody><tr><td>Azerbaijan</td><td>Style Me Pretty</td><td>6000000</td></tr><tr><td>American Samoa</td><td>BuzzFeed</td><td>5000000</td></tr><tr><td>Christmas Island</td><td>Instructables</td><td>3000000</td></tr><tr><td>Bangladesh</td><td>Architectural Digest</td><td>3000000</td></tr><tr><td>Afghanistan</td><td>Walmart</td><td>2000000</td></tr><tr><td>Andorra</td><td>Teachers Pay Teachers</td><td>1000000</td></tr><tr><td>Australia</td><td>Cultura Colectiva</td><td>1000000</td></tr><tr><td>Armenia</td><td>Michelle {CraftyMorning.com}</td><td>892000</td></tr><tr><td>Central African Republic</td><td>PureWow</td><td>868000</td></tr><tr><td>Argentina</td><td>Next Luxury</td><td>800000</td></tr><tr><td>Armenia</td><td>ArchitectureArtDesigns</td><td>616000</td></tr><tr><td>Angola</td><td>CraftGossip.com</td><td>502000</td></tr><tr><td>Antarctica (the territory South of 60 deg S)</td><td>HikenDip</td><td>500000</td></tr><tr><td>Barbados</td><td>The Creativity Exchange</td><td>410000</td></tr><tr><td>Maldives</td><td>Passion For Savings</td><td>330000</td></tr><tr><td>Algeria</td><td>ELLE Germany</td><td>326000</td></tr><tr><td>Antigua and Barbuda</td><td>Sumcoco | Decor Ideas, Hairstyles, Nails Fashion Advice</td><td>306000</td></tr><tr><td>British Virgin Islands</td><td>Kitchen Fun With My 3 Sons</td><td>245000</td></tr><tr><td>Aruba</td><td>TheTrendSpotter</td><td>211000</td></tr><tr><td>Cote d'Ivoire</td><td>The Crafting Chicks</td><td>192000</td></tr><tr><td>Cape Verde</td><td>Sand and Sisal</td><td>178000</td></tr><tr><td>Saint Kitts and Nevis</td><td>vintagetopia</td><td>171000</td></tr><tr><td>Algeria</td><td>Fun Life Crisis</td><td>130000</td></tr><tr><td>Armenia</td><td>Of Life & Lisa | Lifestyle Blog</td><td>124000</td></tr><tr><td>Madagascar</td><td>MomAdvice</td><td>112000</td></tr><tr><td>Aruba</td><td>The Work at Home Woman</td><td>110000</td></tr><tr><td>Anguilla</td><td>Kristen | Lifestyle, Mom Tips & Teacher Stuff Blog</td><td>92000</td></tr><tr><td>Austria</td><td>The World Pursuit Travel Website</td><td>89000</td></tr><tr><td>Anguilla</td><td>Thank Your Body</td><td>85000</td></tr><tr><td>Mozambique</td><td>Stylin by Aylin</td><td>83000</td></tr><tr><td>Isle of Man</td><td>Abbotts At Home</td><td>52000</td></tr><tr><td>French Guiana</td><td>Commitment Connection</td><td>51000</td></tr><tr><td>Bermuda</td><td>Life on Summerhill | Home, Holiday Decor & DIY Website</td><td>46000</td></tr><tr><td>Bahrain</td><td>R.J. Weiss at The Ways To Wealth | Personal Finance | Debt Payoff</td><td>46000</td></tr><tr><td>Algeria</td><td>Boss Babe Chronicles | Personal Development, Finances, Self Care</td><td>45000</td></tr><tr><td>American Samoa</td><td>TheFab20s | Travel+Food+DIY+Listicles</td><td>42000</td></tr><tr><td>Barbados</td><td>Nicki </td><td>28000</td></tr><tr><td>Australia</td><td>LLEGANCE | Workwear Fashion Woman Advice For Driven Professionals</td><td>28000</td></tr><tr><td>Congo</td><td>Shawn Petite</td><td>27000</td></tr><tr><td>Afghanistan</td><td>It's me, JD | DIY, Crafts, Home & Organization</td><td>27000</td></tr><tr><td>Bulgaria</td><td>Living Low Key | Save Money, Make Money, & Frugal Living</td><td>26000</td></tr><tr><td>Armenia</td><td>The Arty Teacher</td><td>25000</td></tr><tr><td>Cote d'Ivoire</td><td>Math Giraffe</td><td>25000</td></tr><tr><td>Mauritania</td><td>The Literacy Nest</td><td>22000</td></tr><tr><td>Australia</td><td>Jess Wandering</td><td>22000</td></tr><tr><td>Seychelles</td><td>ALL FOR WOMAN</td><td>21000</td></tr><tr><td>Albania</td><td>Projects with Kids</td><td>20000</td></tr><tr><td>Aruba</td><td>Traci Bender - The Bender Bunch</td><td>11000</td></tr><tr><td>Austria</td><td>Wanderlust Chloe ✈️ Travel guides, inspo and adventure travel ✈️</td><td>10000</td></tr><tr><td>Turkey</td><td>My Little Poppies (Cait Curley, MA/CAGS)</td><td>9000</td></tr><tr><td>Egypt</td><td>South Lumina Style</td><td>9000</td></tr><tr><td>Armenia</td><td>Jiew82633</td><td>8000</td></tr><tr><td>Jamaica</td><td>hobbyDB</td><td>8000</td></tr><tr><td>Netherlands Antilles</td><td>Kim Cook-Thirteen Chairs-Slates Mugs And Tees</td><td>7000</td></tr><tr><td>India</td><td>Travel Mad Mum</td><td>7000</td></tr><tr><td>Cambodia</td><td>Mixed Media Crafts</td><td>6000</td></tr><tr><td>Australia</td><td>Write Your Story | Budgeting, Healthy Lifestyle, Faith</td><td>5000</td></tr><tr><td>Germany</td><td>QC Career School</td><td>5000</td></tr><tr><td>Botswana</td><td>RapidLeaks</td><td>4000</td></tr><tr><td>Montserrat</td><td>Taming Little Monsters - Fun Activities for Kids</td><td>4000</td></tr><tr><td>Bhutan</td><td>Kids Crafts & Free Preschool Printables- Sharing Our Experiences</td><td>3000</td></tr><tr><td>Argentina</td><td>Tony</td><td>3000</td></tr><tr><td>Dominican Republic</td><td>Petite in Paris</td><td>3000</td></tr><tr><td>Sudan</td><td>iElylike ..✿◕‿◕✿ஐ✿◕‿◕✿</td><td>940</td></tr><tr><td>Cocos (Keeling) Islands</td><td>Ray Uyemura</td><td>437</td></tr><tr><td>New Caledonia</td><td>Au'vey Smith</td><td>377</td></tr><tr><td>Grenada</td><td>p hump</td><td>314</td></tr><tr><td>Isle of Man</td><td>Annamarie Hilton</td><td>313</td></tr><tr><td>Papua New Guinea</td><td>AnnaLee Kick</td><td>112</td></tr><tr><td>Philippines</td><td>Life of Neon | Custom Neon Light Signs | Home Decor Wall Art</td><td>111</td></tr><tr><td>Aruba</td><td>Mala Rock | Rock T-shirts</td><td>27</td></tr><tr><td>Tonga</td><td>Grecia Perales</td><td>0</td></tr><tr><td>Guinea-Bissau</td><td>Livitrevisani</td><td>0</td></tr><tr><td>Colombia</td><td>Consuelo Aguirre</td><td>0</td></tr></tbody></table></div>"
      ]
     },
     "metadata": {
      "application/vnd.databricks.v1+output": {
       "addedWidgets": {},
       "aggData": [],
       "aggError": "",
       "aggOverflow": false,
       "aggSchema": [],
       "aggSeriesLimitReached": false,
       "aggType": "",
       "arguments": {},
       "columnCustomDisplayInfos": {},
       "data": [
        [
         "Azerbaijan",
         "Style Me Pretty",
         6000000
        ],
        [
         "American Samoa",
         "BuzzFeed",
         5000000
        ],
        [
         "Christmas Island",
         "Instructables",
         3000000
        ],
        [
         "Bangladesh",
         "Architectural Digest",
         3000000
        ],
        [
         "Afghanistan",
         "Walmart",
         2000000
        ],
        [
         "Andorra",
         "Teachers Pay Teachers",
         1000000
        ],
        [
         "Australia",
         "Cultura Colectiva",
         1000000
        ],
        [
         "Armenia",
         "Michelle {CraftyMorning.com}",
         892000
        ],
        [
         "Central African Republic",
         "PureWow",
         868000
        ],
        [
         "Argentina",
         "Next Luxury",
         800000
        ],
        [
         "Armenia",
         "ArchitectureArtDesigns",
         616000
        ],
        [
         "Angola",
         "CraftGossip.com",
         502000
        ],
        [
         "Antarctica (the territory South of 60 deg S)",
         "HikenDip",
         500000
        ],
        [
         "Barbados",
         "The Creativity Exchange",
         410000
        ],
        [
         "Maldives",
         "Passion For Savings",
         330000
        ],
        [
         "Algeria",
         "ELLE Germany",
         326000
        ],
        [
         "Antigua and Barbuda",
         "Sumcoco | Decor Ideas, Hairstyles, Nails Fashion Advice",
         306000
        ],
        [
         "British Virgin Islands",
         "Kitchen Fun With My 3 Sons",
         245000
        ],
        [
         "Aruba",
         "TheTrendSpotter",
         211000
        ],
        [
         "Cote d'Ivoire",
         "The Crafting Chicks",
         192000
        ],
        [
         "Cape Verde",
         "Sand and Sisal",
         178000
        ],
        [
         "Saint Kitts and Nevis",
         "vintagetopia",
         171000
        ],
        [
         "Algeria",
         "Fun Life Crisis",
         130000
        ],
        [
         "Armenia",
         "Of Life & Lisa | Lifestyle Blog",
         124000
        ],
        [
         "Madagascar",
         "MomAdvice",
         112000
        ],
        [
         "Aruba",
         "The Work at Home Woman",
         110000
        ],
        [
         "Anguilla",
         "Kristen | Lifestyle, Mom Tips & Teacher Stuff Blog",
         92000
        ],
        [
         "Austria",
         "The World Pursuit Travel Website",
         89000
        ],
        [
         "Anguilla",
         "Thank Your Body",
         85000
        ],
        [
         "Mozambique",
         "Stylin by Aylin",
         83000
        ],
        [
         "Isle of Man",
         "Abbotts At Home",
         52000
        ],
        [
         "French Guiana",
         "Commitment Connection",
         51000
        ],
        [
         "Bermuda",
         "Life on Summerhill | Home, Holiday Decor & DIY Website",
         46000
        ],
        [
         "Bahrain",
         "R.J. Weiss at The Ways To Wealth | Personal Finance | Debt Payoff",
         46000
        ],
        [
         "Algeria",
         "Boss Babe Chronicles | Personal Development, Finances, Self Care",
         45000
        ],
        [
         "American Samoa",
         "TheFab20s | Travel+Food+DIY+Listicles",
         42000
        ],
        [
         "Barbados",
         "Nicki ",
         28000
        ],
        [
         "Australia",
         "LLEGANCE | Workwear Fashion Woman Advice For Driven Professionals",
         28000
        ],
        [
         "Congo",
         "Shawn Petite",
         27000
        ],
        [
         "Afghanistan",
         "It's me, JD | DIY, Crafts, Home & Organization",
         27000
        ],
        [
         "Bulgaria",
         "Living Low Key | Save Money, Make Money, & Frugal Living",
         26000
        ],
        [
         "Armenia",
         "The Arty Teacher",
         25000
        ],
        [
         "Cote d'Ivoire",
         "Math Giraffe",
         25000
        ],
        [
         "Mauritania",
         "The Literacy Nest",
         22000
        ],
        [
         "Australia",
         "Jess Wandering",
         22000
        ],
        [
         "Seychelles",
         "ALL FOR WOMAN",
         21000
        ],
        [
         "Albania",
         "Projects with Kids",
         20000
        ],
        [
         "Aruba",
         "Traci Bender - The Bender Bunch",
         11000
        ],
        [
         "Austria",
         "Wanderlust Chloe ✈️ Travel guides, inspo and adventure travel ✈️",
         10000
        ],
        [
         "Turkey",
         "My Little Poppies (Cait Curley, MA/CAGS)",
         9000
        ],
        [
         "Egypt",
         "South Lumina Style",
         9000
        ],
        [
         "Armenia",
         "Jiew82633",
         8000
        ],
        [
         "Jamaica",
         "hobbyDB",
         8000
        ],
        [
         "Netherlands Antilles",
         "Kim Cook-Thirteen Chairs-Slates Mugs And Tees",
         7000
        ],
        [
         "India",
         "Travel Mad Mum",
         7000
        ],
        [
         "Cambodia",
         "Mixed Media Crafts",
         6000
        ],
        [
         "Australia",
         "Write Your Story | Budgeting, Healthy Lifestyle, Faith",
         5000
        ],
        [
         "Germany",
         "QC Career School",
         5000
        ],
        [
         "Botswana",
         "RapidLeaks",
         4000
        ],
        [
         "Montserrat",
         "Taming Little Monsters - Fun Activities for Kids",
         4000
        ],
        [
         "Bhutan",
         "Kids Crafts & Free Preschool Printables- Sharing Our Experiences",
         3000
        ],
        [
         "Argentina",
         "Tony",
         3000
        ],
        [
         "Dominican Republic",
         "Petite in Paris",
         3000
        ],
        [
         "Sudan",
         "iElylike ..✿◕‿◕✿ஐ✿◕‿◕✿",
         940
        ],
        [
         "Cocos (Keeling) Islands",
         "Ray Uyemura",
         437
        ],
        [
         "New Caledonia",
         "Au'vey Smith",
         377
        ],
        [
         "Grenada",
         "p hump",
         314
        ],
        [
         "Isle of Man",
         "Annamarie Hilton",
         313
        ],
        [
         "Papua New Guinea",
         "AnnaLee Kick",
         112
        ],
        [
         "Philippines",
         "Life of Neon | Custom Neon Light Signs | Home Decor Wall Art",
         111
        ],
        [
         "Aruba",
         "Mala Rock | Rock T-shirts",
         27
        ],
        [
         "Tonga",
         "Grecia Perales",
         0
        ],
        [
         "Guinea-Bissau",
         "Livitrevisani",
         0
        ],
        [
         "Colombia",
         "Consuelo Aguirre",
         0
        ]
       ],
       "datasetInfos": [],
       "dbfsResultPath": null,
       "isJsonSchema": true,
       "metadata": {},
       "overflow": false,
       "plotOptions": {
        "customPlotOptions": {},
        "displayType": "table",
        "pivotAggregation": null,
        "pivotColumns": null,
        "xColumns": null,
        "yColumns": null
       },
       "removedWidgets": [],
       "schema": [
        {
         "metadata": "{}",
         "name": "country",
         "type": "\"string\""
        },
        {
         "metadata": "{}",
         "name": "poster_name",
         "type": "\"string\""
        },
        {
         "metadata": "{}",
         "name": "follower_count",
         "type": "\"integer\""
        }
       ],
       "type": "table"
      }
     },
     "output_type": "display_data"
    },
    {
     "data": {
      "text/html": [
       "<style scoped>\n",
       "  .ansiout {\n",
       "    display: block;\n",
       "    unicode-bidi: embed;\n",
       "    white-space: pre-wrap;\n",
       "    word-wrap: break-word;\n",
       "    word-break: break-all;\n",
       "    font-family: \"Menlo\", \"Monaco\", \"Consolas\", \"Ubuntu Mono\", \"Source Code Pro\", monospace;\n",
       "    font-size: 13px;\n",
       "    color: #555;\n",
       "    margin-left: 4px;\n",
       "    line-height: 19px;\n",
       "  }\n",
       "</style>\n",
       "<div class=\"ansiout\">+----------+--------------+\n",
       "   country|follower_count|\n",
       "+----------+--------------+\n",
       "Azerbaijan|       6000000|\n",
       "+----------+--------------+\n",
       "only showing top 1 row\n",
       "\n",
       "</div>"
      ]
     },
     "metadata": {
      "application/vnd.databricks.v1+output": {
       "addedWidgets": {},
       "arguments": {},
       "data": "<div class=\"ansiout\">+----------+--------------+\n|   country|follower_count|\n+----------+--------------+\n|Azerbaijan|       6000000|\n+----------+--------------+\nonly showing top 1 row\n\n</div>",
       "datasetInfos": [],
       "metadata": {},
       "removedWidgets": [],
       "type": "html"
      }
     },
     "output_type": "display_data"
    }
   ],
   "source": [
    "# Finding user with most follower in each country\n",
    "\n",
    "df_c_pn_fc = df_pin.join(df_geo, \"ind\").groupBy(df_geo.country, df_pin.poster_name).agg(first(df_pin.follower_count).alias(\"follower_count\")).orderBy(desc(\"follower_count\"))\n",
    "display(df_c_pn_fc)\n",
    "\n",
    "# country with most user followers\n",
    "\n",
    "df_c_fc = df_c_pn_fc.orderBy(desc(\"follower_count\"))\n",
    "df_c_fc = df_c_fc.drop(\"poster_name\")\n",
    "df_c_fc.show(1)"
   ]
  },
  {
   "cell_type": "code",
   "execution_count": null,
   "metadata": {
    "application/vnd.databricks.v1+cell": {
     "cellMetadata": {
      "byteLimit": 2048000,
      "rowLimit": 10000
     },
     "inputWidgets": {},
     "nuid": "38ed387a-6d49-4f1a-aa8b-d805a9388a72",
     "showTitle": false,
     "title": ""
    }
   },
   "outputs": [
    {
     "data": {
      "text/html": [
       "<style scoped>\n",
       "  .table-result-container {\n",
       "    max-height: 300px;\n",
       "    overflow: auto;\n",
       "  }\n",
       "  table, th, td {\n",
       "    border: 1px solid black;\n",
       "    border-collapse: collapse;\n",
       "  }\n",
       "  th, td {\n",
       "    padding: 5px;\n",
       "  }\n",
       "  th {\n",
       "    text-align: left;\n",
       "  }\n",
       "</style><div class='table-result-container'><table class='table-result'><thead style='background-color: white'><tr><th>age_group</th><th>category</th><th>category_count</th></tr></thead><tbody><tr><td>18 - 24</td><td>christmas</td><td>6</td></tr><tr><td>25 - 35</td><td>travel</td><td>4</td></tr><tr><td>36 - 50</td><td>diy-and-crafts</td><td>3</td></tr><tr><td>Invalid</td><td>education</td><td>2</td></tr></tbody></table></div>"
      ]
     },
     "metadata": {
      "application/vnd.databricks.v1+output": {
       "addedWidgets": {},
       "aggData": [],
       "aggError": "",
       "aggOverflow": false,
       "aggSchema": [],
       "aggSeriesLimitReached": false,
       "aggType": "",
       "arguments": {},
       "columnCustomDisplayInfos": {},
       "data": [
        [
         "18 - 24",
         "christmas",
         6
        ],
        [
         "25 - 35",
         "travel",
         4
        ],
        [
         "36 - 50",
         "diy-and-crafts",
         3
        ],
        [
         "Invalid",
         "education",
         2
        ]
       ],
       "datasetInfos": [],
       "dbfsResultPath": null,
       "isJsonSchema": true,
       "metadata": {},
       "overflow": false,
       "plotOptions": {
        "customPlotOptions": {},
        "displayType": "table",
        "pivotAggregation": null,
        "pivotColumns": null,
        "xColumns": null,
        "yColumns": null
       },
       "removedWidgets": [],
       "schema": [
        {
         "metadata": "{}",
         "name": "age_group",
         "type": "\"string\""
        },
        {
         "metadata": "{}",
         "name": "category",
         "type": "\"string\""
        },
        {
         "metadata": "{}",
         "name": "category_count",
         "type": "\"long\""
        }
       ],
       "type": "table"
      }
     },
     "output_type": "display_data"
    }
   ],
   "source": [
    "# Finding the most popular category for different age groups\n",
    "\n",
    "# age groups:\n",
    "# 18 <-> 24\n",
    "# 25 <-> 35\n",
    "# 36 <-> 50\n",
    "# +50\n",
    "\n",
    "df_age_group = df_user.withColumn(\"age_group\", when((df_user.age >=18) & (df_user.age <= 24), \"18 - 24\").when((df_user.age >=25) & (df_user.age <= 35), \"25 - 35\").when((df_user.age >=36) & (df_user.age <= 50), \"36 - 50\").otherwise(\"Invalid\"))\n",
    "\n",
    "df_pin_age_group_join = df_pin.join(df_age_group, \"ind\").groupBy(df_age_group.age_group, df_pin.category).agg(count(\"*\").alias(\"category_count\")).orderBy(desc(\"category_count\"))\n",
    "\n",
    "popular_cat_by_age_group = df_pin_age_group_join.groupBy(\"age_group\").agg(first(\"category\").alias(\"category\"), first(\"category_count\").alias(\"category_count\"))\n",
    "\n",
    "display(popular_cat_by_age_group)"
   ]
  },
  {
   "cell_type": "code",
   "execution_count": null,
   "metadata": {
    "application/vnd.databricks.v1+cell": {
     "cellMetadata": {
      "byteLimit": 2048000,
      "rowLimit": 10000
     },
     "inputWidgets": {},
     "nuid": "2a367119-5ae8-4d6c-8a94-29e853b844ab",
     "showTitle": false,
     "title": ""
    }
   },
   "outputs": [
    {
     "data": {
      "text/html": [
       "<style scoped>\n",
       "  .table-result-container {\n",
       "    max-height: 300px;\n",
       "    overflow: auto;\n",
       "  }\n",
       "  table, th, td {\n",
       "    border: 1px solid black;\n",
       "    border-collapse: collapse;\n",
       "  }\n",
       "  th, td {\n",
       "    padding: 5px;\n",
       "  }\n",
       "  th {\n",
       "    text-align: left;\n",
       "  }\n",
       "</style><div class='table-result-container'><table class='table-result'><thead style='background-color: white'><tr><th>age_group</th><th>median_follower_count</th></tr></thead><tbody><tr><td>18 - 24</td><td>89000</td></tr><tr><td>25 - 35</td><td>42000</td></tr><tr><td>36 - 50</td><td>6000</td></tr><tr><td>Invalid</td><td>5000</td></tr></tbody></table></div>"
      ]
     },
     "metadata": {
      "application/vnd.databricks.v1+output": {
       "addedWidgets": {},
       "aggData": [],
       "aggError": "",
       "aggOverflow": false,
       "aggSchema": [],
       "aggSeriesLimitReached": false,
       "aggType": "",
       "arguments": {},
       "columnCustomDisplayInfos": {},
       "data": [
        [
         "18 - 24",
         89000
        ],
        [
         "25 - 35",
         42000
        ],
        [
         "36 - 50",
         6000
        ],
        [
         "Invalid",
         5000
        ]
       ],
       "datasetInfos": [],
       "dbfsResultPath": null,
       "isJsonSchema": true,
       "metadata": {},
       "overflow": false,
       "plotOptions": {
        "customPlotOptions": {},
        "displayType": "table",
        "pivotAggregation": null,
        "pivotColumns": null,
        "xColumns": null,
        "yColumns": null
       },
       "removedWidgets": [],
       "schema": [
        {
         "metadata": "{}",
         "name": "age_group",
         "type": "\"string\""
        },
        {
         "metadata": "{}",
         "name": "median_follower_count",
         "type": "\"integer\""
        }
       ],
       "type": "table"
      }
     },
     "output_type": "display_data"
    }
   ],
   "source": [
    "# Finding the median follower count for different age groups\n",
    "\n",
    "df_median = df_pin.join(df_age_group, \"ind\").groupBy(df_age_group.age_group, df_pin.follower_count).agg(count(\"*\").alias(\"median_follower_count\"))\n",
    "\n",
    "df_median_age_group = df_median.groupBy(\"age_group\").agg(expr(\"percentile_approx(follower_count, 0.5)\").alias(\"median_follower_count\")).orderBy(asc(\"age_group\"))\n",
    "\n",
    "display(df_median_age_group)\n"
   ]
  },
  {
   "cell_type": "code",
   "execution_count": null,
   "metadata": {
    "application/vnd.databricks.v1+cell": {
     "cellMetadata": {
      "byteLimit": 2048000,
      "rowLimit": 10000
     },
     "inputWidgets": {},
     "nuid": "65a8611f-0d95-4966-ad7e-177b17155f44",
     "showTitle": false,
     "title": ""
    }
   },
   "outputs": [
    {
     "data": {
      "text/html": [
       "<style scoped>\n",
       "  .table-result-container {\n",
       "    max-height: 300px;\n",
       "    overflow: auto;\n",
       "  }\n",
       "  table, th, td {\n",
       "    border: 1px solid black;\n",
       "    border-collapse: collapse;\n",
       "  }\n",
       "  th, td {\n",
       "    padding: 5px;\n",
       "  }\n",
       "  th {\n",
       "    text-align: left;\n",
       "  }\n",
       "</style><div class='table-result-container'><table class='table-result'><thead style='background-color: white'><tr><th>post_year</th><th>number_users_joined</th></tr></thead><tbody><tr><td>2017</td><td>11</td></tr><tr><td>2016</td><td>37</td></tr><tr><td>2015</td><td>30</td></tr></tbody></table></div>"
      ]
     },
     "metadata": {
      "application/vnd.databricks.v1+output": {
       "addedWidgets": {},
       "aggData": [],
       "aggError": "",
       "aggOverflow": false,
       "aggSchema": [],
       "aggSeriesLimitReached": false,
       "aggType": "",
       "arguments": {},
       "columnCustomDisplayInfos": {},
       "data": [
        [
         2017,
         11
        ],
        [
         2016,
         37
        ],
        [
         2015,
         30
        ]
       ],
       "datasetInfos": [],
       "dbfsResultPath": null,
       "isJsonSchema": true,
       "metadata": {},
       "overflow": false,
       "plotOptions": {
        "customPlotOptions": {},
        "displayType": "table",
        "pivotAggregation": null,
        "pivotColumns": null,
        "xColumns": null,
        "yColumns": null
       },
       "removedWidgets": [],
       "schema": [
        {
         "metadata": "{}",
         "name": "post_year",
         "type": "\"integer\""
        },
        {
         "metadata": "{}",
         "name": "number_users_joined",
         "type": "\"long\""
        }
       ],
       "type": "table"
      }
     },
     "output_type": "display_data"
    }
   ],
   "source": [
    "# Finding how many users have joined each year?\n",
    "\n",
    "df_user_post_year = df_user.withColumn(\"post_year\", year(\"date_joined\"))\n",
    "\n",
    "df_user_joined = df_user_post_year.groupBy(\"post_year\").agg(count(\"*\").alias(\"number_users_joined\"))\n",
    "\n",
    "user_post_year_filter = df_user_joined.filter((col(\"post_year\") >= 2015) & (col(\"post_year\") <= 2020))\n",
    "\n",
    "user_joined_each_year = user_post_year_filter.groupBy(\"post_year\").agg(first(\"number_users_joined\").alias(\"number_users_joined\")).orderBy(desc(\"post_year\"))\n",
    "\n",
    "display(user_joined_each_year)"
   ]
  },
  {
   "cell_type": "code",
   "execution_count": null,
   "metadata": {
    "application/vnd.databricks.v1+cell": {
     "cellMetadata": {
      "byteLimit": 2048000,
      "rowLimit": 10000
     },
     "inputWidgets": {},
     "nuid": "7befa7a4-55f7-464f-be64-31a20b6180e5",
     "showTitle": false,
     "title": ""
    }
   },
   "outputs": [
    {
     "data": {
      "text/html": [
       "<style scoped>\n",
       "  .table-result-container {\n",
       "    max-height: 300px;\n",
       "    overflow: auto;\n",
       "  }\n",
       "  table, th, td {\n",
       "    border: 1px solid black;\n",
       "    border-collapse: collapse;\n",
       "  }\n",
       "  th, td {\n",
       "    padding: 5px;\n",
       "  }\n",
       "  th {\n",
       "    text-align: left;\n",
       "  }\n",
       "</style><div class='table-result-container'><table class='table-result'><thead style='background-color: white'><tr><th>post_year</th><th>median_follower_count</th></tr></thead><tbody><tr><td>2017</td><td>112</td></tr><tr><td>2016</td><td>25000</td></tr><tr><td>2015</td><td>42000</td></tr></tbody></table></div>"
      ]
     },
     "metadata": {
      "application/vnd.databricks.v1+output": {
       "addedWidgets": {},
       "aggData": [],
       "aggError": "",
       "aggOverflow": false,
       "aggSchema": [],
       "aggSeriesLimitReached": false,
       "aggType": "",
       "arguments": {},
       "columnCustomDisplayInfos": {},
       "data": [
        [
         2017,
         112
        ],
        [
         2016,
         25000
        ],
        [
         2015,
         42000
        ]
       ],
       "datasetInfos": [],
       "dbfsResultPath": null,
       "isJsonSchema": true,
       "metadata": {},
       "overflow": false,
       "plotOptions": {
        "customPlotOptions": {},
        "displayType": "table",
        "pivotAggregation": null,
        "pivotColumns": null,
        "xColumns": null,
        "yColumns": null
       },
       "removedWidgets": [],
       "schema": [
        {
         "metadata": "{}",
         "name": "post_year",
         "type": "\"integer\""
        },
        {
         "metadata": "{}",
         "name": "median_follower_count",
         "type": "\"integer\""
        }
       ],
       "type": "table"
      }
     },
     "output_type": "display_data"
    }
   ],
   "source": [
    "# Finding the median follower count of users that have joined between 2015 to 2020\n",
    "\n",
    "df_pin_user_median_follower_count = df_pin.join(df_user_post_year, \"ind\").groupBy(df_user_post_year.post_year, df_pin.follower_count).agg(expr(\"percentile_approx(follower_count, 0.5)\").alias(\"median_follower_count\"))\n",
    "\n",
    "df_user_post_year_filter = df_pin_user_median_follower_count.filter((col(\"post_year\") >= 2015) & (col(\"post_year\") <= 2020))\n",
    "\n",
    "user_mfc = df_user_post_year_filter.groupBy(\"post_year\").agg(first(\"median_follower_count\").alias(\"median_follower_count\")).orderBy(desc(\"post_year\"))\n",
    "\n",
    "display(user_mfc)"
   ]
  },
  {
   "cell_type": "code",
   "execution_count": null,
   "metadata": {
    "application/vnd.databricks.v1+cell": {
     "cellMetadata": {
      "byteLimit": 2048000,
      "rowLimit": 10000
     },
     "inputWidgets": {},
     "nuid": "c3e31fb8-40fc-4aa1-bf03-80f435bb3308",
     "showTitle": false,
     "title": ""
    }
   },
   "outputs": [
    {
     "data": {
      "text/html": [
       "<style scoped>\n",
       "  .table-result-container {\n",
       "    max-height: 300px;\n",
       "    overflow: auto;\n",
       "  }\n",
       "  table, th, td {\n",
       "    border: 1px solid black;\n",
       "    border-collapse: collapse;\n",
       "  }\n",
       "  th, td {\n",
       "    padding: 5px;\n",
       "  }\n",
       "  th {\n",
       "    text-align: left;\n",
       "  }\n",
       "</style><div class='table-result-container'><table class='table-result'><thead style='background-color: white'><tr><th>age_group</th><th>post_year</th><th>median_follower_count</th></tr></thead><tbody><tr><td>18 - 24</td><td>2015</td><td>110000</td></tr><tr><td>18 - 24</td><td>2016</td><td>25000</td></tr><tr><td>18 - 24</td><td>2017</td><td>5000</td></tr><tr><td>25 - 35</td><td>2015</td><td>42000</td></tr><tr><td>25 - 35</td><td>2016</td><td>22000</td></tr><tr><td>25 - 35</td><td>2017</td><td>8000</td></tr><tr><td>36 - 50</td><td>2017</td><td>314</td></tr><tr><td>36 - 50</td><td>2015</td><td>25000</td></tr><tr><td>36 - 50</td><td>2016</td><td>7000</td></tr><tr><td>Invalid</td><td>2017</td><td>5000</td></tr><tr><td>Invalid</td><td>2016</td><td>111</td></tr><tr><td>Invalid</td><td>2015</td><td>0</td></tr></tbody></table></div>"
      ]
     },
     "metadata": {
      "application/vnd.databricks.v1+output": {
       "addedWidgets": {},
       "aggData": [],
       "aggError": "",
       "aggOverflow": false,
       "aggSchema": [],
       "aggSeriesLimitReached": false,
       "aggType": "",
       "arguments": {},
       "columnCustomDisplayInfos": {},
       "data": [
        [
         "18 - 24",
         2015,
         110000
        ],
        [
         "18 - 24",
         2016,
         25000
        ],
        [
         "18 - 24",
         2017,
         5000
        ],
        [
         "25 - 35",
         2015,
         42000
        ],
        [
         "25 - 35",
         2016,
         22000
        ],
        [
         "25 - 35",
         2017,
         8000
        ],
        [
         "36 - 50",
         2017,
         314
        ],
        [
         "36 - 50",
         2015,
         25000
        ],
        [
         "36 - 50",
         2016,
         7000
        ],
        [
         "Invalid",
         2017,
         5000
        ],
        [
         "Invalid",
         2016,
         111
        ],
        [
         "Invalid",
         2015,
         0
        ]
       ],
       "datasetInfos": [],
       "dbfsResultPath": null,
       "isJsonSchema": true,
       "metadata": {},
       "overflow": false,
       "plotOptions": {
        "customPlotOptions": {},
        "displayType": "table",
        "pivotAggregation": null,
        "pivotColumns": null,
        "xColumns": null,
        "yColumns": null
       },
       "removedWidgets": [],
       "schema": [
        {
         "metadata": "{}",
         "name": "age_group",
         "type": "\"string\""
        },
        {
         "metadata": "{}",
         "name": "post_year",
         "type": "\"integer\""
        },
        {
         "metadata": "{}",
         "name": "median_follower_count",
         "type": "\"integer\""
        }
       ],
       "type": "table"
      }
     },
     "output_type": "display_data"
    }
   ],
   "source": [
    "# Finding the median follower count of users based on their joining and age group\n",
    "\n",
    "df_pin_age_group_join2 = df_pin.join(df_age_group, \"ind\").groupBy(df_age_group.age_group, df_pin.follower_count).agg(count(\"*\").alias(\"median_follower_count\")).orderBy(desc(\"median_follower_count\"))\n",
    "\n",
    "df_pin_user_median_follower_count = df_pin.join(df_user_post_year, \"ind\").groupBy(df_user_post_year.post_year, df_pin.follower_count).agg(expr(\"percentile_approx(follower_count, 0.5)\").alias(\"median_follower_count\"))\n",
    "\n",
    "df_age_group_post_year2 = df_pin_age_group_join2.join(df_pin_user_median_follower_count, \"follower_count\").groupBy(df_pin_age_group_join2.age_group, df_pin_user_median_follower_count.post_year).agg(expr(\"percentile_approx(follower_count, 0.5)\").alias(\"median_follower_count\")).orderBy(asc(\"age_group\"))\n",
    "\n",
    "# filters the post year between 2015 to 2020\n",
    "df_age_group_post_year_filter = df_age_group_post_year2.filter((col(\"post_year\") >= 2015) & (col(\"post_year\") <= 2020))\n",
    "\n",
    "display(df_age_group_post_year_filter)"
   ]
  }
 ],
 "metadata": {
  "application/vnd.databricks.v1+notebook": {
   "dashboards": [],
   "language": "python",
   "notebookMetadata": {
    "mostRecentlyExecutedCommandWithImplicitDF": {
     "commandId": 2737424357942690,
     "dataframes": [
      "_sqldf"
     ]
    },
    "pythonIndentUnit": 4
   },
   "notebookName": "batch_cleaning_and_queries_databricks",
   "widgets": {}
  },
  "language_info": {
   "name": "python"
  }
 },
 "nbformat": 4,
 "nbformat_minor": 0
}
