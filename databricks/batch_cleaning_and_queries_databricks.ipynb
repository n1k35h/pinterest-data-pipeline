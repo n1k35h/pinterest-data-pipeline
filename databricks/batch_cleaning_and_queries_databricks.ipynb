{
 "cells": [
  {
   "cell_type": "code",
   "execution_count": 0,
   "metadata": {
    "application/vnd.databricks.v1+cell": {
     "cellMetadata": {
      "byteLimit": 2048000,
      "rowLimit": 10000
     },
     "inputWidgets": {},
     "nuid": "6473e873-56e3-4340-b276-faf921e84935",
     "showTitle": false,
     "title": ""
    }
   },
   "outputs": [
    {
     "output_type": "display_data",
     "data": {
      "text/html": [
       "<style scoped>\n",
       "  .ansiout {\n",
       "    display: block;\n",
       "    unicode-bidi: embed;\n",
       "    white-space: pre-wrap;\n",
       "    word-wrap: break-word;\n",
       "    word-break: break-all;\n",
       "    font-family: \"Menlo\", \"Monaco\", \"Consolas\", \"Ubuntu Mono\", \"Source Code Pro\", monospace;\n",
       "    font-size: 13px;\n",
       "    color: #555;\n",
       "    margin-left: 4px;\n",
       "    line-height: 19px;\n",
       "  }\n",
       "</style>\n",
       "<div class=\"ansiout\"></div>"
      ]
     },
     "metadata": {
      "application/vnd.databricks.v1+output": {
       "addedWidgets": {},
       "arguments": {},
       "data": "<div class=\"ansiout\"></div>",
       "datasetInfos": [],
       "metadata": {},
       "removedWidgets": [],
       "type": "html"
      }
     },
     "output_type": "display_data"
    }
   ],
   "source": [
    "# pyspark functions\n",
    "from pyspark.sql.functions import *\n",
    "# URL processing\n",
    "import urllib"
   ]
  },
  {
   "cell_type": "code",
   "execution_count": 0,
   "metadata": {
    "application/vnd.databricks.v1+cell": {
     "cellMetadata": {
      "byteLimit": 2048000,
      "rowLimit": 10000
     },
     "inputWidgets": {},
     "nuid": "26219c77-094c-4cfe-8d21-b44f24da7935",
     "showTitle": false,
     "title": ""
    }
   },
   "outputs": [
    {
     "output_type": "display_data",
     "data": {
      "text/html": [
       "<style scoped>\n",
       "  .ansiout {\n",
       "    display: block;\n",
       "    unicode-bidi: embed;\n",
       "    white-space: pre-wrap;\n",
       "    word-wrap: break-word;\n",
       "    word-break: break-all;\n",
       "    font-family: \"Menlo\", \"Monaco\", \"Consolas\", \"Ubuntu Mono\", \"Source Code Pro\", monospace;\n",
       "    font-size: 13px;\n",
       "    color: #555;\n",
       "    margin-left: 4px;\n",
       "    line-height: 19px;\n",
       "  }\n",
       "</style>\n",
       "<div class=\"ansiout\">Out[5]: [FileInfo(path=&#39;dbfs:/FileStore/tables/0ed442ca38ad_user_table/&#39;, name=&#39;0ed442ca38ad_user_table/&#39;, size=0, modificationTime=1704122067957),\n",
       " FileInfo(path=&#39;dbfs:/FileStore/tables/authentication.csv/&#39;, name=&#39;authentication.csv/&#39;, size=0, modificationTime=1704122067957),\n",
       " FileInfo(path=&#39;dbfs:/FileStore/tables/authentication_credentials-1.csv&#39;, name=&#39;authentication_credentials-1.csv&#39;, size=97, modificationTime=1702911405000),\n",
       " FileInfo(path=&#39;dbfs:/FileStore/tables/authentication_credentials-2.csv&#39;, name=&#39;authentication_credentials-2.csv&#39;, size=97, modificationTime=1702911558000),\n",
       " FileInfo(path=&#39;dbfs:/FileStore/tables/authentication_credentials-3.csv&#39;, name=&#39;authentication_credentials-3.csv&#39;, size=87, modificationTime=1703678451000),\n",
       " FileInfo(path=&#39;dbfs:/FileStore/tables/authentication_credentials.csv/&#39;, name=&#39;authentication_credentials.csv/&#39;, size=0, modificationTime=1704122067957),\n",
       " FileInfo(path=&#39;dbfs:/FileStore/tables/csv_files/&#39;, name=&#39;csv_files/&#39;, size=0, modificationTime=1704122067957),\n",
       " FileInfo(path=&#39;dbfs:/FileStore/tables/date_details.json&#39;, name=&#39;date_details.json&#39;, size=284166, modificationTime=1703945051000),\n",
       " FileInfo(path=&#39;dbfs:/FileStore/tables/downloaded_file.json&#39;, name=&#39;downloaded_file.json&#39;, size=48, modificationTime=1703945574000),\n",
       " FileInfo(path=&#39;dbfs:/FileStore/tables/downloaded_file2.json&#39;, name=&#39;downloaded_file2.json&#39;, size=60, modificationTime=1703954387000),\n",
       " FileInfo(path=&#39;dbfs:/FileStore/tables/geo_dirty.csv/&#39;, name=&#39;geo_dirty.csv/&#39;, size=0, modificationTime=1704122067957),\n",
       " FileInfo(path=&#39;dbfs:/FileStore/tables/json_files/&#39;, name=&#39;json_files/&#39;, size=0, modificationTime=1704122067957),\n",
       " FileInfo(path=&#39;dbfs:/FileStore/tables/pin_dirty.csv/&#39;, name=&#39;pin_dirty.csv/&#39;, size=0, modificationTime=1704122067957),\n",
       " FileInfo(path=&#39;dbfs:/FileStore/tables/single_json_file.json&#39;, name=&#39;single_json_file.json&#39;, size=293, modificationTime=1701857903000),\n",
       " FileInfo(path=&#39;dbfs:/FileStore/tables/user_dirty.csv/&#39;, name=&#39;user_dirty.csv/&#39;, size=0, modificationTime=1704122067957)]</div>"
      ]
     },
     "metadata": {
      "application/vnd.databricks.v1+output": {
       "addedWidgets": {},
       "arguments": {},
       "data": "<div class=\"ansiout\">Out[5]: [FileInfo(path=&#39;dbfs:/FileStore/tables/0ed442ca38ad_user_table/&#39;, name=&#39;0ed442ca38ad_user_table/&#39;, size=0, modificationTime=1704122067957),\n FileInfo(path=&#39;dbfs:/FileStore/tables/authentication.csv/&#39;, name=&#39;authentication.csv/&#39;, size=0, modificationTime=1704122067957),\n FileInfo(path=&#39;dbfs:/FileStore/tables/authentication_credentials-1.csv&#39;, name=&#39;authentication_credentials-1.csv&#39;, size=97, modificationTime=1702911405000),\n FileInfo(path=&#39;dbfs:/FileStore/tables/authentication_credentials-2.csv&#39;, name=&#39;authentication_credentials-2.csv&#39;, size=97, modificationTime=1702911558000),\n FileInfo(path=&#39;dbfs:/FileStore/tables/authentication_credentials-3.csv&#39;, name=&#39;authentication_credentials-3.csv&#39;, size=87, modificationTime=1703678451000),\n FileInfo(path=&#39;dbfs:/FileStore/tables/authentication_credentials.csv/&#39;, name=&#39;authentication_credentials.csv/&#39;, size=0, modificationTime=1704122067957),\n FileInfo(path=&#39;dbfs:/FileStore/tables/csv_files/&#39;, name=&#39;csv_files/&#39;, size=0, modificationTime=1704122067957),\n FileInfo(path=&#39;dbfs:/FileStore/tables/date_details.json&#39;, name=&#39;date_details.json&#39;, size=284166, modificationTime=1703945051000),\n FileInfo(path=&#39;dbfs:/FileStore/tables/downloaded_file.json&#39;, name=&#39;downloaded_file.json&#39;, size=48, modificationTime=1703945574000),\n FileInfo(path=&#39;dbfs:/FileStore/tables/downloaded_file2.json&#39;, name=&#39;downloaded_file2.json&#39;, size=60, modificationTime=1703954387000),\n FileInfo(path=&#39;dbfs:/FileStore/tables/geo_dirty.csv/&#39;, name=&#39;geo_dirty.csv/&#39;, size=0, modificationTime=1704122067957),\n FileInfo(path=&#39;dbfs:/FileStore/tables/json_files/&#39;, name=&#39;json_files/&#39;, size=0, modificationTime=1704122067957),\n FileInfo(path=&#39;dbfs:/FileStore/tables/pin_dirty.csv/&#39;, name=&#39;pin_dirty.csv/&#39;, size=0, modificationTime=1704122067957),\n FileInfo(path=&#39;dbfs:/FileStore/tables/single_json_file.json&#39;, name=&#39;single_json_file.json&#39;, size=293, modificationTime=1701857903000),\n FileInfo(path=&#39;dbfs:/FileStore/tables/user_dirty.csv/&#39;, name=&#39;user_dirty.csv/&#39;, size=0, modificationTime=1704122067957)]</div>",
       "datasetInfos": [],
       "metadata": {},
       "removedWidgets": [],
       "type": "html"
      }
     },
     "output_type": "display_data"
    }
   ],
   "source": [
    "dbutils.fs.ls(\"/FileStore/tables\")"
   ]
  },
  {
   "cell_type": "code",
   "execution_count": 0,
   "metadata": {
    "application/vnd.databricks.v1+cell": {
     "cellMetadata": {
      "byteLimit": 2048000,
      "rowLimit": 10000
     },
     "inputWidgets": {},
     "nuid": "471173e4-4fe4-4b3f-8854-abcc0de171a3",
     "showTitle": false,
     "title": ""
    }
   },
   "outputs": [
    {
     "output_type": "display_data",
     "data": {
      "text/html": [
       "<style scoped>\n",
       "  .ansiout {\n",
       "    display: block;\n",
       "    unicode-bidi: embed;\n",
       "    white-space: pre-wrap;\n",
       "    word-wrap: break-word;\n",
       "    word-break: break-all;\n",
       "    font-family: \"Menlo\", \"Monaco\", \"Consolas\", \"Ubuntu Mono\", \"Source Code Pro\", monospace;\n",
       "    font-size: 13px;\n",
       "    color: #555;\n",
       "    margin-left: 4px;\n",
       "    line-height: 19px;\n",
       "  }\n",
       "</style>\n",
       "<div class=\"ansiout\"></div>"
      ]
     },
     "metadata": {
      "application/vnd.databricks.v1+output": {
       "addedWidgets": {},
       "arguments": {},
       "data": "<div class=\"ansiout\"></div>",
       "datasetInfos": [],
       "metadata": {},
       "removedWidgets": [],
       "type": "html"
      }
     },
     "output_type": "display_data"
    }
   ],
   "source": [
    "# Specify file type to be csv\n",
    "file_type = \"csv\"\n",
    "# Indicates file has first row as the header\n",
    "first_row_is_header = \"true\"\n",
    "# Indicates file has comma as the delimeter\n",
    "delimiter = \",\"\n",
    "# Read the CSV file to spark dataframe\n",
    "aws_keys_df = spark.read.format(file_type)\\\n",
    ".option(\"header\", first_row_is_header)\\\n",
    ".option(\"sep\", delimiter)\\\n",
    ".load(\"/FileStore/tables/authentication_credentials.csv\")"
   ]
  },
  {
   "cell_type": "code",
   "execution_count": 0,
   "metadata": {
    "application/vnd.databricks.v1+cell": {
     "cellMetadata": {
      "byteLimit": 2048000,
      "rowLimit": 10000
     },
     "inputWidgets": {},
     "nuid": "7de93c1a-9048-46a7-95cb-79441a51f668",
     "showTitle": false,
     "title": ""
    }
   },
   "outputs": [
    {
     "output_type": "display_data",
     "data": {
      "text/html": [
       "<style scoped>\n",
       "  .ansiout {\n",
       "    display: block;\n",
       "    unicode-bidi: embed;\n",
       "    white-space: pre-wrap;\n",
       "    word-wrap: break-word;\n",
       "    word-break: break-all;\n",
       "    font-family: \"Menlo\", \"Monaco\", \"Consolas\", \"Ubuntu Mono\", \"Source Code Pro\", monospace;\n",
       "    font-size: 13px;\n",
       "    color: #555;\n",
       "    margin-left: 4px;\n",
       "    line-height: 19px;\n",
       "  }\n",
       "</style>\n",
       "<div class=\"ansiout\"></div>"
      ]
     },
     "metadata": {
      "application/vnd.databricks.v1+output": {
       "addedWidgets": {},
       "arguments": {},
       "data": "<div class=\"ansiout\"></div>",
       "datasetInfos": [],
       "metadata": {},
       "removedWidgets": [],
       "type": "html"
      }
     },
     "output_type": "display_data"
    }
   ],
   "source": [
    "# Get the AWS access key and secret key from the spark dataframe\n",
    "ACCESS_KEY = aws_keys_df.select('Access key ID').collect()[0]['Access key ID']\n",
    "SECRET_KEY = aws_keys_df.select('Secret access key').collect()[0]['Secret access key']\n",
    "# Encode the secrete key\n",
    "ENCODED_SECRET_KEY = urllib.parse.quote(string=SECRET_KEY, safe=\"\")"
   ]
  },
  {
   "cell_type": "code",
   "execution_count": 0,
   "metadata": {
    "application/vnd.databricks.v1+cell": {
     "cellMetadata": {
      "byteLimit": 2048000,
      "rowLimit": 10000
     },
     "inputWidgets": {},
     "nuid": "e55da8de-a273-4047-9c5e-d6c35592753d",
     "showTitle": false,
     "title": ""
    }
   },
   "outputs": [
    {
     "output_type": "display_data",
     "data": {
      "text/html": [
       "<style scoped>\n",
       "  .ansiout {\n",
       "    display: block;\n",
       "    unicode-bidi: embed;\n",
       "    white-space: pre-wrap;\n",
       "    word-wrap: break-word;\n",
       "    word-break: break-all;\n",
       "    font-family: \"Menlo\", \"Monaco\", \"Consolas\", \"Ubuntu Mono\", \"Source Code Pro\", monospace;\n",
       "    font-size: 13px;\n",
       "    color: #555;\n",
       "    margin-left: 4px;\n",
       "    line-height: 19px;\n",
       "  }\n",
       "</style>\n",
       "<div class=\"ansiout\">Out[8]: True</div>"
      ]
     },
     "metadata": {
      "application/vnd.databricks.v1+output": {
       "addedWidgets": {},
       "arguments": {},
       "data": "<div class=\"ansiout\">Out[8]: True</div>",
       "datasetInfos": [],
       "metadata": {},
       "removedWidgets": [],
       "type": "html"
      }
     },
     "output_type": "display_data"
    }
   ],
   "source": [
    "# AWS S3 bucket name\n",
    "AWS_S3_BUCKET = \"user-0e0816526d11-bucket\"\n",
    "# Mount name for the bucket\n",
    "MOUNT_NAME = \"/mnt/user-0e0816526d11-bucket\"\n",
    "# Source url\n",
    "SOURCE_URL = \"s3n://{0}:{1}@{2}\".format(ACCESS_KEY, ENCODED_SECRET_KEY, AWS_S3_BUCKET)\n",
    "# Mount the drive\n",
    "dbutils.fs.mount(SOURCE_URL, MOUNT_NAME)"
   ]
  },
  {
   "cell_type": "code",
   "execution_count": 0,
   "metadata": {
    "application/vnd.databricks.v1+cell": {
     "cellMetadata": {
      "byteLimit": 2048000,
      "rowLimit": 10000
     },
     "inputWidgets": {},
     "nuid": "a8e9f744-bcaf-4012-9e81-e04bdfdfdddd",
     "showTitle": false,
     "title": ""
    }
   },
   "outputs": [
    {
     "output_type": "display_data",
     "data": {
      "text/html": [
       "<style scoped>\n",
       "  .table-result-container {\n",
       "    max-height: 300px;\n",
       "    overflow: auto;\n",
       "  }\n",
       "  table, th, td {\n",
       "    border: 1px solid black;\n",
       "    border-collapse: collapse;\n",
       "  }\n",
       "  th, td {\n",
       "    padding: 5px;\n",
       "  }\n",
       "  th {\n",
       "    text-align: left;\n",
       "  }\n",
       "</style><div class='table-result-container'><table class='table-result'><thead style='background-color: white'><tr><th>path</th><th>name</th><th>size</th><th>modificationTime</th></tr></thead><tbody><tr><td>dbfs:/mnt/user-0e0816526d11-bucket/topics/0e0816526d11.geo/</td><td>0e0816526d11.geo/</td><td>0</td><td>1704122522372</td></tr><tr><td>dbfs:/mnt/user-0e0816526d11-bucket/topics/0e0816526d11.pin/</td><td>0e0816526d11.pin/</td><td>0</td><td>1704122522372</td></tr><tr><td>dbfs:/mnt/user-0e0816526d11-bucket/topics/0e0816526d11.user/</td><td>0e0816526d11.user/</td><td>0</td><td>1704122522372</td></tr></tbody></table></div>"
      ]
     },
     "metadata": {
      "application/vnd.databricks.v1+output": {
       "addedWidgets": {},
       "aggData": [],
       "aggError": "",
       "aggOverflow": false,
       "aggSchema": [],
       "aggSeriesLimitReached": false,
       "aggType": "",
       "arguments": {},
       "columnCustomDisplayInfos": {},
       "data": [
        [
         "dbfs:/mnt/user-0e0816526d11-bucket/topics/0e0816526d11.geo/",
         "0e0816526d11.geo/",
         0,
         1704122522372
        ],
        [
         "dbfs:/mnt/user-0e0816526d11-bucket/topics/0e0816526d11.pin/",
         "0e0816526d11.pin/",
         0,
         1704122522372
        ],
        [
         "dbfs:/mnt/user-0e0816526d11-bucket/topics/0e0816526d11.user/",
         "0e0816526d11.user/",
         0,
         1704122522372
        ]
       ],
       "datasetInfos": [],
       "dbfsResultPath": null,
       "isJsonSchema": true,
       "metadata": {},
       "overflow": false,
       "plotOptions": {
        "customPlotOptions": {},
        "displayType": "table",
        "pivotAggregation": null,
        "pivotColumns": null,
        "xColumns": null,
        "yColumns": null
       },
       "removedWidgets": [],
       "schema": [
        {
         "metadata": "{}",
         "name": "path",
         "type": "\"string\""
        },
        {
         "metadata": "{}",
         "name": "name",
         "type": "\"string\""
        },
        {
         "metadata": "{}",
         "name": "size",
         "type": "\"long\""
        },
        {
         "metadata": "{}",
         "name": "modificationTime",
         "type": "\"long\""
        }
       ],
       "type": "table"
      }
     },
     "output_type": "display_data"
    }
   ],
   "source": [
    "# list the topics stored on the mounted S3 bucket\n",
    "display(dbutils.fs.ls(\"/mnt/user-0e0816526d11-bucket/topics\"))"
   ]
  },
  {
   "cell_type": "code",
   "execution_count": 0,
   "metadata": {
    "application/vnd.databricks.v1+cell": {
     "cellMetadata": {
      "byteLimit": 2048000,
      "rowLimit": 10000
     },
     "inputWidgets": {},
     "nuid": "f1c94be4-7428-4c94-88b8-f3b21d90791c",
     "showTitle": false,
     "title": ""
    }
   },
   "outputs": [
    {
     "output_type": "display_data",
     "data": {
      "text/html": [
       "<style scoped>\n",
       "  .table-result-container {\n",
       "    max-height: 300px;\n",
       "    overflow: auto;\n",
       "  }\n",
       "  table, th, td {\n",
       "    border: 1px solid black;\n",
       "    border-collapse: collapse;\n",
       "  }\n",
       "  th, td {\n",
       "    padding: 5px;\n",
       "  }\n",
       "  th {\n",
       "    text-align: left;\n",
       "  }\n",
       "</style><div class='table-result-container'><table class='table-result'><thead style='background-color: white'><tr><th>ind</th><th>unique_id</th><th>title</th><th>description</th><th>follower_count</th><th>poster_name</th><th>tag_list</th><th>is_image_or_video</th><th>image_src</th><th>save_location</th><th>category</th></tr></thead><tbody><tr><td>8578</td><td>036ec267-658b-4dad-a097-8ef0b4f30c0d</td><td>Snake Collarbone Temporary Tattoo. Halloween Tattoos  Spooky | Etsy</td><td>Snake temporary tattoo for collarbone. Spooky 3D tattoo for Halloween Includes 2 copies, 1 for the right side and 1 for the left side Apply with water and remove anytime with ba… </td><td>0</td><td>Livitrevisani</td><td>Finger Tattoo Designs,Small Tattoo Designs,Finger Tattoos,Small 3d Tattoos,Cool Tattoos,Line Work Tattoo,Back Tattoo,Collarbone Tattoo,Tattoo Neck</td><td>image</td><td>https://i.pinimg.com/originals/d8/b7/a1/d8b7a11a3fe64e7fab91d3afb1536537.jpg</td><td>/data/tattoos</td><td>tattoos</td></tr><tr><td>2482</td><td>08604f20-fa17-4b9a-9949-781717eca6cd</td><td>FORNT PORCH CHRISTMAS DECORATING IDEAS</td><td>Christmas decorating ideas for porches. Beautiful holiday decor ideas for front porches both small and large. Outdoor decorations like sleds, lanterns, Christmas trees, wreaths,… </td><td>46000</td><td>Life on Summerhill | Home, Holiday Decor & DIY Website</td><td>Diy Christmas Decorations For Home,Farmhouse Christmas Decor,Christmas Home,Christmas Holidays,Christmas Front Porches,How To Decorate For Christmas,Christmas Porch Ideas,Christmas Decorating Ideas,Large Outdoor Christmas Decorations</td><td>video</td><td>https://i.pinimg.com/videos/thumbnails/originals/40/83/f5/4083f5b4971bf235f89a4784ab87271e.0000001.jpg</td><td>/data/christmas</td><td>christmas</td></tr><tr><td>1545</td><td>0c629541-cc5b-4b61-bd3f-613346893258</td><td>Oil Cleansing Method: What it is and why you should do it.</td><td>The oil cleansing method is a simple, natural way to have clean skin without using toxic chemicals. It will leave your face radiant and soft!</td><td>85000</td><td>Thank Your Body</td><td>Beauty Care,Diy Beauty,Beauty Hacks,Beauty Shop,Oil Cleansing Method,Goji,Korean Skincare Routine,Homemade Beauty Products,Organic Beauty</td><td>image</td><td>https://i.pinimg.com/originals/2c/1c/da/2c1cda7da86ee711536bbacfe89c75c9.jpg</td><td>/data/beauty</td><td>beauty</td></tr><tr><td>10552</td><td>17301b8c-ccbb-42ad-b2df-3876df35b1cd</td><td>The Prowler Emergency Response Vehicle</td><td>January 23, 2009 We can see emergency responders queueing up for this one. ATVCorp has created versions of its Prowler Light Tactical All Terrain Vehicle (LTATV) for fire-fighti… </td><td>314</td><td>p hump</td><td>Army Vehicles,Armored Vehicles,Go Kart Buggy,Atv Attachments,Aviation Fuel,Special Forces,Special Ops,Terrain Vehicle,Emergency Response</td><td>image</td><td>https://i.pinimg.com/originals/14/6b/6b/146b6b1a1127773f7046e08550e68ed0.jpg</td><td>/data/vehicles</td><td>vehicles</td></tr><tr><td>46</td><td>19234073-8905-4885-b0d5-98e0b84cbf27</td><td>10 Watercolor Hacks For Beginners | Tips and Tricks to Making Watercolor Painting Easier</td><td>Mountain monologue watercolor</td><td>27000</td><td>It's me, JD | DIY, Crafts, Home & Organization</td><td>Arte Inspo,Kunst Inspo,Watercolor Artists,Watercolor Ideas,Simple Watercolor,Tattoo Watercolor,Watercolor Techniques,Watercolor Animals,Watercolor Illustration</td><td>image</td><td>https://i.pinimg.com/originals/fd/54/89/fd548935dcb13545120a2115baaa41d9.jpg</td><td>/data/art</td><td>art</td></tr><tr><td>9672</td><td>1a5050a4-ac82-472c-aeff-3457de8bbee9</td><td>Lake Moraine, Banff, Canada</td><td>On our Calgary to Vancouver road trip we got to spend time in Banff, Canada. We visited the stunning Lake Moraine as well as Lake Louise and plenty of other of Canada's natural… </td><td>7000</td><td>Travel Mad Mum</td><td>Beautiful Places To Travel,Cool Places To Visit,Beautiful Roads,Beautiful Scenery,Wonderful Places,Lac Moraine,Moraine Lake,Lac Louise,Natur Wallpaper</td><td>video</td><td>https://i.pinimg.com/videos/thumbnails/originals/57/9d/52/579d52242ae5609978c754d393e44e81.0000001.jpg</td><td>/data/travel</td><td>travel</td></tr><tr><td>5730</td><td>1e1f0c8b-9fcf-460b-9154-c775827206eb</td><td>Island Oasis Coupon Organizer</td><td>Description Coupon Organizer in a fun colorful fabric -island oasis, Great Size for the \"basic\" couponer - holds up to 500 coupons with ease, and is made long enough so that you… </td><td>0</td><td>Consuelo Aguirre</td><td>Grocery Items,Grocery Coupons,Care Organization,Coupon Organization,Extreme Couponing,Couponing 101,Life Binder,Save My Money,Love Coupons</td><td>image</td><td>https://i.pinimg.com/originals/65/bb/ea/65bbeaf458907bb079317d8303c4fa0e.jpg</td><td>/data/finance</td><td>finance</td></tr><tr><td>1555</td><td>1f20551b-a21c-4ff0-b20d-49e95fdc50d3</td><td>Skin Purging: Die Pflegemethode für reine Haut | ELLE</td><td>Skin Purging sorgt für die reinste Haut, die du jemals hattest #skin äpurging #skinpurging #skincare #hautpflege #schönehaut #haut #beauty #tips</td><td>326000</td><td>ELLE Germany</td><td>Natural Hair Mask,Natural Hair Styles,Natural Beauty,Skin Tag,How To Apply Makeup,Pimples,Beauty Routines,Skincare Routine,Glowing Skin</td><td>image</td><td>https://i.pinimg.com/originals/93/b2/7b/93b27be044b2fd2f227f30a7f2c2faf2.jpg</td><td>/data/beauty</td><td>beauty</td></tr><tr><td>9936</td><td>1f3154a6-13f0-4049-8d5c-faea15b9f07c</td><td>Chasing Waterfalls in Costa Rica</td><td>Volcanoes, hikes, and hot springs in Costa Rica! The ultimate 5 day travel itinerary. - #costarica #travel #blogging #blog #bucketlist</td><td>22000</td><td>Jess Wandering</td><td>Costa Rica Reisen,Costa Rica Travel,Vacation Places,Dream Vacations,Vacation Spots,Vacation Food,Vacation Ideas,Voyage Dubai,Beautiful Places To Travel</td><td>image</td><td>https://i.pinimg.com/originals/60/fe/4c/60fe4c3602e8e50e2e9f787ed27d2aba.jpg</td><td>/data/travel</td><td>travel</td></tr><tr><td>2293</td><td>1fd7d4cc-54c1-4542-9c1f-449cb4c875f4</td><td>Over 40 of the BEST Homemade Christmas Ornament Ideas</td><td>Over 40 of the BEST Homemade Christmas Ornaments...these easy Holiday crafts are so fun to make for Kids and Adults! Lots of great class party ideas!</td><td>245000</td><td>Kitchen Fun With My 3 Sons</td><td>Diy Christmas Lights,Homemade Christmas Decorations,Christmas Crafts For Gifts,Mini Christmas Tree,Christmas Ornament Crafts,Homemade Christmas Gifts,Xmas Decorations,Simple Christmas,Handmade Christmas</td><td>image</td><td>https://i.pinimg.com/originals/d0/d3/a3/d0d3a31e87296224d5ba8896904b5b88.jpg</td><td>/data/christmas</td><td>christmas</td></tr><tr><td>4315</td><td>21b59ba9-829d-4c33-8c27-4cd4c56d26b8</td><td>Podcasts for Teachers or Parents of Teenagers</td><td>Podcasts for Teachers or Parents of Teenagers: Teaching teens middle school and high school can feel joyful and rewarding most days, but can also frustrate you with one challeng… </td><td>25000</td><td>Math Giraffe</td><td>Middle School Classroom,High School Students,High School Teachers,Middle School Tips,High School Counseling,Ela Classroom,High School Science,Future Classroom,Google Classroom</td><td>image</td><td>https://i.pinimg.com/originals/50/19/31/501931a27ee4d076658980851b995b2c.jpg</td><td>/data/education</td><td>education</td></tr><tr><td>808</td><td>23f67e42-db9f-4aae-8b82-cbec64ad9f4d</td><td>Chalk Pastel Hot Chocolate Art Project</td><td>Kids will use chalk pastels and black paper to create this bold and bright hot chocolate art project! Easy to follow tutorial included.</td><td>20000</td><td>Projects with Kids</td><td>Hot Chocolate Art,Chocolate Crafts,Art Activities For Kids,Preschool Art,Preschool Winter,Christmas Activities,Winter Art Projects,Clay Art Projects,Chalk Pastel Art</td><td>image</td><td>https://i.pinimg.com/originals/5a/d3/82/5ad38202cf8acb022cb8f46ce2a78ad6.jpg</td><td>/data/art</td><td>art</td></tr><tr><td>8653</td><td>24b1343c-4d86-4705-8ec9-7f1f2df2d77e</td><td>Unique Women Tattoos Ideas 2020</td><td>We welcome you to our latest collection of Beautiful Tattoo Ideas For Women. Check out and get inspired by the most beautiful design for yourself.</td><td>21000</td><td>ALL FOR WOMAN</td><td>Small Back Tattoos,Small Girl Tattoos,Little Tattoos,Tattoo Girls,Mini Tattoos,Tattoo Small,Back Tattoo Women,Tattoo On Back,Girl Back Tattoos</td><td>image</td><td>https://i.pinimg.com/originals/fa/cf/7c/facf7cd752a4bc7c09faaa8925ab80b1.jpg</td><td>/data/tattoos</td><td>tattoos</td></tr><tr><td>9979</td><td>2b2abc85-fc51-481f-8ae6-17681993da28</td><td>Paris in the Summer. 10 fun things to do in Paris in the Summertime • Petite in Paris</td><td>Are you traveling to Paris during the summer? Find out what to do in Paris, France during the summer. Fun summertime activities in Paris. Enjoy the incredible outdoors when trav… </td><td>3000</td><td>Petite in Paris</td><td>Torre Eiffel Paris,Tour Eiffel,Picnic In Paris,Hello France,Voyage Europe,Destination Voyage,Beautiful Places To Travel,Travel Aesthetic,Paris Travel</td><td>image</td><td>https://i.pinimg.com/originals/6c/4c/90/6c4c90bba27ebf8c8bfe4c1acfb9f07a.jpg</td><td>/data/travel</td><td>travel</td></tr><tr><td>4076</td><td>3a52d364-7c04-47cb-a3e5-56d9e2b77528</td><td>Phonics Activities Your Kids Will Love - The Literacy Nest</td><td>Hi everyone! As a teacher using the Orton-Gillingham approach, I am constantly looking for phonics activities that my students will find fun and engaging. Using Orton-Gillingham… </td><td>22000</td><td>The Literacy Nest</td><td>Literacy Games,Kindergarten Activities,Literacy Centers,Fun Phonics Activities,Listening Activities,Vocabulary Games,Literacy Stations,Letter Activities,Montessori Activities</td><td>image</td><td>https://i.pinimg.com/originals/58/8e/38/588e380b19942a71a86a69d9c9973d25.png</td><td>/data/education</td><td>education</td></tr><tr><td>2959</td><td>439cac4b-18e8-4aaa-88c5-edb26a701111</td><td>The Cutest Toilet Paper Crafts</td><td>One thing I love about Crafts is how the evolve! These toilet paper rolls are adorable and modern. I love that something as simple as a recycled toilet paper roll can be taken t… </td><td>502000</td><td>CraftGossip.com</td><td>Toilet Paper Roll Crafts,Cardboard Crafts,Diy Paper,Paper Crafting,Toilet Paper Rolls,Cardboard Playhouse,Paper Art,Kids Crafts,Toddler Crafts</td><td>image</td><td>https://i.pinimg.com/originals/c6/cd/0d/c6cd0d04da9cfc11566cfd34eeb1f918.jpg</td><td>/data/diy-and-crafts</td><td>diy-and-crafts</td></tr><tr><td>3454</td><td>46bd3f86-b09d-4e29-9033-7ff2df595e51</td><td>What can you use to color resin?</td><td>HELPFUL RESOURCES – Check out my resin colorants resources page here with links to all the products mentioned in this article (and more). Let me know if you have any that you lo… </td><td>6000</td><td>Mixed Media Crafts</td><td>Epoxy Resin Art,Diy Resin Art,Diy Resin Crafts,Resin Molds,Ice Resin,Resin Pour,Diy Epoxy,Diy Resin Painting,Diy Resin Dice</td><td>image</td><td>https://i.pinimg.com/originals/d4/12/78/d4127833023ca32600571ddca16f1556.jpg</td><td>/data/diy-and-crafts</td><td>diy-and-crafts</td></tr><tr><td>427</td><td>4a455340-09a2-4370-ad86-73d7964603db</td><td>DIY Acrylic Paint Pouring Wall Art - Abbotts At Home</td><td>Easy to follow steps for this easy DIY wall art. Acrylic Paint Pouring with a blow dryer, Dutch paint pour. Written steps and full step by step video to help you do it too! 👍</td><td>52000</td><td>Abbotts At Home</td><td>Acrylic Pouring Art,Acrylic Wall Art,Acrylic Pouring Techniques,Acrylic Paintings,Art Paintings,Marble Art,Marble Painting,Pour Painting,Large Canvas Art</td><td>video</td><td>https://i.pinimg.com/videos/thumbnails/originals/d5/5e/fa/d55efa6ef50d35dac425cea935f39c89.0000001.jpg</td><td>/data/art</td><td>art</td></tr><tr><td>7166</td><td>4a844b03-e161-47a1-904b-591eb5dc4fb1</td><td>The Killers - Mr. Brightside - Women's T-Shirt - Heather Dark Grey / S</td><td>Women's T-shirt. Design inspired by the rock band The Killers' hit \"Mr. Brightside\". One of the greatest song from the album Hot Fuss released in 2004. Soft and light, 100% cott… </td><td>27</td><td>Mala Rock | Rock T-shirts</td><td>Mr Brightside,Rock T Shirts,Greatest Songs,Timeless Classic,Rock Bands,Album,T Shirts For Women,Inspired,Hot</td><td>image</td><td>https://i.pinimg.com/originals/8c/42/39/8c42391d35fcad51a4a79f7cd81bf26d.jpg</td><td>/data/mens-fashion</td><td>mens-fashion</td></tr><tr><td>4913</td><td>4d2d79c6-9ca8-46c9-a38e-931c5d967804</td><td>How to Work From Home as an Event Planner</td><td>Do you love planning parties? Do you want to work-at-home? This post covers everything you need to know about becoming a home-based event planner!</td><td>110000</td><td>The Work at Home Woman</td><td>Event Planning Tips,Event Planning Business,Party Planning,Business Ideas,Craft Business,Business Chic,Business Inspiration,Business Goals,Business Opportunities</td><td>image</td><td>https://i.pinimg.com/originals/4d/a3/a4/4da3a4730418239f1b43ce81fb032c15.jpg</td><td>/data/event-planning</td><td>event-planning</td></tr><tr><td>2411</td><td>4e11801e-7a64-4f1e-90dd-e900677595c5</td><td>The Sweetest Gingerbread House Ornaments Kids Can Make</td><td>Transform mini terra cotta pots into the sweetest gingerbread house ornaments! Kids will love making this adorable Christmas craft to hang on the tree.</td><td>20000</td><td>Projects with Kids</td><td>Noel Christmas,Diy Christmas Ornaments,Homemade Christmas,Simple Christmas,Gingerbread Ornaments,Christmas Gingerbread,Gingerbread Houses,Preschool Christmas,Ornaments Ideas</td><td>image</td><td>https://i.pinimg.com/originals/13/28/09/1328097d7c290d1bf8642b01a6ba1c6c.jpg</td><td>/data/christmas</td><td>christmas</td></tr><tr><td>2923</td><td>52fa3af5-24a4-4ccb-8f17-9c3eb12327ee</td><td>UFO Paper Plate Craft</td><td>A fun space activity for kids. Preshoolers and kindergartners will love making their own alien spacecraft!</td><td>192000</td><td>The Crafting Chicks</td><td>Paper Plate Crafts For Kids,Fun Crafts For Kids,Summer Crafts,Toddler Crafts,Art For Kids,Outer Space Crafts For Kids,Kid Crafts,Space Kids,Back To School Crafts For Kids</td><td>image</td><td>https://i.pinimg.com/originals/6f/e8/aa/6fe8aa405513c6d2f77b5f47d17cdce8.jpg</td><td>/data/diy-and-crafts</td><td>diy-and-crafts</td></tr><tr><td>8304</td><td>5b6d0913-25e4-43ab-839d-85d5516f78a4</td><td>The #1 Reason You’re Not His Priority Anymore - Matthew Coast</td><td>#lovequotes #matchmaker #matchmadeinheaven #loveyourself #respectyourself</td><td>51000</td><td>Commitment Connection</td><td>Wise Quotes,Quotable Quotes,Words Quotes,Wise Words,Quotes To Live By,Great Quotes,Motivational Quotes,Inspirational Quotes,Funny Quotes</td><td>image</td><td>https://i.pinimg.com/originals/c6/64/ee/c664ee71524fb5a6e7b7b49233f93b43.png</td><td>/data/quotes</td><td>quotes</td></tr><tr><td>8887</td><td>5df9f6e5-07f5-4ce8-a82e-96586bbc05d8</td><td>25 Ultra Sexy Back Tattoo Ideas For Girls</td><td>Tattoos are one of the most efficient ways through which one decides to express themselves…</td><td>4000</td><td>RapidLeaks</td><td>Dream Tattoos,Body Art Tattoos,New Tattoos,Small Tattoos,Cross Tattoos,Random Tattoos,Fashion Tattoos,Bird Tattoos,Fitness Tattoos</td><td>image</td><td>https://i.pinimg.com/originals/ab/8e/50/ab8e505b04d4abc8f23e273c15f8a65d.jpg</td><td>/data/tattoos</td><td>tattoos</td></tr><tr><td>831</td><td>5e65914d-9f58-4ff1-9676-658e426e8ce5</td><td>creating mixed-media faces tutorial</td><td>Free quick inspirational video on creating a mixed media face with acrylic, collage, stenciling and simple techniques. Come on over to watch</td><td>27000</td><td>Shawn Petite</td><td>Collage Kunst,Paper Collage Art,Collage Art Mixed Media,Mixed Media Painting,Mixed Media Canvas,Canvas Collage,Art Collages,Wall Canvas,Canvas Art</td><td>video</td><td>https://i.pinimg.com/videos/thumbnails/originals/05/86/a4/0586a4116e1fc34efc25e064ccd123e8.0000001.jpg</td><td>/data/art</td><td>art</td></tr><tr><td>1704</td><td>5fbf9863-fb79-477c-a5b6-540c3020a55f</td><td>Christmas Trees From Pallet Wood | Holiday DIY</td><td>Christmas Trees From Pallet Wood | Holiday DIY: Deck the yard with some fun outdoor Christmas Trees! We made these merry and bright decorations from two old pallets we had lying… </td><td>3000000</td><td>Instructables</td><td>Pallet Wood Christmas Tree,Wooden Christmas Crafts,Diy Christmas Tree,Christmas Projects,Holiday Crafts,Wooden Xmas Trees,Different Christmas Trees,Pallet Tree,Christmas Kitchen</td><td>image</td><td>https://i.pinimg.com/originals/64/7b/ca/647bca35169b7c144604116c64bcba8a.png</td><td>/data/christmas</td><td>christmas</td></tr><tr><td>6063</td><td>60693727-4927-4bd6-a8c5-096a392d63e6</td><td>41 Gorgeous Fall Decor Ideas For Your Home - Chaylor & Mads</td><td>Beautiful and easy ways to update every room in your home with fall decor. Plus, my favorite finds in fall decor for 2020!</td><td>92000</td><td>Kristen | Lifestyle, Mom Tips & Teacher Stuff Blog</td><td>Fall Home Decor,Autumn Home,Fall Decor Outdoor,Front Porch Fall Decor,Home Decor Ideas,Porch Ideas For Fall,Fall Outdoor Decorating,Decorating Ideas For Fall,Fall Front Doors</td><td>image</td><td>https://i.pinimg.com/originals/e5/ae/dc/e5aedc14ce557e3a69f672e0f8c88f6e.png</td><td>/data/home-decor</td><td>home-decor</td></tr><tr><td>428</td><td>610b3f83-9fe0-469d-946c-d16b577fca71</td><td>Fashion Designer Isaac Mizrahi’s Updated 1930s New York City Apartment</td><td>Fashion designer Issac Mizrahi’s Greenwich Village home is an amalgamation of three apartments that was 20 years in the making</td><td>3000000</td><td>Architectural Digest</td><td>Modern Art,Contemporary Art,Contemporary Kitchens,Contemporary Bedroom,New York City Apartment,Manhattan Apartment,Art Moderne,Architectural Digest,Painting Inspiration</td><td>image</td><td>https://i.pinimg.com/originals/f4/6c/54/f46c546a2e480022a42d842b7dca157e.jpg</td><td>/data/art</td><td>art</td></tr><tr><td>6844</td><td>69c3f268-274f-44bd-9cb4-427e64fefc44</td><td>♔the-fashman♔</td><td>billy-george: “Summer styles ”</td><td>377</td><td>Au'vey Smith</td><td>Fashion Week Hommes,La Fashion Week,Fashion Moda,Urban Fashion,Trendy Fashion,Fashion Spring,Fashion 2017,New Mens Fashion,Trendy Clothing</td><td>image</td><td>https://i.pinimg.com/originals/3c/8c/53/3c8c534cd02334c50047bd3a4feccce9.jpg</td><td>/data/mens-fashion</td><td>mens-fashion</td></tr><tr><td>6566</td><td>6d8848f8-f515-4935-8dae-5dd02304d76e</td><td>Navy and Neutral Fall Living Room + Kitchen Tour - Sand and Sisal</td><td>Celebrate fall with a neutral color palette with natural elements. This Navy and Neutral Fall Living Room + Kitchen Tour will make you rethink fall decor.</td><td>178000</td><td>Sand and Sisal</td><td>Fall Living Room,Coastal Living Rooms,Living Room Paint,Living Room Kitchen,Living Room Interior,Living Room Furniture,Living Room Decor,Living Area,Small Living</td><td>image</td><td>https://i.pinimg.com/originals/f1/be/b6/f1beb6d3414f1c52929df39a83d8da9f.jpg</td><td>/data/home-decor</td><td>home-decor</td></tr><tr><td>1094</td><td>6deacdcd-75ed-4dd8-8951-9b77453f38e0</td><td>9 colors lazy lipstick - 9 colors lazy lipstick4</td><td>9 colors lazy lipstick</td><td>8000</td><td>Jiew82633</td><td>Nail Inspo,Lazy,Lipstick,How To Apply,Makeup,Colors,Products,Make Up,Lipsticks</td><td>image</td><td>https://i.pinimg.com/originals/25/cf/8c/25cf8cb74b43ab95591342c2bbe4ecd8.jpg</td><td>/data/beauty</td><td>beauty</td></tr><tr><td>8606</td><td>71757040-bfc8-4631-9cac-22801e61d9e3</td><td>30+ Eagle Tattoos Ideas for Women</td><td>summcoco gives you inspiration for the women fashion trends you want. Thinking about a new look or lifestyle? This is your ultimate resource to get the hottest trends. 30+ Eagle… </td><td>306000</td><td>Sumcoco | Decor Ideas, Hairstyles, Nails Fashion Advice</td><td>White Bird Tattoos,Rose Tattoos,Flower Tattoos,Tattoo Black,Bird And Flower Tattoo,Tattoo Floral,Mini Tattoos,Flower Art,Girls With Sleeve Tattoos</td><td>image</td><td>https://i.pinimg.com/originals/8d/c6/ed/8dc6ed0b212393187a14c7d07a88060f.png</td><td>/data/tattoos</td><td>tattoos</td></tr><tr><td>2015</td><td>72359164-4419-452c-81cb-74f30a5a26b7</td><td>16 Blissful Christmas Table Decor Ideas That You Must See</td><td>Take a look at this new collection of Christmas decor featuring 16 Blissful Christmas Table Decor Ideas That You Must See. Happy holidays!</td><td>616000</td><td>ArchitectureArtDesigns</td><td>Kids Crafts,Christmas Crafts For Kids,Homemade Christmas,Christmas Projects,Holiday Crafts,Christmas Gift Ideas,Preschool Christmas,Tree Crafts,Christmas Inspiration</td><td>image</td><td>https://i.pinimg.com/originals/5f/70/30/5f7030a35bb8a1491e915fb0ae29bcf5.jpg</td><td>/data/christmas</td><td>christmas</td></tr><tr><td>2698</td><td>73f16302-4871-486a-8836-947530526337</td><td>DIY Dollar Tree Valentine's Day Wreath</td><td>DIY Dollar Store Valentine’s Day Heart Wreath Decoration. There are so many great Valentine crafts at the Dollar Tree right now! During our last trip, we picked up a few supplie… </td><td>9000</td><td>South Lumina Style</td><td>Valentine Day Wreaths,Valentines Day Hearts,Valentines Day Decorations,Valentine Day Crafts,Holiday Crafts,Diy Christmas,Christmas Wreaths,Valentine Tree,Printable Valentine</td><td>image</td><td>https://i.pinimg.com/originals/dc/f6/8a/dcf68adcc63c339c24fa5664f1115994.png</td><td>/data/diy-and-crafts</td><td>diy-and-crafts</td></tr><tr><td>9875</td><td>782dcbad-ff91-40a6-ba60-216efe29adb7</td><td>European Bucket List: 35 Things NOT To Miss When Traveling Europe</td><td>35 European bucket list destinations for any traveler heading to Europe. From Cinque Terre, Italy to Iceland - there are so many amazing sites to see in Europe.</td><td>28000</td><td>Nicki </td><td>Backpacking Europe,Europe Travel Guide,Travel Guides,Travel Packing,Traveling Europe,Travelling,Travel Backpack,Budget Travel,2 Week Europe Itinerary</td><td>image</td><td>https://i.pinimg.com/originals/71/04/1a/71041ad83ede43d9665741e719c58a86.jpg</td><td>/data/travel</td><td>travel</td></tr><tr><td>603</td><td>78e21a64-53b0-4745-8294-e8c456f0ccc1</td><td>How to Create Alcohol Ink Rings For Gorgeous Pieces of Art -</td><td>Learn to create alcohol ink rings for gorgeous pieces of art. Each ring sits on top of another, giving a multilayered appearance</td><td>7000</td><td>Kim Cook-Thirteen Chairs-Slates Mugs And Tees</td><td>Alcohol Ink Tiles,Alcohol Ink Glass,Alcohol Ink Crafts,Alcohol Ink Painting,Pour Painting,Zealand Tattoo,Copics,Types Of Art,Art Techniques</td><td>image</td><td>https://i.pinimg.com/originals/03/03/1f/03031fdc9775d0c06f61d68e51362379.png</td><td>/data/art</td><td>art</td></tr><tr><td>1422</td><td>7bbe860c-a739-4ba9-babd-feb24bb6e4d9</td><td>41 Life-Saving Beauty Hacks Every Girl Should Have In Her Arsenal</td><td>Might try this... I'm generally skeptical about at-home remedies, but I know baking soda and lemons both do wonders. More</td><td>5000000</td><td>BuzzFeed</td><td>Baking Soda Lemon Juice,Diy Beauté,Tips Belleza,Belleza Natural,Health And Beauty Tips,Beauty Secrets,Beauty Advice,Diy Beauty Tips,Beauty Life Hacks</td><td>image</td><td>https://i.pinimg.com/originals/c8/ab/af/c8abaffc56050f674eef8e65ad684929.jpg</td><td>/data/beauty</td><td>beauty</td></tr><tr><td>6145</td><td>82e13a07-db99-43a3-b1c0-89a4b75821da</td><td>HOLIDAY MANTLE DECOR - @AMAZON & @TARGET FINDS</td><td>Holiday mantle decor, Christmas decor, metallic mercury glass style Christmas trees, eucalyptus vine, evergreen pine branches, white neutral holiday decor, cozy mantle for the h… </td><td>83000</td><td>Stylin by Aylin</td><td>Winter Home Decor,Christmas Living Room Decor,Living Room Decor Cozy,Christmas Decor,Cozy Fireplace,Rustic Fireplace Decor,Fireplace Decorations,Rustic Room,House Decorations</td><td>image</td><td>https://i.pinimg.com/originals/9d/82/1a/9d821a80acd8f90c16454e978bd9b115.jpg</td><td>/data/home-decor</td><td>home-decor</td></tr><tr><td>159</td><td>841a161a-47b8-4161-884d-adeb67a28b1e</td><td>Valentine's Day Bee Directed Drawing {Art Project}</td><td>This bee directed drawing and associated pages will help you create a fun and creative Valentine's Day Directed Drawing Art Project activity for your class.Choose to do a painti… </td><td>1000000</td><td>Teachers Pay Teachers</td><td>Classroom Art Projects,School Art Projects,Art Classroom,Art Projects For Kindergarteners,Spring Art Projects,Classroom Posters,Valentines Art Lessons,Valentines Day Activities,Grade 1 Art</td><td>image</td><td>https://i.pinimg.com/originals/49/ff/2e/49ff2e83c0cefdd37213f6084c6f0566.jpg</td><td>/data/art</td><td>art</td></tr><tr><td>2074</td><td>86ed09a7-842d-496d-9501-010c654eb340</td><td>35 Christmas Decorating Ideas We Bet You Haven't Thought Of</td><td>20 Christmas Decorating Ideas We Bet You Haven't Thought Of via @PureWow</td><td>868000</td><td>PureWow</td><td>Holiday Centerpieces,Xmas Decorations,Centerpiece Ideas,Table Centerpieces,Valentine Decorations,Wedding Centerpieces,Outdoor Decorations,Christmas Centerpieces With Candles,Christmas Dining Table Decorations</td><td>image</td><td>https://i.pinimg.com/originals/e9/b9/f0/e9b9f01cc3b2cf41948b45854335396c.jpg</td><td>/data/christmas</td><td>christmas</td></tr><tr><td>5494</td><td>8fb2af68-543b-4639-8119-de33d28706ed</td><td>Dave Ramsey's 7 Baby Steps: What Are They And Will They Work For You</td><td>If you love budgeting, make sure to give Dave Ramsey's 7 Baby Steps a try. Follow these steps to begin your debt snowball, build an emergency fund, invest and reach riches. I ca… </td><td>26000</td><td>Living Low Key | Save Money, Make Money, & Frugal Living</td><td>Financial Peace,Financial Tips,Saving Money Quotes,Total Money Makeover,Budgeting Finances,Money Management,Wealth Management,Personal Finance,Making Ideas</td><td>image</td><td>https://i.pinimg.com/originals/1e/9d/90/1e9d906e4e150e3b95187f3b76ea7c71.png</td><td>/data/finance</td><td>finance</td></tr><tr><td>4508</td><td>9064f4a2-2753-476c-815e-db360f45a93e</td><td>Custom Event and Shop Neon Sign Lights - Event & Shop</td><td>Personalize your event or shop with a customized neon sign. Make a statement with your own custom vibes! This light is 32 -40 inches (80cm-100cm) if you need something bigger, p… </td><td>111</td><td>Life of Neon | Custom Neon Light Signs | Home Decor Wall Art</td><td>Our Wedding,Wedding Venues,Dream Wedding,Wedding Cakes,Church Wedding,Wedding Flowers,Lace Wedding,Wedding Rings,Wedding Dresses</td><td>image</td><td>https://i.pinimg.com/originals/e9/c0/7c/e9c07cf0cf16cab23764a36718ab76c1.jpg</td><td>/data/event-planning</td><td>event-planning</td></tr><tr><td>5468</td><td>91ee49f6-0070-4270-ba19-fde88ba51c91</td><td>Budgets, Spouses & Making It Work! - Tshanina Peterson</td><td>Don't fight about budgets and money with your spouse! Here are a few tips that we've found that make it work in our marriage!</td><td>313</td><td>Annamarie Hilton</td><td>Ways To Save Money,Money Tips,Money Saving Tips,How To Make Money,Managing Money,Saving Time,College Fund,Scholarships For College,Education College</td><td>image</td><td>https://i.pinimg.com/originals/37/d5/82/37d58296bcef3471a633c76b89d8625e.jpg</td><td>/data/finance</td><td>finance</td></tr><tr><td>10138</td><td>927c4658-cc3f-4b92-9b5c-70743d0c238d</td><td>14 Amazing Things To Do In Costa Rica | Volcanoes, Waterfalls, Wildlife And More</td><td>This Costa Rica itinerary is the ultimate guide to spending two weeks in Costa Rica. Find out about visiting La Fortuna, Arenal, Monteverde, Naranjo, Corcovado National Park, Or… </td><td>10000</td><td>Wanderlust Chloe ✈️ Travel guides, inspo and adventure travel ✈️</td><td>Costa Rica Travel,Rio Celeste Costa Rica,Dream Vacations,Vacation Spots,Vacation Travel,Travel Pictures,Travel Photos,Fortuna Costa Rica,Costa Rica Pictures</td><td>image</td><td>https://i.pinimg.com/originals/30/93/cb/3093cb01d9de2d125fda8ba5e3e41946.jpg</td><td>/data/travel</td><td>travel</td></tr><tr><td>1014</td><td>9ac94307-bb27-410e-b554-0a0ab6c19847</td><td>Hairstyles & Beauty</td><td>Untitled</td><td>0</td><td>Grecia Perales</td><td>Hair Inspo,Hair Inspiration,Motivation Inspiration,Cl Rapper,Foto Glamour,Kreative Portraits,Classy Aesthetic,Pretty Hairstyles,Hair Looks</td><td>image</td><td>https://i.pinimg.com/originals/af/c4/59/afc459bd6e1fd8f9aef212504afebf3a.jpg</td><td>/data/beauty</td><td>beauty</td></tr><tr><td>2863</td><td>9bf39437-42a6-4f02-99a0-9a0383d8cd70</td><td>25 Super Fun Summer Crafts for Kids - Of Life and Lisa</td><td>Keep the kids busy this summer with these easy diy crafts and projects. Creative and…</td><td>124000</td><td>Of Life & Lisa | Lifestyle Blog</td><td>Summer Crafts For Kids,Fun Crafts For Kids,Summer Kids,Toddler Crafts,Crafts To Do,Diy For Kids,Summer Snow,Diys For Summer,Craft Ideas For Girls</td><td>image</td><td>https://i.pinimg.com/originals/b3/bc/e2/b3bce2964e8c8975387b39660eed5f16.jpg</td><td>/data/diy-and-crafts</td><td>diy-and-crafts</td></tr><tr><td>7790</td><td>9cd89fb9-d1af-4e66-85ca-c9d656c918b4</td><td>50 Heart Touching Sad Quotes That Will Make You Cry</td><td>Are you looking for some heart touching sad quotes and sayings; Here we have collected for you 50 best heart touching sad quotes..</td><td>112</td><td>AnnaLee Kick</td><td>Crush Quotes For Girls,Sad Crush Quotes,Hurt Quotes,Love Me Quotes,Mood Quotes,Quotes To Live By,Life Quotes,Quotes Quotes,Sad Quotes That Make You Cry</td><td>image</td><td>https://i.pinimg.com/originals/0c/0f/40/0c0f408d96458080e0c82adb50be8e8f.jpg</td><td>/data/quotes</td><td>quotes</td></tr><tr><td>7294</td><td>9d8409ef-bea7-4133-a021-c58b9c042210</td><td>Foolproof Fall Fashion For Men You'll Love</td><td>Looking for the coolest fall fashion for men this season? Click to read this article on fall fashion for men to look sharp on LLEGANCE.</td><td>28000</td><td>LLEGANCE | Workwear Fashion Woman Advice For Driven Professionals</td><td>Fashion 90s,Autumn Fashion,Fashion Ideas,Trendy Fashion,Fashion Photo,Fashion Outfits,Fashion Trends,Urban Fashion Men,Men's Casual Fashion</td><td>image</td><td>https://i.pinimg.com/originals/4c/bf/2d/4cbf2d6e04d2502612169220553f4cef.jpg</td><td>/data/mens-fashion</td><td>mens-fashion</td></tr><tr><td>8930</td><td>a2999c28-f7b2-4577-af87-49d21d6d8a18</td><td>135 Sunflower Tattoo Ideas - [Best Rated Designs in 2021]</td><td>We have put together the Ultimative Sunflower Tattoo Collection in 2020. Check out our highest rated handpicked Sunflower designs here!</td><td>800000</td><td>Next Luxury</td><td>Sunflower Tattoo Sleeve,Sunflower Tattoo Shoulder,Sunflower Tattoo Small,Sunflower Tattoos,Sunflower Tattoo Design,Shoulder Tattoo,Sunflower Mandala Tattoo,Sunflower Tattoo Meaning,Form Tattoo</td><td>image</td><td>https://i.pinimg.com/originals/18/de/6c/18de6c81a8637e224c7d63dce1414ceb.jpg</td><td>/data/tattoos</td><td>tattoos</td></tr><tr><td>771</td><td>a5021766-a8aa-4dc7-9857-4da6b8e3dc1a</td><td>African Sunset Shadow Tracing Art - Taming Little Monsters</td><td>Use your mini world figures to create this beautiful African sunset. Your kids will love learning about shadows, angles and distortion in this fun art and STEM activity for kids.</td><td>4000</td><td>Taming Little Monsters - Fun Activities for Kids</td><td>African Art Projects,Cool Art Projects,Projects For Kids,African Art For Kids,African Crafts Kids,Art Club Projects,Art Education Projects,Tracing Art,African Sunset</td><td>image</td><td>https://i.pinimg.com/originals/e3/aa/35/e3aa350f8f104d0e59f26d7f17ea7461.png</td><td>/data/art</td><td>art</td></tr><tr><td>7922</td><td>a584581c-1b38-4731-a1cc-f36115ecf229</td><td>45 Top Life Quotes School Did Not Teach You</td><td>summcoco gives you inspiration for the women fashion trends you want. Thinking about a new look or lifestyle? This is your ultimate resource to get the hottest trends. 45 Top Li… </td><td>306000</td><td>Sumcoco | Decor Ideas, Hairstyles, Nails Fashion Advice</td><td>Life Quotes Love,Inspirational Quotes About Love,Mood Quotes,Motivational Quotes,Tears Quotes,Quotes About Sadness,Deep Quotes About Life,Quotes Quotes,Quote Life</td><td>image</td><td>https://i.pinimg.com/originals/bb/c0/e6/bbc0e6a797079505f11ac12bcb0b8c66.jpg</td><td>/data/quotes</td><td>quotes</td></tr><tr><td>3729</td><td>ac90f1d2-dc9e-438c-b073-dd48511b80b0</td><td>5 + Nature Games for Your Homeschool</td><td>Our family would rather spend time outdoors than indoors. We love nature! That said, sometimes mother nature is uncooperative. On these days, it can be fun to pull out some natu… </td><td>9000</td><td>My Little Poppies (Cait Curley, MA/CAGS)</td><td>Diy Nature,Theme Nature,Nature Study,Science And Nature,Summer Science,Earth Science,Nature Crafts,Outdoor Education,Outdoor Learning</td><td>image</td><td>https://i.pinimg.com/originals/d6/3b/1a/d63b1a2a36534ecac5d1fbd0d932403a.jpg</td><td>/data/education</td><td>education</td></tr><tr><td>7768</td><td>ae1a61f6-d958-40fe-ba93-6a78b3a73178</td><td>16 Motivational Quotes Get You Inspired Today - Boss Babe Chronicles</td><td>motivation quotes</td><td>45000</td><td>Boss Babe Chronicles | Personal Development, Finances, Self Care</td><td>Motivacional Quotes,Motivational Quotes For Life,Uplifting Quotes,True Quotes,Words Quotes,Empowering Quotes,Boss Up Quotes,Inspirational Success Quotes,Boss Babe Quotes Work Hard</td><td>image</td><td>https://i.pinimg.com/originals/ee/b4/bc/eeb4bccdb074edb787ea61711e0c4dfd.jpg</td><td>/data/quotes</td><td>quotes</td></tr><tr><td>5069</td><td>b75b6f87-deb3-444f-b29e-ce9161b2df49</td><td>The Vault: Curated & Refined Wedding Inspiration</td><td>Sacramento California Wedding 2 Chic Events & Design Jodi Yorston Photography Wilson Vineyards Barn Miosa Couture Yellow Barn Vineyard Outdoor Candles DIY</td><td>6000000</td><td>Style Me Pretty</td><td>60th Anniversary Parties,Anniversary Decorations,Golden Anniversary,25th Wedding Anniversary,Anniversary Pictures,Anniversary Ideas,Birthday Decorations,Event Planning Design,Event Design</td><td>image</td><td>https://i.pinimg.com/originals/7e/45/90/7e45905fefa36347e83333fd6d091140.jpg</td><td>/data/event-planning</td><td>event-planning</td></tr><tr><td>9590</td><td>b849e976-52f6-45d7-8b25-51559318f167</td><td>Top 20 Things To See And Do In Ireland</td><td>Best spots to see for travel through Ireland!</td><td>130000</td><td>Fun Life Crisis</td><td>Vacation Ideas,Vacation Spots,Emerald Isle,London England,Travel Guides,Travel Tips,Travel Hacks,Travel Packing,Places To Travel</td><td>image</td><td>https://i.pinimg.com/originals/c7/50/d3/c750d36524856873d64406652d69b4fb.png</td><td>/data/travel</td><td>travel</td></tr><tr><td>7343</td><td>b8c63a95-6fe8-4d7f-9455-1eef3462fee0</td><td>This Fashion Rule Is Nonsense, And We Should All Forget About It</td><td>Black And Brown Outfits You Need To Try This Fall Season. The trick with black and brown outfits is to know how to combine colors, fabrics, and shapes to get a cohesive look. So… </td><td>1000000</td><td>Cultura Colectiva</td><td>Winter Outfits Men,Stylish Mens Outfits,Casual Outfits,Men Casual,Smart Casual,Outfits For Men,Fall Outfits,Mens Winter Boots,Business Casual Men</td><td>image</td><td>https://i.pinimg.com/originals/3e/49/09/3e4909c0ccc4dbba3cad83d97eab4a61.png</td><td>/data/mens-fashion</td><td>mens-fashion</td></tr><tr><td>4137</td><td>bf275054-4464-448b-9143-1bf101aa366d</td><td>15 Essential Classroom Items For First Year Teachers / First Year Teacher Must Haves</td><td>15 Essential Classroom Items For First Year Teachers / First Year Teacher Must Haves</td><td>5000</td><td>Write Your Story | Budgeting, Healthy Lifestyle, Faith</td><td>1st Year Teachers,First Year Teaching,First Grade Teachers,Elementary Teacher,Montessori Elementary,Teaching Reading,History Teachers,High School Classroom,First Grade Classroom</td><td>image</td><td>https://i.pinimg.com/originals/4b/b9/a8/4bb9a85f609a8384ed9c9ab14e7bcea0.jpg</td><td>/data/education</td><td>education</td></tr><tr><td>5309</td><td>c38bb47b-9584-4fc4-af0d-a31e1061df41</td><td>How to Watch Your Favorite Shows Without Cable</td><td>How to Get Rid of Cable and Still Watch all of your favorite shows! Saving Money Tips for TV & Cable!</td><td>330000</td><td>Passion For Savings</td><td>Ways To Save Money,Money Tips,Money Saving Tips,Money Hacks,Managing Money,Cable Tv Alternatives,Budget Planer,Financial Tips,Financial Planning</td><td>image</td><td>https://i.pinimg.com/originals/c9/18/be/c918be2784382dc49010719bf1742a61.jpg</td><td>/data/finance</td><td>finance</td></tr><tr><td>10794</td><td>c4bd2577-a7bb-4409-bb7a-17d5ed7e1cf1</td><td>TireBuyer</td><td>Nissan GT-R. Sick.</td><td>437</td><td>Ray Uyemura</td><td>Lowrider,Old Vintage Cars,Antique Cars,Austin Martin,Nissan Gtr Black,Jaguar,1959 Cadillac,Cadillac Ct6,Old School Cars</td><td>image</td><td>https://i.pinimg.com/originals/0d/29/9f/0d299f3df020395aa7ce8387f40fbeed.jpg</td><td>/data/vehicles</td><td>vehicles</td></tr><tr><td>7554</td><td>c6fa12f4-0d4a-4b07-a335-5bf9f37f8281</td><td>Craig Style</td><td>imgentleboss: “ - More about men’s fashion at @Gentleboss - GB’s Facebook - ”</td><td>940</td><td>iElylike ..✿◕‿◕✿ஐ✿◕‿◕✿</td><td>Mens Fashion Blog,Look Fashion,Autumn Fashion,Fashion News,Fashion Sale,80s Fashion,Paris Fashion,Runway Fashion,Fashion Trends</td><td>image</td><td>https://i.pinimg.com/originals/e7/6e/8e/e76e8ed6cc838b84a934c6948a5caff7.jpg</td><td>/data/mens-fashion</td><td>mens-fashion</td></tr><tr><td>3419</td><td>d0b80187-0171-49b2-8ee4-572984244f65</td><td>Easy Christmas Tree Crafts Ideas for toddlers and preschoolers | Sharing Our Experiences</td><td>Easy Christmas tree Craft Ideas for toddlers and preschoolers. Engage your kids in these DIY</td><td>3000</td><td>Kids Crafts & Free Preschool Printables- Sharing Our Experiences</td><td>Christmas Crafts For Kids To Make,Christmas Tree Painting,Christmas Activities For Kids,Easy Christmas Crafts For Toddlers,Kid Activities,Christmas Handprint Crafts,Christmas Tree Crafts,Christmas Baby,Xmas Tree</td><td>image</td><td>https://i.pinimg.com/originals/69/f0/75/69f075939d4449dffa69519756c30e26.png</td><td>/data/diy-and-crafts</td><td>diy-and-crafts</td></tr><tr><td>9759</td><td>d105eb6e-0f9f-46e7-8d02-d24b62f6ae90</td><td>8 Best Greek Islands You Have To Visit - TheFab20s</td><td>Although you'd think Greek islands are fairly similar, you'd be completely wrong! Each island has it's own personality and appeal. Here are the 8 Best Greek Islands to visit, es… </td><td>42000</td><td>TheFab20s | Travel+Food+DIY+Listicles</td><td>Greek Islands To Visit,Best Greek Islands,Greece Islands,Cool Places To Visit,Places To Go,Best Places In Portugal,Copenhagen Travel,Paros Island,Santorini Island</td><td>image</td><td>https://i.pinimg.com/originals/06/1d/ce/061dce38929dec8e74844442116bea4a.jpg</td><td>/data/travel</td><td>travel</td></tr><tr><td>3800</td><td>d2c367ed-9287-4ea3-b173-198b292d9981</td><td>Reinforcing the Difficult Child When Token Boards Don't Work!</td><td>behavior, special education, token boards, when token boards don't work, money token systems</td><td>11000</td><td>Traci Bender - The Bender Bunch</td><td>Special Education Behavior,Classroom Behavior Management,Behavior Plans,Behaviour Management,Behavior Charts,Behavior Board,Behavior Report,Behavior Analyst,Preschool Special Education</td><td>image</td><td>https://i.pinimg.com/originals/24/f9/e2/24f9e22ada4a79c61432ef6c8fe1d0f9.jpg</td><td>/data/education</td><td>education</td></tr><tr><td>10625</td><td>d31885b7-742a-4e2a-bbb7-ac5f9d334340</td><td>Jaguar Type E</td><td>1937 Jaguar SS100 - 2 1/2 Litre Roadster, one of the most sought after pre-war sports cars</td><td>8000</td><td>hobbyDB</td><td>Jaguar Type E,Jaguar Xk,Jaguar Cars,Jaguar Roadster,Jaguar Sport,Retro Cars,Vintage Cars,Antique Cars,British Sports Cars</td><td>image</td><td>https://i.pinimg.com/originals/26/81/a7/2681a71bd0c8f7fd0ab79c455338a49a.jpg</td><td>/data/vehicles</td><td>vehicles</td></tr><tr><td>5630</td><td>d41e703c-c97c-4c5a-9f9c-338982ca7504</td><td>7 Insanely Useful Money Management Worksheets</td><td>Get your personal finance in order with these 8 fr…</td><td>46000</td><td>R.J. Weiss at The Ways To Wealth | Personal Finance | Debt Payoff</td><td>Ways To Save Money,Money Tips,Money Saving Tips,Money Budget,Saving Ideas,Budgeting Finances,Budgeting Tips,Planning Budget,Budget Planer</td><td>image</td><td>https://i.pinimg.com/originals/f1/4f/cc/f14fcc75ee73ff22c983bdce70c022e2.jpg</td><td>/data/finance</td><td>finance</td></tr><tr><td>10663</td><td>d5208c16-82ae-4fd1-87f0-36e5ef789412</td><td>21+ Classic Car Picture of the 1950s - Vintagetopia</td><td>There are a lot of options of places to stay so you probably only have to book the initial one so you know the best place to land from the airport</td><td>171000</td><td>vintagetopia</td><td>Old Classic Cars,Classic Trucks,Old Vintage Cars,Antique Cars,Vintage Trucks,Antique Trucks,Cadillac,Convertible,Mustang</td><td>image</td><td>https://i.pinimg.com/originals/e9/01/4d/e9014d537dd2b81c606e8466cef3904c.jpg</td><td>/data/vehicles</td><td>vehicles</td></tr><tr><td>719</td><td>d7c53e34-9540-4f48-a31b-89b6ed1852bb</td><td>10 Art Sub Lessons that only need a Pencil</td><td>10 art sub lessons that only need a pencil. Cover lessons for art teachers. Make the perfect art sub lessson folder with this amazing resources.</td><td>25000</td><td>The Arty Teacher</td><td>Art Lessons For Kids,Art Lessons Elementary,Art For Kids,Art Sub Plans,Art Lesson Plans,Art Substitute Plans,High School Art,Middle School Art,Primary School Art</td><td>image</td><td>https://i.pinimg.com/originals/ee/a8/78/eea878911033897d981a69d9f6b2fb7c.png</td><td>/data/art</td><td>art</td></tr><tr><td>2418</td><td>da8745a6-5160-46c4-877d-181d50a729fd</td><td>100 DIY Christmas Centerpieces You'll Love To Decorate Your Home With For The Christmas Season - Hike n Dip</td><td>Here are the best DIY Christmas Centerpieces ideas perfect for your Christmas & holiday season home decor. From Christmas Vignettes to Table Centerpieces.</td><td>500000</td><td>HikenDip</td><td>Farmhouse Christmas Decor,Rustic Christmas,Christmas Time,Vintage Christmas,Xmas,Primitive Christmas Crafts,Christmas Vignette,Indoor Christmas Decorations,Diy Christmas Ornaments</td><td>image</td><td>https://i.pinimg.com/originals/aa/6d/0f/aa6d0f44d7c1c96b998cb9aa6c4446b8.png</td><td>/data/christmas</td><td>christmas</td></tr><tr><td>1268</td><td>e2f2cec5-cda5-42b2-ab9d-6dddf863e94e</td><td>Janet on Twitter</td><td>Here’s how to get long-lasting makeup, so you can do your face in the morning and be set for the entire day. Follow these makeup tips for foundation, lipstick and more using pro… </td><td>3000</td><td>Tony</td><td>Beauty Makeup,Eye Makeup,Diy Beauty,Beauty Ideas,Beauty Skin,Homemade Beauty,Wolf Makeup,Oily Skin Makeup,Face Beauty</td><td>image</td><td>https://i.pinimg.com/originals/d9/d1/3b/d9d13b9ac47d54940f05a75345a873d4.jpg</td><td>/data/beauty</td><td>beauty</td></tr><tr><td>8731</td><td>ea760f71-febf-4023-b592-d17396659039</td><td>20 Koi Fish Tattoos For Lucky Men</td><td>Koi fish tattoos are a popular choice for men who want to make a statement, thanks to their rich symbolism and bold design.</td><td>211000</td><td>TheTrendSpotter</td><td>Dr Tattoo,Wörter Tattoos,Pisces Tattoos,Tatoo Art,Dream Tattoos,Dope Tattoos,Mini Tattoos,Finger Tattoos,Body Art Tattoos</td><td>image</td><td>https://i.pinimg.com/originals/8a/0c/0a/8a0c0a7b6236565c519acd41ad1a52c0.jpg</td><td>/data/tattoos</td><td>tattoos</td></tr><tr><td>9546</td><td>efd5b2d6-2f69-40cd-bb59-41f18c089e52</td><td>20 Amazing Trips to Take in Your Twenties!</td><td>The best trips to take when you are young!</td><td>89000</td><td>The World Pursuit Travel Website</td><td>Fun Places To Go,Beautiful Places To Travel,Best Places To Travel,Travel Jobs,Holiday Places,Future Travel,Travel Around The World,Adventure Travel,Travel Photos</td><td>video</td><td>https://i.pinimg.com/videos/thumbnails/originals/81/97/c1/8197c1beef8bcb19bea5d8b422211f34.0000001.jpg</td><td>/data/travel</td><td>travel</td></tr><tr><td>205</td><td>f4afd543-b9fe-44c3-8064-f2198faa1372</td><td>DIY Abstract Heart Painting and a Fun Paint Party</td><td>Use our easy step by step tutorial to create a DIY abstract heart painting on any canvas size. Lots of inspiration to help you choose colors.</td><td>410000</td><td>The Creativity Exchange</td><td>Painting & Drawing,Watercolor Paintings,Original Paintings,Owl Watercolor,Acrylic Paintings,Owl Art,Bird Art,Beginner Painting,Animal Paintings</td><td>image</td><td>https://i.pinimg.com/originals/33/85/f8/3385f82ee5e8ecdcccdf798bdcbee3d2.jpg</td><td>/data/art</td><td>art</td></tr><tr><td>5076</td><td>fa3af29c-dc78-4eed-a4c5-52a407ea04c0</td><td>Quiz: Test Your Event IQ! - Pointers For Planners</td><td>So you're thinking of getting your event planner certification, but how much do you REALLY know about event planning? Event planners need to be knowledgeable and able to answer… </td><td>5000</td><td>QC Career School</td><td>Diy Wedding Food,Best Wedding Makeup,Wedding Events,Wedding Tips,Wedding Stuff,Weddings,Event Planning Business,Business Events,Wedding Makeup Tutorial</td><td>image</td><td>https://i.pinimg.com/originals/6f/19/bc/6f19bce24921bf843540fc04da9eb6bf.jpg</td><td>/data/event-planning</td><td>event-planning</td></tr><tr><td>3156</td><td>fa6e31a4-18c2-4eca-a6d8-e903eee2c2a4</td><td>Handprint Reindeer Ornaments - Crafty Morning</td><td>This post may contain affiliate links, read our Disclosure Policy for more information. As an Amazon Associate I earn from qualifying purchases, thank you! Make some cute handpr… </td><td>892000</td><td>Michelle {CraftyMorning.com}</td><td>Christmas Gifts For Parents,Christmas Decorations For Kids,Christmas Crafts For Toddlers,Preschool Christmas,Christmas Crafts For Gifts,Christmas Activities,Toddler Crafts,Kids Christmas,Christmas Feeling</td><td>image</td><td>https://i.pinimg.com/originals/ff/fe/38/fffe384f3ec18a0d87cb2d80cc8c1499.jpg</td><td>/data/diy-and-crafts</td><td>diy-and-crafts</td></tr><tr><td>4988</td><td>fbdfd355-a356-46c2-a251-301869ae2674</td><td>Fun Book Page Crafts - MomAdvice</td><td>Fun Book Page Crafts - MomAdvice</td><td>112000</td><td>MomAdvice</td><td>Harry Potter Wedding,Harry Potter Theme,Wedding Book,Wedding Table,Wedding Ideas,Wedding Vintage,Garden Wedding,Vintage Party,Wedding Paper</td><td>image</td><td>https://i.pinimg.com/originals/17/55/87/175587b334e71c12300453b8b4b4c6aa.jpg</td><td>/data/event-planning</td><td>event-planning</td></tr><tr><td>3599</td><td>ff0dd945-dafa-411c-8cef-eb43e374e815</td><td>Educational Leadership in Aotearoa New Zealand : Issues of Context and Social Justice</td><td>This book presents 10 inspirational case studies of how centre leaders, principals and leadership teams in high-needs New Zealand educational settings have enacted leadership to… </td><td>2000000</td><td>Walmart</td><td>Research Studies,Educational Leadership,Education System,Secondary School,Try It Free,Book Format,Social Justice,Young People,Paperback Books</td><td>image</td><td>https://i.pinimg.com/originals/0e/ea/c4/0eeac457780bbe43fcc5e9eaabd80f62.jpg</td><td>/data/education</td><td>education</td></tr></tbody></table></div>"
      ]
     },
     "metadata": {
      "application/vnd.databricks.v1+output": {
       "addedWidgets": {},
       "aggData": [],
       "aggError": "",
       "aggOverflow": false,
       "aggSchema": [],
       "aggSeriesLimitReached": false,
       "aggType": "",
       "arguments": {},
       "columnCustomDisplayInfos": {},
       "data": [
        [
         "8578",
         "036ec267-658b-4dad-a097-8ef0b4f30c0d",
         "Snake Collarbone Temporary Tattoo. Halloween Tattoos  Spooky | Etsy",
         "Snake temporary tattoo for collarbone. Spooky 3D tattoo for Halloween Includes 2 copies, 1 for the right side and 1 for the left side Apply with water and remove anytime with ba… ",
         0,
         "Livitrevisani",
         "Finger Tattoo Designs,Small Tattoo Designs,Finger Tattoos,Small 3d Tattoos,Cool Tattoos,Line Work Tattoo,Back Tattoo,Collarbone Tattoo,Tattoo Neck",
         "image",
         "https://i.pinimg.com/originals/d8/b7/a1/d8b7a11a3fe64e7fab91d3afb1536537.jpg",
         "/data/tattoos",
         "tattoos"
        ],
        [
         "2482",
         "08604f20-fa17-4b9a-9949-781717eca6cd",
         "FORNT PORCH CHRISTMAS DECORATING IDEAS",
         "Christmas decorating ideas for porches. Beautiful holiday decor ideas for front porches both small and large. Outdoor decorations like sleds, lanterns, Christmas trees, wreaths,… ",
         46000,
         "Life on Summerhill | Home, Holiday Decor & DIY Website",
         "Diy Christmas Decorations For Home,Farmhouse Christmas Decor,Christmas Home,Christmas Holidays,Christmas Front Porches,How To Decorate For Christmas,Christmas Porch Ideas,Christmas Decorating Ideas,Large Outdoor Christmas Decorations",
         "video",
         "https://i.pinimg.com/videos/thumbnails/originals/40/83/f5/4083f5b4971bf235f89a4784ab87271e.0000001.jpg",
         "/data/christmas",
         "christmas"
        ],
        [
         "1545",
         "0c629541-cc5b-4b61-bd3f-613346893258",
         "Oil Cleansing Method: What it is and why you should do it.",
         "The oil cleansing method is a simple, natural way to have clean skin without using toxic chemicals. It will leave your face radiant and soft!",
         85000,
         "Thank Your Body",
         "Beauty Care,Diy Beauty,Beauty Hacks,Beauty Shop,Oil Cleansing Method,Goji,Korean Skincare Routine,Homemade Beauty Products,Organic Beauty",
         "image",
         "https://i.pinimg.com/originals/2c/1c/da/2c1cda7da86ee711536bbacfe89c75c9.jpg",
         "/data/beauty",
         "beauty"
        ],
        [
         "10552",
         "17301b8c-ccbb-42ad-b2df-3876df35b1cd",
         "The Prowler Emergency Response Vehicle",
         "January 23, 2009 We can see emergency responders queueing up for this one. ATVCorp has created versions of its Prowler Light Tactical All Terrain Vehicle (LTATV) for fire-fighti… ",
         314,
         "p hump",
         "Army Vehicles,Armored Vehicles,Go Kart Buggy,Atv Attachments,Aviation Fuel,Special Forces,Special Ops,Terrain Vehicle,Emergency Response",
         "image",
         "https://i.pinimg.com/originals/14/6b/6b/146b6b1a1127773f7046e08550e68ed0.jpg",
         "/data/vehicles",
         "vehicles"
        ],
        [
         "46",
         "19234073-8905-4885-b0d5-98e0b84cbf27",
         "10 Watercolor Hacks For Beginners | Tips and Tricks to Making Watercolor Painting Easier",
         "Mountain monologue watercolor",
         27000,
         "It's me, JD | DIY, Crafts, Home & Organization",
         "Arte Inspo,Kunst Inspo,Watercolor Artists,Watercolor Ideas,Simple Watercolor,Tattoo Watercolor,Watercolor Techniques,Watercolor Animals,Watercolor Illustration",
         "image",
         "https://i.pinimg.com/originals/fd/54/89/fd548935dcb13545120a2115baaa41d9.jpg",
         "/data/art",
         "art"
        ],
        [
         "9672",
         "1a5050a4-ac82-472c-aeff-3457de8bbee9",
         "Lake Moraine, Banff, Canada",
         "On our Calgary to Vancouver road trip we got to spend time in Banff, Canada. We visited the stunning Lake Moraine as well as Lake Louise and plenty of other of Canada's natural… ",
         7000,
         "Travel Mad Mum",
         "Beautiful Places To Travel,Cool Places To Visit,Beautiful Roads,Beautiful Scenery,Wonderful Places,Lac Moraine,Moraine Lake,Lac Louise,Natur Wallpaper",
         "video",
         "https://i.pinimg.com/videos/thumbnails/originals/57/9d/52/579d52242ae5609978c754d393e44e81.0000001.jpg",
         "/data/travel",
         "travel"
        ],
        [
         "5730",
         "1e1f0c8b-9fcf-460b-9154-c775827206eb",
         "Island Oasis Coupon Organizer",
         "Description Coupon Organizer in a fun colorful fabric -island oasis, Great Size for the \"basic\" couponer - holds up to 500 coupons with ease, and is made long enough so that you… ",
         0,
         "Consuelo Aguirre",
         "Grocery Items,Grocery Coupons,Care Organization,Coupon Organization,Extreme Couponing,Couponing 101,Life Binder,Save My Money,Love Coupons",
         "image",
         "https://i.pinimg.com/originals/65/bb/ea/65bbeaf458907bb079317d8303c4fa0e.jpg",
         "/data/finance",
         "finance"
        ],
        [
         "1555",
         "1f20551b-a21c-4ff0-b20d-49e95fdc50d3",
         "Skin Purging: Die Pflegemethode für reine Haut | ELLE",
         "Skin Purging sorgt für die reinste Haut, die du jemals hattest #skin äpurging #skinpurging #skincare #hautpflege #schönehaut #haut #beauty #tips",
         326000,
         "ELLE Germany",
         "Natural Hair Mask,Natural Hair Styles,Natural Beauty,Skin Tag,How To Apply Makeup,Pimples,Beauty Routines,Skincare Routine,Glowing Skin",
         "image",
         "https://i.pinimg.com/originals/93/b2/7b/93b27be044b2fd2f227f30a7f2c2faf2.jpg",
         "/data/beauty",
         "beauty"
        ],
        [
         "9936",
         "1f3154a6-13f0-4049-8d5c-faea15b9f07c",
         "Chasing Waterfalls in Costa Rica",
         "Volcanoes, hikes, and hot springs in Costa Rica! The ultimate 5 day travel itinerary. - #costarica #travel #blogging #blog #bucketlist",
         22000,
         "Jess Wandering",
         "Costa Rica Reisen,Costa Rica Travel,Vacation Places,Dream Vacations,Vacation Spots,Vacation Food,Vacation Ideas,Voyage Dubai,Beautiful Places To Travel",
         "image",
         "https://i.pinimg.com/originals/60/fe/4c/60fe4c3602e8e50e2e9f787ed27d2aba.jpg",
         "/data/travel",
         "travel"
        ],
        [
         "2293",
         "1fd7d4cc-54c1-4542-9c1f-449cb4c875f4",
         "Over 40 of the BEST Homemade Christmas Ornament Ideas",
         "Over 40 of the BEST Homemade Christmas Ornaments...these easy Holiday crafts are so fun to make for Kids and Adults! Lots of great class party ideas!",
         245000,
         "Kitchen Fun With My 3 Sons",
         "Diy Christmas Lights,Homemade Christmas Decorations,Christmas Crafts For Gifts,Mini Christmas Tree,Christmas Ornament Crafts,Homemade Christmas Gifts,Xmas Decorations,Simple Christmas,Handmade Christmas",
         "image",
         "https://i.pinimg.com/originals/d0/d3/a3/d0d3a31e87296224d5ba8896904b5b88.jpg",
         "/data/christmas",
         "christmas"
        ],
        [
         "4315",
         "21b59ba9-829d-4c33-8c27-4cd4c56d26b8",
         "Podcasts for Teachers or Parents of Teenagers",
         "Podcasts for Teachers or Parents of Teenagers: Teaching teens middle school and high school can feel joyful and rewarding most days, but can also frustrate you with one challeng… ",
         25000,
         "Math Giraffe",
         "Middle School Classroom,High School Students,High School Teachers,Middle School Tips,High School Counseling,Ela Classroom,High School Science,Future Classroom,Google Classroom",
         "image",
         "https://i.pinimg.com/originals/50/19/31/501931a27ee4d076658980851b995b2c.jpg",
         "/data/education",
         "education"
        ],
        [
         "808",
         "23f67e42-db9f-4aae-8b82-cbec64ad9f4d",
         "Chalk Pastel Hot Chocolate Art Project",
         "Kids will use chalk pastels and black paper to create this bold and bright hot chocolate art project! Easy to follow tutorial included.",
         20000,
         "Projects with Kids",
         "Hot Chocolate Art,Chocolate Crafts,Art Activities For Kids,Preschool Art,Preschool Winter,Christmas Activities,Winter Art Projects,Clay Art Projects,Chalk Pastel Art",
         "image",
         "https://i.pinimg.com/originals/5a/d3/82/5ad38202cf8acb022cb8f46ce2a78ad6.jpg",
         "/data/art",
         "art"
        ],
        [
         "8653",
         "24b1343c-4d86-4705-8ec9-7f1f2df2d77e",
         "Unique Women Tattoos Ideas 2020",
         "We welcome you to our latest collection of Beautiful Tattoo Ideas For Women. Check out and get inspired by the most beautiful design for yourself.",
         21000,
         "ALL FOR WOMAN",
         "Small Back Tattoos,Small Girl Tattoos,Little Tattoos,Tattoo Girls,Mini Tattoos,Tattoo Small,Back Tattoo Women,Tattoo On Back,Girl Back Tattoos",
         "image",
         "https://i.pinimg.com/originals/fa/cf/7c/facf7cd752a4bc7c09faaa8925ab80b1.jpg",
         "/data/tattoos",
         "tattoos"
        ],
        [
         "9979",
         "2b2abc85-fc51-481f-8ae6-17681993da28",
         "Paris in the Summer. 10 fun things to do in Paris in the Summertime • Petite in Paris",
         "Are you traveling to Paris during the summer? Find out what to do in Paris, France during the summer. Fun summertime activities in Paris. Enjoy the incredible outdoors when trav… ",
         3000,
         "Petite in Paris",
         "Torre Eiffel Paris,Tour Eiffel,Picnic In Paris,Hello France,Voyage Europe,Destination Voyage,Beautiful Places To Travel,Travel Aesthetic,Paris Travel",
         "image",
         "https://i.pinimg.com/originals/6c/4c/90/6c4c90bba27ebf8c8bfe4c1acfb9f07a.jpg",
         "/data/travel",
         "travel"
        ],
        [
         "4076",
         "3a52d364-7c04-47cb-a3e5-56d9e2b77528",
         "Phonics Activities Your Kids Will Love - The Literacy Nest",
         "Hi everyone! As a teacher using the Orton-Gillingham approach, I am constantly looking for phonics activities that my students will find fun and engaging. Using Orton-Gillingham… ",
         22000,
         "The Literacy Nest",
         "Literacy Games,Kindergarten Activities,Literacy Centers,Fun Phonics Activities,Listening Activities,Vocabulary Games,Literacy Stations,Letter Activities,Montessori Activities",
         "image",
         "https://i.pinimg.com/originals/58/8e/38/588e380b19942a71a86a69d9c9973d25.png",
         "/data/education",
         "education"
        ],
        [
         "2959",
         "439cac4b-18e8-4aaa-88c5-edb26a701111",
         "The Cutest Toilet Paper Crafts",
         "One thing I love about Crafts is how the evolve! These toilet paper rolls are adorable and modern. I love that something as simple as a recycled toilet paper roll can be taken t… ",
         502000,
         "CraftGossip.com",
         "Toilet Paper Roll Crafts,Cardboard Crafts,Diy Paper,Paper Crafting,Toilet Paper Rolls,Cardboard Playhouse,Paper Art,Kids Crafts,Toddler Crafts",
         "image",
         "https://i.pinimg.com/originals/c6/cd/0d/c6cd0d04da9cfc11566cfd34eeb1f918.jpg",
         "/data/diy-and-crafts",
         "diy-and-crafts"
        ],
        [
         "3454",
         "46bd3f86-b09d-4e29-9033-7ff2df595e51",
         "What can you use to color resin?",
         "HELPFUL RESOURCES – Check out my resin colorants resources page here with links to all the products mentioned in this article (and more). Let me know if you have any that you lo… ",
         6000,
         "Mixed Media Crafts",
         "Epoxy Resin Art,Diy Resin Art,Diy Resin Crafts,Resin Molds,Ice Resin,Resin Pour,Diy Epoxy,Diy Resin Painting,Diy Resin Dice",
         "image",
         "https://i.pinimg.com/originals/d4/12/78/d4127833023ca32600571ddca16f1556.jpg",
         "/data/diy-and-crafts",
         "diy-and-crafts"
        ],
        [
         "427",
         "4a455340-09a2-4370-ad86-73d7964603db",
         "DIY Acrylic Paint Pouring Wall Art - Abbotts At Home",
         "Easy to follow steps for this easy DIY wall art. Acrylic Paint Pouring with a blow dryer, Dutch paint pour. Written steps and full step by step video to help you do it too! 👍",
         52000,
         "Abbotts At Home",
         "Acrylic Pouring Art,Acrylic Wall Art,Acrylic Pouring Techniques,Acrylic Paintings,Art Paintings,Marble Art,Marble Painting,Pour Painting,Large Canvas Art",
         "video",
         "https://i.pinimg.com/videos/thumbnails/originals/d5/5e/fa/d55efa6ef50d35dac425cea935f39c89.0000001.jpg",
         "/data/art",
         "art"
        ],
        [
         "7166",
         "4a844b03-e161-47a1-904b-591eb5dc4fb1",
         "The Killers - Mr. Brightside - Women's T-Shirt - Heather Dark Grey / S",
         "Women's T-shirt. Design inspired by the rock band The Killers' hit \"Mr. Brightside\". One of the greatest song from the album Hot Fuss released in 2004. Soft and light, 100% cott… ",
         27,
         "Mala Rock | Rock T-shirts",
         "Mr Brightside,Rock T Shirts,Greatest Songs,Timeless Classic,Rock Bands,Album,T Shirts For Women,Inspired,Hot",
         "image",
         "https://i.pinimg.com/originals/8c/42/39/8c42391d35fcad51a4a79f7cd81bf26d.jpg",
         "/data/mens-fashion",
         "mens-fashion"
        ],
        [
         "4913",
         "4d2d79c6-9ca8-46c9-a38e-931c5d967804",
         "How to Work From Home as an Event Planner",
         "Do you love planning parties? Do you want to work-at-home? This post covers everything you need to know about becoming a home-based event planner!",
         110000,
         "The Work at Home Woman",
         "Event Planning Tips,Event Planning Business,Party Planning,Business Ideas,Craft Business,Business Chic,Business Inspiration,Business Goals,Business Opportunities",
         "image",
         "https://i.pinimg.com/originals/4d/a3/a4/4da3a4730418239f1b43ce81fb032c15.jpg",
         "/data/event-planning",
         "event-planning"
        ],
        [
         "2411",
         "4e11801e-7a64-4f1e-90dd-e900677595c5",
         "The Sweetest Gingerbread House Ornaments Kids Can Make",
         "Transform mini terra cotta pots into the sweetest gingerbread house ornaments! Kids will love making this adorable Christmas craft to hang on the tree.",
         20000,
         "Projects with Kids",
         "Noel Christmas,Diy Christmas Ornaments,Homemade Christmas,Simple Christmas,Gingerbread Ornaments,Christmas Gingerbread,Gingerbread Houses,Preschool Christmas,Ornaments Ideas",
         "image",
         "https://i.pinimg.com/originals/13/28/09/1328097d7c290d1bf8642b01a6ba1c6c.jpg",
         "/data/christmas",
         "christmas"
        ],
        [
         "2923",
         "52fa3af5-24a4-4ccb-8f17-9c3eb12327ee",
         "UFO Paper Plate Craft",
         "A fun space activity for kids. Preshoolers and kindergartners will love making their own alien spacecraft!",
         192000,
         "The Crafting Chicks",
         "Paper Plate Crafts For Kids,Fun Crafts For Kids,Summer Crafts,Toddler Crafts,Art For Kids,Outer Space Crafts For Kids,Kid Crafts,Space Kids,Back To School Crafts For Kids",
         "image",
         "https://i.pinimg.com/originals/6f/e8/aa/6fe8aa405513c6d2f77b5f47d17cdce8.jpg",
         "/data/diy-and-crafts",
         "diy-and-crafts"
        ],
        [
         "8304",
         "5b6d0913-25e4-43ab-839d-85d5516f78a4",
         "The #1 Reason You’re Not His Priority Anymore - Matthew Coast",
         "#lovequotes #matchmaker #matchmadeinheaven #loveyourself #respectyourself",
         51000,
         "Commitment Connection",
         "Wise Quotes,Quotable Quotes,Words Quotes,Wise Words,Quotes To Live By,Great Quotes,Motivational Quotes,Inspirational Quotes,Funny Quotes",
         "image",
         "https://i.pinimg.com/originals/c6/64/ee/c664ee71524fb5a6e7b7b49233f93b43.png",
         "/data/quotes",
         "quotes"
        ],
        [
         "8887",
         "5df9f6e5-07f5-4ce8-a82e-96586bbc05d8",
         "25 Ultra Sexy Back Tattoo Ideas For Girls",
         "Tattoos are one of the most efficient ways through which one decides to express themselves…",
         4000,
         "RapidLeaks",
         "Dream Tattoos,Body Art Tattoos,New Tattoos,Small Tattoos,Cross Tattoos,Random Tattoos,Fashion Tattoos,Bird Tattoos,Fitness Tattoos",
         "image",
         "https://i.pinimg.com/originals/ab/8e/50/ab8e505b04d4abc8f23e273c15f8a65d.jpg",
         "/data/tattoos",
         "tattoos"
        ],
        [
         "831",
         "5e65914d-9f58-4ff1-9676-658e426e8ce5",
         "creating mixed-media faces tutorial",
         "Free quick inspirational video on creating a mixed media face with acrylic, collage, stenciling and simple techniques. Come on over to watch",
         27000,
         "Shawn Petite",
         "Collage Kunst,Paper Collage Art,Collage Art Mixed Media,Mixed Media Painting,Mixed Media Canvas,Canvas Collage,Art Collages,Wall Canvas,Canvas Art",
         "video",
         "https://i.pinimg.com/videos/thumbnails/originals/05/86/a4/0586a4116e1fc34efc25e064ccd123e8.0000001.jpg",
         "/data/art",
         "art"
        ],
        [
         "1704",
         "5fbf9863-fb79-477c-a5b6-540c3020a55f",
         "Christmas Trees From Pallet Wood | Holiday DIY",
         "Christmas Trees From Pallet Wood | Holiday DIY: Deck the yard with some fun outdoor Christmas Trees! We made these merry and bright decorations from two old pallets we had lying… ",
         3000000,
         "Instructables",
         "Pallet Wood Christmas Tree,Wooden Christmas Crafts,Diy Christmas Tree,Christmas Projects,Holiday Crafts,Wooden Xmas Trees,Different Christmas Trees,Pallet Tree,Christmas Kitchen",
         "image",
         "https://i.pinimg.com/originals/64/7b/ca/647bca35169b7c144604116c64bcba8a.png",
         "/data/christmas",
         "christmas"
        ],
        [
         "6063",
         "60693727-4927-4bd6-a8c5-096a392d63e6",
         "41 Gorgeous Fall Decor Ideas For Your Home - Chaylor & Mads",
         "Beautiful and easy ways to update every room in your home with fall decor. Plus, my favorite finds in fall decor for 2020!",
         92000,
         "Kristen | Lifestyle, Mom Tips & Teacher Stuff Blog",
         "Fall Home Decor,Autumn Home,Fall Decor Outdoor,Front Porch Fall Decor,Home Decor Ideas,Porch Ideas For Fall,Fall Outdoor Decorating,Decorating Ideas For Fall,Fall Front Doors",
         "image",
         "https://i.pinimg.com/originals/e5/ae/dc/e5aedc14ce557e3a69f672e0f8c88f6e.png",
         "/data/home-decor",
         "home-decor"
        ],
        [
         "428",
         "610b3f83-9fe0-469d-946c-d16b577fca71",
         "Fashion Designer Isaac Mizrahi’s Updated 1930s New York City Apartment",
         "Fashion designer Issac Mizrahi’s Greenwich Village home is an amalgamation of three apartments that was 20 years in the making",
         3000000,
         "Architectural Digest",
         "Modern Art,Contemporary Art,Contemporary Kitchens,Contemporary Bedroom,New York City Apartment,Manhattan Apartment,Art Moderne,Architectural Digest,Painting Inspiration",
         "image",
         "https://i.pinimg.com/originals/f4/6c/54/f46c546a2e480022a42d842b7dca157e.jpg",
         "/data/art",
         "art"
        ],
        [
         "6844",
         "69c3f268-274f-44bd-9cb4-427e64fefc44",
         "♔the-fashman♔",
         "billy-george: “Summer styles ”",
         377,
         "Au'vey Smith",
         "Fashion Week Hommes,La Fashion Week,Fashion Moda,Urban Fashion,Trendy Fashion,Fashion Spring,Fashion 2017,New Mens Fashion,Trendy Clothing",
         "image",
         "https://i.pinimg.com/originals/3c/8c/53/3c8c534cd02334c50047bd3a4feccce9.jpg",
         "/data/mens-fashion",
         "mens-fashion"
        ],
        [
         "6566",
         "6d8848f8-f515-4935-8dae-5dd02304d76e",
         "Navy and Neutral Fall Living Room + Kitchen Tour - Sand and Sisal",
         "Celebrate fall with a neutral color palette with natural elements. This Navy and Neutral Fall Living Room + Kitchen Tour will make you rethink fall decor.",
         178000,
         "Sand and Sisal",
         "Fall Living Room,Coastal Living Rooms,Living Room Paint,Living Room Kitchen,Living Room Interior,Living Room Furniture,Living Room Decor,Living Area,Small Living",
         "image",
         "https://i.pinimg.com/originals/f1/be/b6/f1beb6d3414f1c52929df39a83d8da9f.jpg",
         "/data/home-decor",
         "home-decor"
        ],
        [
         "1094",
         "6deacdcd-75ed-4dd8-8951-9b77453f38e0",
         "9 colors lazy lipstick - 9 colors lazy lipstick4",
         "9 colors lazy lipstick",
         8000,
         "Jiew82633",
         "Nail Inspo,Lazy,Lipstick,How To Apply,Makeup,Colors,Products,Make Up,Lipsticks",
         "image",
         "https://i.pinimg.com/originals/25/cf/8c/25cf8cb74b43ab95591342c2bbe4ecd8.jpg",
         "/data/beauty",
         "beauty"
        ],
        [
         "8606",
         "71757040-bfc8-4631-9cac-22801e61d9e3",
         "30+ Eagle Tattoos Ideas for Women",
         "summcoco gives you inspiration for the women fashion trends you want. Thinking about a new look or lifestyle? This is your ultimate resource to get the hottest trends. 30+ Eagle… ",
         306000,
         "Sumcoco | Decor Ideas, Hairstyles, Nails Fashion Advice",
         "White Bird Tattoos,Rose Tattoos,Flower Tattoos,Tattoo Black,Bird And Flower Tattoo,Tattoo Floral,Mini Tattoos,Flower Art,Girls With Sleeve Tattoos",
         "image",
         "https://i.pinimg.com/originals/8d/c6/ed/8dc6ed0b212393187a14c7d07a88060f.png",
         "/data/tattoos",
         "tattoos"
        ],
        [
         "2015",
         "72359164-4419-452c-81cb-74f30a5a26b7",
         "16 Blissful Christmas Table Decor Ideas That You Must See",
         "Take a look at this new collection of Christmas decor featuring 16 Blissful Christmas Table Decor Ideas That You Must See. Happy holidays!",
         616000,
         "ArchitectureArtDesigns",
         "Kids Crafts,Christmas Crafts For Kids,Homemade Christmas,Christmas Projects,Holiday Crafts,Christmas Gift Ideas,Preschool Christmas,Tree Crafts,Christmas Inspiration",
         "image",
         "https://i.pinimg.com/originals/5f/70/30/5f7030a35bb8a1491e915fb0ae29bcf5.jpg",
         "/data/christmas",
         "christmas"
        ],
        [
         "2698",
         "73f16302-4871-486a-8836-947530526337",
         "DIY Dollar Tree Valentine's Day Wreath",
         "DIY Dollar Store Valentine’s Day Heart Wreath Decoration. There are so many great Valentine crafts at the Dollar Tree right now! During our last trip, we picked up a few supplie… ",
         9000,
         "South Lumina Style",
         "Valentine Day Wreaths,Valentines Day Hearts,Valentines Day Decorations,Valentine Day Crafts,Holiday Crafts,Diy Christmas,Christmas Wreaths,Valentine Tree,Printable Valentine",
         "image",
         "https://i.pinimg.com/originals/dc/f6/8a/dcf68adcc63c339c24fa5664f1115994.png",
         "/data/diy-and-crafts",
         "diy-and-crafts"
        ],
        [
         "9875",
         "782dcbad-ff91-40a6-ba60-216efe29adb7",
         "European Bucket List: 35 Things NOT To Miss When Traveling Europe",
         "35 European bucket list destinations for any traveler heading to Europe. From Cinque Terre, Italy to Iceland - there are so many amazing sites to see in Europe.",
         28000,
         "Nicki ",
         "Backpacking Europe,Europe Travel Guide,Travel Guides,Travel Packing,Traveling Europe,Travelling,Travel Backpack,Budget Travel,2 Week Europe Itinerary",
         "image",
         "https://i.pinimg.com/originals/71/04/1a/71041ad83ede43d9665741e719c58a86.jpg",
         "/data/travel",
         "travel"
        ],
        [
         "603",
         "78e21a64-53b0-4745-8294-e8c456f0ccc1",
         "How to Create Alcohol Ink Rings For Gorgeous Pieces of Art -",
         "Learn to create alcohol ink rings for gorgeous pieces of art. Each ring sits on top of another, giving a multilayered appearance",
         7000,
         "Kim Cook-Thirteen Chairs-Slates Mugs And Tees",
         "Alcohol Ink Tiles,Alcohol Ink Glass,Alcohol Ink Crafts,Alcohol Ink Painting,Pour Painting,Zealand Tattoo,Copics,Types Of Art,Art Techniques",
         "image",
         "https://i.pinimg.com/originals/03/03/1f/03031fdc9775d0c06f61d68e51362379.png",
         "/data/art",
         "art"
        ],
        [
         "1422",
         "7bbe860c-a739-4ba9-babd-feb24bb6e4d9",
         "41 Life-Saving Beauty Hacks Every Girl Should Have In Her Arsenal",
         "Might try this... I'm generally skeptical about at-home remedies, but I know baking soda and lemons both do wonders. More",
         5000000,
         "BuzzFeed",
         "Baking Soda Lemon Juice,Diy Beauté,Tips Belleza,Belleza Natural,Health And Beauty Tips,Beauty Secrets,Beauty Advice,Diy Beauty Tips,Beauty Life Hacks",
         "image",
         "https://i.pinimg.com/originals/c8/ab/af/c8abaffc56050f674eef8e65ad684929.jpg",
         "/data/beauty",
         "beauty"
        ],
        [
         "6145",
         "82e13a07-db99-43a3-b1c0-89a4b75821da",
         "HOLIDAY MANTLE DECOR - @AMAZON & @TARGET FINDS",
         "Holiday mantle decor, Christmas decor, metallic mercury glass style Christmas trees, eucalyptus vine, evergreen pine branches, white neutral holiday decor, cozy mantle for the h… ",
         83000,
         "Stylin by Aylin",
         "Winter Home Decor,Christmas Living Room Decor,Living Room Decor Cozy,Christmas Decor,Cozy Fireplace,Rustic Fireplace Decor,Fireplace Decorations,Rustic Room,House Decorations",
         "image",
         "https://i.pinimg.com/originals/9d/82/1a/9d821a80acd8f90c16454e978bd9b115.jpg",
         "/data/home-decor",
         "home-decor"
        ],
        [
         "159",
         "841a161a-47b8-4161-884d-adeb67a28b1e",
         "Valentine's Day Bee Directed Drawing {Art Project}",
         "This bee directed drawing and associated pages will help you create a fun and creative Valentine's Day Directed Drawing Art Project activity for your class.Choose to do a painti… ",
         1000000,
         "Teachers Pay Teachers",
         "Classroom Art Projects,School Art Projects,Art Classroom,Art Projects For Kindergarteners,Spring Art Projects,Classroom Posters,Valentines Art Lessons,Valentines Day Activities,Grade 1 Art",
         "image",
         "https://i.pinimg.com/originals/49/ff/2e/49ff2e83c0cefdd37213f6084c6f0566.jpg",
         "/data/art",
         "art"
        ],
        [
         "2074",
         "86ed09a7-842d-496d-9501-010c654eb340",
         "35 Christmas Decorating Ideas We Bet You Haven't Thought Of",
         "20 Christmas Decorating Ideas We Bet You Haven't Thought Of via @PureWow",
         868000,
         "PureWow",
         "Holiday Centerpieces,Xmas Decorations,Centerpiece Ideas,Table Centerpieces,Valentine Decorations,Wedding Centerpieces,Outdoor Decorations,Christmas Centerpieces With Candles,Christmas Dining Table Decorations",
         "image",
         "https://i.pinimg.com/originals/e9/b9/f0/e9b9f01cc3b2cf41948b45854335396c.jpg",
         "/data/christmas",
         "christmas"
        ],
        [
         "5494",
         "8fb2af68-543b-4639-8119-de33d28706ed",
         "Dave Ramsey's 7 Baby Steps: What Are They And Will They Work For You",
         "If you love budgeting, make sure to give Dave Ramsey's 7 Baby Steps a try. Follow these steps to begin your debt snowball, build an emergency fund, invest and reach riches. I ca… ",
         26000,
         "Living Low Key | Save Money, Make Money, & Frugal Living",
         "Financial Peace,Financial Tips,Saving Money Quotes,Total Money Makeover,Budgeting Finances,Money Management,Wealth Management,Personal Finance,Making Ideas",
         "image",
         "https://i.pinimg.com/originals/1e/9d/90/1e9d906e4e150e3b95187f3b76ea7c71.png",
         "/data/finance",
         "finance"
        ],
        [
         "4508",
         "9064f4a2-2753-476c-815e-db360f45a93e",
         "Custom Event and Shop Neon Sign Lights - Event & Shop",
         "Personalize your event or shop with a customized neon sign. Make a statement with your own custom vibes! This light is 32 -40 inches (80cm-100cm) if you need something bigger, p… ",
         111,
         "Life of Neon | Custom Neon Light Signs | Home Decor Wall Art",
         "Our Wedding,Wedding Venues,Dream Wedding,Wedding Cakes,Church Wedding,Wedding Flowers,Lace Wedding,Wedding Rings,Wedding Dresses",
         "image",
         "https://i.pinimg.com/originals/e9/c0/7c/e9c07cf0cf16cab23764a36718ab76c1.jpg",
         "/data/event-planning",
         "event-planning"
        ],
        [
         "5468",
         "91ee49f6-0070-4270-ba19-fde88ba51c91",
         "Budgets, Spouses & Making It Work! - Tshanina Peterson",
         "Don't fight about budgets and money with your spouse! Here are a few tips that we've found that make it work in our marriage!",
         313,
         "Annamarie Hilton",
         "Ways To Save Money,Money Tips,Money Saving Tips,How To Make Money,Managing Money,Saving Time,College Fund,Scholarships For College,Education College",
         "image",
         "https://i.pinimg.com/originals/37/d5/82/37d58296bcef3471a633c76b89d8625e.jpg",
         "/data/finance",
         "finance"
        ],
        [
         "10138",
         "927c4658-cc3f-4b92-9b5c-70743d0c238d",
         "14 Amazing Things To Do In Costa Rica | Volcanoes, Waterfalls, Wildlife And More",
         "This Costa Rica itinerary is the ultimate guide to spending two weeks in Costa Rica. Find out about visiting La Fortuna, Arenal, Monteverde, Naranjo, Corcovado National Park, Or… ",
         10000,
         "Wanderlust Chloe ✈️ Travel guides, inspo and adventure travel ✈️",
         "Costa Rica Travel,Rio Celeste Costa Rica,Dream Vacations,Vacation Spots,Vacation Travel,Travel Pictures,Travel Photos,Fortuna Costa Rica,Costa Rica Pictures",
         "image",
         "https://i.pinimg.com/originals/30/93/cb/3093cb01d9de2d125fda8ba5e3e41946.jpg",
         "/data/travel",
         "travel"
        ],
        [
         "1014",
         "9ac94307-bb27-410e-b554-0a0ab6c19847",
         "Hairstyles & Beauty",
         "Untitled",
         0,
         "Grecia Perales",
         "Hair Inspo,Hair Inspiration,Motivation Inspiration,Cl Rapper,Foto Glamour,Kreative Portraits,Classy Aesthetic,Pretty Hairstyles,Hair Looks",
         "image",
         "https://i.pinimg.com/originals/af/c4/59/afc459bd6e1fd8f9aef212504afebf3a.jpg",
         "/data/beauty",
         "beauty"
        ],
        [
         "2863",
         "9bf39437-42a6-4f02-99a0-9a0383d8cd70",
         "25 Super Fun Summer Crafts for Kids - Of Life and Lisa",
         "Keep the kids busy this summer with these easy diy crafts and projects. Creative and…",
         124000,
         "Of Life & Lisa | Lifestyle Blog",
         "Summer Crafts For Kids,Fun Crafts For Kids,Summer Kids,Toddler Crafts,Crafts To Do,Diy For Kids,Summer Snow,Diys For Summer,Craft Ideas For Girls",
         "image",
         "https://i.pinimg.com/originals/b3/bc/e2/b3bce2964e8c8975387b39660eed5f16.jpg",
         "/data/diy-and-crafts",
         "diy-and-crafts"
        ],
        [
         "7790",
         "9cd89fb9-d1af-4e66-85ca-c9d656c918b4",
         "50 Heart Touching Sad Quotes That Will Make You Cry",
         "Are you looking for some heart touching sad quotes and sayings; Here we have collected for you 50 best heart touching sad quotes..",
         112,
         "AnnaLee Kick",
         "Crush Quotes For Girls,Sad Crush Quotes,Hurt Quotes,Love Me Quotes,Mood Quotes,Quotes To Live By,Life Quotes,Quotes Quotes,Sad Quotes That Make You Cry",
         "image",
         "https://i.pinimg.com/originals/0c/0f/40/0c0f408d96458080e0c82adb50be8e8f.jpg",
         "/data/quotes",
         "quotes"
        ],
        [
         "7294",
         "9d8409ef-bea7-4133-a021-c58b9c042210",
         "Foolproof Fall Fashion For Men You'll Love",
         "Looking for the coolest fall fashion for men this season? Click to read this article on fall fashion for men to look sharp on LLEGANCE.",
         28000,
         "LLEGANCE | Workwear Fashion Woman Advice For Driven Professionals",
         "Fashion 90s,Autumn Fashion,Fashion Ideas,Trendy Fashion,Fashion Photo,Fashion Outfits,Fashion Trends,Urban Fashion Men,Men's Casual Fashion",
         "image",
         "https://i.pinimg.com/originals/4c/bf/2d/4cbf2d6e04d2502612169220553f4cef.jpg",
         "/data/mens-fashion",
         "mens-fashion"
        ],
        [
         "8930",
         "a2999c28-f7b2-4577-af87-49d21d6d8a18",
         "135 Sunflower Tattoo Ideas - [Best Rated Designs in 2021]",
         "We have put together the Ultimative Sunflower Tattoo Collection in 2020. Check out our highest rated handpicked Sunflower designs here!",
         800000,
         "Next Luxury",
         "Sunflower Tattoo Sleeve,Sunflower Tattoo Shoulder,Sunflower Tattoo Small,Sunflower Tattoos,Sunflower Tattoo Design,Shoulder Tattoo,Sunflower Mandala Tattoo,Sunflower Tattoo Meaning,Form Tattoo",
         "image",
         "https://i.pinimg.com/originals/18/de/6c/18de6c81a8637e224c7d63dce1414ceb.jpg",
         "/data/tattoos",
         "tattoos"
        ],
        [
         "771",
         "a5021766-a8aa-4dc7-9857-4da6b8e3dc1a",
         "African Sunset Shadow Tracing Art - Taming Little Monsters",
         "Use your mini world figures to create this beautiful African sunset. Your kids will love learning about shadows, angles and distortion in this fun art and STEM activity for kids.",
         4000,
         "Taming Little Monsters - Fun Activities for Kids",
         "African Art Projects,Cool Art Projects,Projects For Kids,African Art For Kids,African Crafts Kids,Art Club Projects,Art Education Projects,Tracing Art,African Sunset",
         "image",
         "https://i.pinimg.com/originals/e3/aa/35/e3aa350f8f104d0e59f26d7f17ea7461.png",
         "/data/art",
         "art"
        ],
        [
         "7922",
         "a584581c-1b38-4731-a1cc-f36115ecf229",
         "45 Top Life Quotes School Did Not Teach You",
         "summcoco gives you inspiration for the women fashion trends you want. Thinking about a new look or lifestyle? This is your ultimate resource to get the hottest trends. 45 Top Li… ",
         306000,
         "Sumcoco | Decor Ideas, Hairstyles, Nails Fashion Advice",
         "Life Quotes Love,Inspirational Quotes About Love,Mood Quotes,Motivational Quotes,Tears Quotes,Quotes About Sadness,Deep Quotes About Life,Quotes Quotes,Quote Life",
         "image",
         "https://i.pinimg.com/originals/bb/c0/e6/bbc0e6a797079505f11ac12bcb0b8c66.jpg",
         "/data/quotes",
         "quotes"
        ],
        [
         "3729",
         "ac90f1d2-dc9e-438c-b073-dd48511b80b0",
         "5 + Nature Games for Your Homeschool",
         "Our family would rather spend time outdoors than indoors. We love nature! That said, sometimes mother nature is uncooperative. On these days, it can be fun to pull out some natu… ",
         9000,
         "My Little Poppies (Cait Curley, MA/CAGS)",
         "Diy Nature,Theme Nature,Nature Study,Science And Nature,Summer Science,Earth Science,Nature Crafts,Outdoor Education,Outdoor Learning",
         "image",
         "https://i.pinimg.com/originals/d6/3b/1a/d63b1a2a36534ecac5d1fbd0d932403a.jpg",
         "/data/education",
         "education"
        ],
        [
         "7768",
         "ae1a61f6-d958-40fe-ba93-6a78b3a73178",
         "16 Motivational Quotes Get You Inspired Today - Boss Babe Chronicles",
         "motivation quotes",
         45000,
         "Boss Babe Chronicles | Personal Development, Finances, Self Care",
         "Motivacional Quotes,Motivational Quotes For Life,Uplifting Quotes,True Quotes,Words Quotes,Empowering Quotes,Boss Up Quotes,Inspirational Success Quotes,Boss Babe Quotes Work Hard",
         "image",
         "https://i.pinimg.com/originals/ee/b4/bc/eeb4bccdb074edb787ea61711e0c4dfd.jpg",
         "/data/quotes",
         "quotes"
        ],
        [
         "5069",
         "b75b6f87-deb3-444f-b29e-ce9161b2df49",
         "The Vault: Curated & Refined Wedding Inspiration",
         "Sacramento California Wedding 2 Chic Events & Design Jodi Yorston Photography Wilson Vineyards Barn Miosa Couture Yellow Barn Vineyard Outdoor Candles DIY",
         6000000,
         "Style Me Pretty",
         "60th Anniversary Parties,Anniversary Decorations,Golden Anniversary,25th Wedding Anniversary,Anniversary Pictures,Anniversary Ideas,Birthday Decorations,Event Planning Design,Event Design",
         "image",
         "https://i.pinimg.com/originals/7e/45/90/7e45905fefa36347e83333fd6d091140.jpg",
         "/data/event-planning",
         "event-planning"
        ],
        [
         "9590",
         "b849e976-52f6-45d7-8b25-51559318f167",
         "Top 20 Things To See And Do In Ireland",
         "Best spots to see for travel through Ireland!",
         130000,
         "Fun Life Crisis",
         "Vacation Ideas,Vacation Spots,Emerald Isle,London England,Travel Guides,Travel Tips,Travel Hacks,Travel Packing,Places To Travel",
         "image",
         "https://i.pinimg.com/originals/c7/50/d3/c750d36524856873d64406652d69b4fb.png",
         "/data/travel",
         "travel"
        ],
        [
         "7343",
         "b8c63a95-6fe8-4d7f-9455-1eef3462fee0",
         "This Fashion Rule Is Nonsense, And We Should All Forget About It",
         "Black And Brown Outfits You Need To Try This Fall Season. The trick with black and brown outfits is to know how to combine colors, fabrics, and shapes to get a cohesive look. So… ",
         1000000,
         "Cultura Colectiva",
         "Winter Outfits Men,Stylish Mens Outfits,Casual Outfits,Men Casual,Smart Casual,Outfits For Men,Fall Outfits,Mens Winter Boots,Business Casual Men",
         "image",
         "https://i.pinimg.com/originals/3e/49/09/3e4909c0ccc4dbba3cad83d97eab4a61.png",
         "/data/mens-fashion",
         "mens-fashion"
        ],
        [
         "4137",
         "bf275054-4464-448b-9143-1bf101aa366d",
         "15 Essential Classroom Items For First Year Teachers / First Year Teacher Must Haves",
         "15 Essential Classroom Items For First Year Teachers / First Year Teacher Must Haves",
         5000,
         "Write Your Story | Budgeting, Healthy Lifestyle, Faith",
         "1st Year Teachers,First Year Teaching,First Grade Teachers,Elementary Teacher,Montessori Elementary,Teaching Reading,History Teachers,High School Classroom,First Grade Classroom",
         "image",
         "https://i.pinimg.com/originals/4b/b9/a8/4bb9a85f609a8384ed9c9ab14e7bcea0.jpg",
         "/data/education",
         "education"
        ],
        [
         "5309",
         "c38bb47b-9584-4fc4-af0d-a31e1061df41",
         "How to Watch Your Favorite Shows Without Cable",
         "How to Get Rid of Cable and Still Watch all of your favorite shows! Saving Money Tips for TV & Cable!",
         330000,
         "Passion For Savings",
         "Ways To Save Money,Money Tips,Money Saving Tips,Money Hacks,Managing Money,Cable Tv Alternatives,Budget Planer,Financial Tips,Financial Planning",
         "image",
         "https://i.pinimg.com/originals/c9/18/be/c918be2784382dc49010719bf1742a61.jpg",
         "/data/finance",
         "finance"
        ],
        [
         "10794",
         "c4bd2577-a7bb-4409-bb7a-17d5ed7e1cf1",
         "TireBuyer",
         "Nissan GT-R. Sick.",
         437,
         "Ray Uyemura",
         "Lowrider,Old Vintage Cars,Antique Cars,Austin Martin,Nissan Gtr Black,Jaguar,1959 Cadillac,Cadillac Ct6,Old School Cars",
         "image",
         "https://i.pinimg.com/originals/0d/29/9f/0d299f3df020395aa7ce8387f40fbeed.jpg",
         "/data/vehicles",
         "vehicles"
        ],
        [
         "7554",
         "c6fa12f4-0d4a-4b07-a335-5bf9f37f8281",
         "Craig Style",
         "imgentleboss: “ - More about men’s fashion at @Gentleboss - GB’s Facebook - ”",
         940,
         "iElylike ..✿◕‿◕✿ஐ✿◕‿◕✿",
         "Mens Fashion Blog,Look Fashion,Autumn Fashion,Fashion News,Fashion Sale,80s Fashion,Paris Fashion,Runway Fashion,Fashion Trends",
         "image",
         "https://i.pinimg.com/originals/e7/6e/8e/e76e8ed6cc838b84a934c6948a5caff7.jpg",
         "/data/mens-fashion",
         "mens-fashion"
        ],
        [
         "3419",
         "d0b80187-0171-49b2-8ee4-572984244f65",
         "Easy Christmas Tree Crafts Ideas for toddlers and preschoolers | Sharing Our Experiences",
         "Easy Christmas tree Craft Ideas for toddlers and preschoolers. Engage your kids in these DIY",
         3000,
         "Kids Crafts & Free Preschool Printables- Sharing Our Experiences",
         "Christmas Crafts For Kids To Make,Christmas Tree Painting,Christmas Activities For Kids,Easy Christmas Crafts For Toddlers,Kid Activities,Christmas Handprint Crafts,Christmas Tree Crafts,Christmas Baby,Xmas Tree",
         "image",
         "https://i.pinimg.com/originals/69/f0/75/69f075939d4449dffa69519756c30e26.png",
         "/data/diy-and-crafts",
         "diy-and-crafts"
        ],
        [
         "9759",
         "d105eb6e-0f9f-46e7-8d02-d24b62f6ae90",
         "8 Best Greek Islands You Have To Visit - TheFab20s",
         "Although you'd think Greek islands are fairly similar, you'd be completely wrong! Each island has it's own personality and appeal. Here are the 8 Best Greek Islands to visit, es… ",
         42000,
         "TheFab20s | Travel+Food+DIY+Listicles",
         "Greek Islands To Visit,Best Greek Islands,Greece Islands,Cool Places To Visit,Places To Go,Best Places In Portugal,Copenhagen Travel,Paros Island,Santorini Island",
         "image",
         "https://i.pinimg.com/originals/06/1d/ce/061dce38929dec8e74844442116bea4a.jpg",
         "/data/travel",
         "travel"
        ],
        [
         "3800",
         "d2c367ed-9287-4ea3-b173-198b292d9981",
         "Reinforcing the Difficult Child When Token Boards Don't Work!",
         "behavior, special education, token boards, when token boards don't work, money token systems",
         11000,
         "Traci Bender - The Bender Bunch",
         "Special Education Behavior,Classroom Behavior Management,Behavior Plans,Behaviour Management,Behavior Charts,Behavior Board,Behavior Report,Behavior Analyst,Preschool Special Education",
         "image",
         "https://i.pinimg.com/originals/24/f9/e2/24f9e22ada4a79c61432ef6c8fe1d0f9.jpg",
         "/data/education",
         "education"
        ],
        [
         "10625",
         "d31885b7-742a-4e2a-bbb7-ac5f9d334340",
         "Jaguar Type E",
         "1937 Jaguar SS100 - 2 1/2 Litre Roadster, one of the most sought after pre-war sports cars",
         8000,
         "hobbyDB",
         "Jaguar Type E,Jaguar Xk,Jaguar Cars,Jaguar Roadster,Jaguar Sport,Retro Cars,Vintage Cars,Antique Cars,British Sports Cars",
         "image",
         "https://i.pinimg.com/originals/26/81/a7/2681a71bd0c8f7fd0ab79c455338a49a.jpg",
         "/data/vehicles",
         "vehicles"
        ],
        [
         "5630",
         "d41e703c-c97c-4c5a-9f9c-338982ca7504",
         "7 Insanely Useful Money Management Worksheets",
         "Get your personal finance in order with these 8 fr…",
         46000,
         "R.J. Weiss at The Ways To Wealth | Personal Finance | Debt Payoff",
         "Ways To Save Money,Money Tips,Money Saving Tips,Money Budget,Saving Ideas,Budgeting Finances,Budgeting Tips,Planning Budget,Budget Planer",
         "image",
         "https://i.pinimg.com/originals/f1/4f/cc/f14fcc75ee73ff22c983bdce70c022e2.jpg",
         "/data/finance",
         "finance"
        ],
        [
         "10663",
         "d5208c16-82ae-4fd1-87f0-36e5ef789412",
         "21+ Classic Car Picture of the 1950s - Vintagetopia",
         "There are a lot of options of places to stay so you probably only have to book the initial one so you know the best place to land from the airport",
         171000,
         "vintagetopia",
         "Old Classic Cars,Classic Trucks,Old Vintage Cars,Antique Cars,Vintage Trucks,Antique Trucks,Cadillac,Convertible,Mustang",
         "image",
         "https://i.pinimg.com/originals/e9/01/4d/e9014d537dd2b81c606e8466cef3904c.jpg",
         "/data/vehicles",
         "vehicles"
        ],
        [
         "719",
         "d7c53e34-9540-4f48-a31b-89b6ed1852bb",
         "10 Art Sub Lessons that only need a Pencil",
         "10 art sub lessons that only need a pencil. Cover lessons for art teachers. Make the perfect art sub lessson folder with this amazing resources.",
         25000,
         "The Arty Teacher",
         "Art Lessons For Kids,Art Lessons Elementary,Art For Kids,Art Sub Plans,Art Lesson Plans,Art Substitute Plans,High School Art,Middle School Art,Primary School Art",
         "image",
         "https://i.pinimg.com/originals/ee/a8/78/eea878911033897d981a69d9f6b2fb7c.png",
         "/data/art",
         "art"
        ],
        [
         "2418",
         "da8745a6-5160-46c4-877d-181d50a729fd",
         "100 DIY Christmas Centerpieces You'll Love To Decorate Your Home With For The Christmas Season - Hike n Dip",
         "Here are the best DIY Christmas Centerpieces ideas perfect for your Christmas & holiday season home decor. From Christmas Vignettes to Table Centerpieces.",
         500000,
         "HikenDip",
         "Farmhouse Christmas Decor,Rustic Christmas,Christmas Time,Vintage Christmas,Xmas,Primitive Christmas Crafts,Christmas Vignette,Indoor Christmas Decorations,Diy Christmas Ornaments",
         "image",
         "https://i.pinimg.com/originals/aa/6d/0f/aa6d0f44d7c1c96b998cb9aa6c4446b8.png",
         "/data/christmas",
         "christmas"
        ],
        [
         "1268",
         "e2f2cec5-cda5-42b2-ab9d-6dddf863e94e",
         "Janet on Twitter",
         "Here’s how to get long-lasting makeup, so you can do your face in the morning and be set for the entire day. Follow these makeup tips for foundation, lipstick and more using pro… ",
         3000,
         "Tony",
         "Beauty Makeup,Eye Makeup,Diy Beauty,Beauty Ideas,Beauty Skin,Homemade Beauty,Wolf Makeup,Oily Skin Makeup,Face Beauty",
         "image",
         "https://i.pinimg.com/originals/d9/d1/3b/d9d13b9ac47d54940f05a75345a873d4.jpg",
         "/data/beauty",
         "beauty"
        ],
        [
         "8731",
         "ea760f71-febf-4023-b592-d17396659039",
         "20 Koi Fish Tattoos For Lucky Men",
         "Koi fish tattoos are a popular choice for men who want to make a statement, thanks to their rich symbolism and bold design.",
         211000,
         "TheTrendSpotter",
         "Dr Tattoo,Wörter Tattoos,Pisces Tattoos,Tatoo Art,Dream Tattoos,Dope Tattoos,Mini Tattoos,Finger Tattoos,Body Art Tattoos",
         "image",
         "https://i.pinimg.com/originals/8a/0c/0a/8a0c0a7b6236565c519acd41ad1a52c0.jpg",
         "/data/tattoos",
         "tattoos"
        ],
        [
         "9546",
         "efd5b2d6-2f69-40cd-bb59-41f18c089e52",
         "20 Amazing Trips to Take in Your Twenties!",
         "The best trips to take when you are young!",
         89000,
         "The World Pursuit Travel Website",
         "Fun Places To Go,Beautiful Places To Travel,Best Places To Travel,Travel Jobs,Holiday Places,Future Travel,Travel Around The World,Adventure Travel,Travel Photos",
         "video",
         "https://i.pinimg.com/videos/thumbnails/originals/81/97/c1/8197c1beef8bcb19bea5d8b422211f34.0000001.jpg",
         "/data/travel",
         "travel"
        ],
        [
         "205",
         "f4afd543-b9fe-44c3-8064-f2198faa1372",
         "DIY Abstract Heart Painting and a Fun Paint Party",
         "Use our easy step by step tutorial to create a DIY abstract heart painting on any canvas size. Lots of inspiration to help you choose colors.",
         410000,
         "The Creativity Exchange",
         "Painting & Drawing,Watercolor Paintings,Original Paintings,Owl Watercolor,Acrylic Paintings,Owl Art,Bird Art,Beginner Painting,Animal Paintings",
         "image",
         "https://i.pinimg.com/originals/33/85/f8/3385f82ee5e8ecdcccdf798bdcbee3d2.jpg",
         "/data/art",
         "art"
        ],
        [
         "5076",
         "fa3af29c-dc78-4eed-a4c5-52a407ea04c0",
         "Quiz: Test Your Event IQ! - Pointers For Planners",
         "So you're thinking of getting your event planner certification, but how much do you REALLY know about event planning? Event planners need to be knowledgeable and able to answer… ",
         5000,
         "QC Career School",
         "Diy Wedding Food,Best Wedding Makeup,Wedding Events,Wedding Tips,Wedding Stuff,Weddings,Event Planning Business,Business Events,Wedding Makeup Tutorial",
         "image",
         "https://i.pinimg.com/originals/6f/19/bc/6f19bce24921bf843540fc04da9eb6bf.jpg",
         "/data/event-planning",
         "event-planning"
        ],
        [
         "3156",
         "fa6e31a4-18c2-4eca-a6d8-e903eee2c2a4",
         "Handprint Reindeer Ornaments - Crafty Morning",
         "This post may contain affiliate links, read our Disclosure Policy for more information. As an Amazon Associate I earn from qualifying purchases, thank you! Make some cute handpr… ",
         892000,
         "Michelle {CraftyMorning.com}",
         "Christmas Gifts For Parents,Christmas Decorations For Kids,Christmas Crafts For Toddlers,Preschool Christmas,Christmas Crafts For Gifts,Christmas Activities,Toddler Crafts,Kids Christmas,Christmas Feeling",
         "image",
         "https://i.pinimg.com/originals/ff/fe/38/fffe384f3ec18a0d87cb2d80cc8c1499.jpg",
         "/data/diy-and-crafts",
         "diy-and-crafts"
        ],
        [
         "4988",
         "fbdfd355-a356-46c2-a251-301869ae2674",
         "Fun Book Page Crafts - MomAdvice",
         "Fun Book Page Crafts - MomAdvice",
         112000,
         "MomAdvice",
         "Harry Potter Wedding,Harry Potter Theme,Wedding Book,Wedding Table,Wedding Ideas,Wedding Vintage,Garden Wedding,Vintage Party,Wedding Paper",
         "image",
         "https://i.pinimg.com/originals/17/55/87/175587b334e71c12300453b8b4b4c6aa.jpg",
         "/data/event-planning",
         "event-planning"
        ],
        [
         "3599",
         "ff0dd945-dafa-411c-8cef-eb43e374e815",
         "Educational Leadership in Aotearoa New Zealand : Issues of Context and Social Justice",
         "This book presents 10 inspirational case studies of how centre leaders, principals and leadership teams in high-needs New Zealand educational settings have enacted leadership to… ",
         2000000,
         "Walmart",
         "Research Studies,Educational Leadership,Education System,Secondary School,Try It Free,Book Format,Social Justice,Young People,Paperback Books",
         "image",
         "https://i.pinimg.com/originals/0e/ea/c4/0eeac457780bbe43fcc5e9eaabd80f62.jpg",
         "/data/education",
         "education"
        ]
       ],
       "datasetInfos": [],
       "dbfsResultPath": null,
       "isJsonSchema": true,
       "metadata": {},
       "overflow": false,
       "plotOptions": {
        "customPlotOptions": {},
        "displayType": "table",
        "pivotAggregation": null,
        "pivotColumns": null,
        "xColumns": null,
        "yColumns": null
       },
       "removedWidgets": [],
       "schema": [
        {
         "metadata": "{}",
         "name": "ind",
         "type": "\"string\""
        },
        {
         "metadata": "{}",
         "name": "unique_id",
         "type": "\"string\""
        },
        {
         "metadata": "{}",
         "name": "title",
         "type": "\"string\""
        },
        {
         "metadata": "{}",
         "name": "description",
         "type": "\"string\""
        },
        {
         "metadata": "{}",
         "name": "follower_count",
         "type": "\"integer\""
        },
        {
         "metadata": "{}",
         "name": "poster_name",
         "type": "\"string\""
        },
        {
         "metadata": "{}",
         "name": "tag_list",
         "type": "\"string\""
        },
        {
         "metadata": "{}",
         "name": "is_image_or_video",
         "type": "\"string\""
        },
        {
         "metadata": "{}",
         "name": "image_src",
         "type": "\"string\""
        },
        {
         "metadata": "{}",
         "name": "save_location",
         "type": "\"string\""
        },
        {
         "metadata": "{}",
         "name": "category",
         "type": "\"string\""
        }
       ],
       "type": "table"
      }
     },
     "output_type": "display_data"
    }
   ],
   "source": [
    "# create path to topic files\n",
    "file_location = \"/mnt/user-0e0816526d11-bucket/topics/0e0816526d11.pin/partition=0/*.json\"\n",
    "# specify file type\n",
    "file_type = \"json\"\n",
    "# Ask Spark to infer the schema\n",
    "infer_schema = \"true\"\n",
    "# load JSONs from mounted S3 bucket to Spark dataframe\n",
    "df_pin = spark.read.format(file_type) \\\n",
    "    .option(\"inferSchema\", infer_schema) \\\n",
    "    .load(file_location)\n",
    "\n",
    "# cleaning Pinterest dataframe\n",
    "df_pin = df_pin.replace(\"No description available Story format\", None)\n",
    "df_pin = df_pin.replace(\"null\", None)\n",
    "df_pin = df_pin.replace(\"User Info Error\", None)\n",
    "df_pin = df_pin.replace(\"Image src error\", None)\n",
    "df_pin = df_pin.replace(\"N,o, ,T,a,g,s, ,A,v,a,i,l,a,b,l,e\", None)\n",
    "df_pin = df_pin.replace(\"No Title Data Available\", None)\n",
    "\n",
    "# transforms the 'follower_count' col from string to integer and checks if the value matches a pattern that contains either k or M \n",
    "df_pin = df_pin.withColumn(\"follower_count\", when(\n",
    "    col(\"follower_count\").rlike(\"\\d+k\"),(regexp_extract(col(\"follower_count\"),\"(\\d+)\",1).cast(\"integer\") * 1000)).when(col(\"follower_count\").rlike(\"\\d+M\"),(regexp_extract(col(\"follower_count\"), \"(\\d+)\", 1).cast(\"integer\") * 1000000))\n",
    "# otherwise, if it doesn't matches it leaves the full integer value\n",
    ".otherwise(col(\"follower_count\").cast(\"integer\")))\n",
    "\n",
    "# cleaning the 'save_location' column by removing 'Local save in ' text and just leaving the path for the 'save_location' column\n",
    "df_pin = df_pin.withColumn(\"save_location\", regexp_replace(\"save_location\", \"Local save in \", \"\"))\n",
    "\n",
    "# Renaming the column\n",
    "df_pin = df_pin.withColumnRenamed(\"index\", \"ind\")\n",
    "\n",
    "df_pin = df_pin.dropDuplicates([\"unique_id\"])\n",
    "df_pin = df_pin.na.drop()\n",
    "\n",
    "# rearranging the Pinterest columns\n",
    "reorder_col = [\"ind\", \"unique_id\", \"title\", \"description\", \"follower_count\", \"poster_name\", \"tag_list\", \"is_image_or_video\", \"image_src\", \"save_location\", \"category\"]\n",
    "df_pin = df_pin.select(reorder_col)\n",
    "\n",
    "# Show the table of the Pinterest data\n",
    "display(df_pin)"
   ]
  },
  {
   "cell_type": "code",
   "execution_count": 0,
   "metadata": {
    "application/vnd.databricks.v1+cell": {
     "cellMetadata": {
      "byteLimit": 2048000,
      "rowLimit": 10000
     },
     "inputWidgets": {},
     "nuid": "77d133f8-eec2-4018-86bc-aa8242b2c063",
     "showTitle": false,
     "title": ""
    }
   },
   "outputs": [
    {
     "output_type": "display_data",
     "data": {
      "text/html": [
       "<style scoped>\n",
       "  .table-result-container {\n",
       "    max-height: 300px;\n",
       "    overflow: auto;\n",
       "  }\n",
       "  table, th, td {\n",
       "    border: 1px solid black;\n",
       "    border-collapse: collapse;\n",
       "  }\n",
       "  th, td {\n",
       "    padding: 5px;\n",
       "  }\n",
       "  th {\n",
       "    text-align: left;\n",
       "  }\n",
       "</style><div class='table-result-container'><table class='table-result'><thead style='background-color: white'><tr><th>ind</th><th>country</th><th>coordinates</th><th>timestamp</th></tr></thead><tbody><tr><td>3599</td><td>Afghanistan</td><td>List(-88.5478, -174.971)</td><td>2019-03-03T06:13:41.000+0000</td></tr><tr><td>46</td><td>Afghanistan</td><td>List(4.21689, -145.82)</td><td>2018-09-15T09:16:57.000+0000</td></tr><tr><td>7528</td><td>Albania</td><td>List(-89.9787, -173.293)</td><td>2020-08-28T03:52:47.000+0000</td></tr><tr><td>808</td><td>Albania</td><td>List(-71.6856, -179.126)</td><td>2019-01-03T15:43:12.000+0000</td></tr><tr><td>3089</td><td>Albania</td><td>List(-89.9787, -173.293)</td><td>2018-02-28T05:31:29.000+0000</td></tr><tr><td>2411</td><td>Albania</td><td>List(-71.6856, -179.126)</td><td>2020-11-15T17:10:07.000+0000</td></tr><tr><td>6398</td><td>Albania</td><td>List(-3.29267, -179.726)</td><td>2020-01-19T01:49:05.000+0000</td></tr><tr><td>1555</td><td>Algeria</td><td>List(-1.7046, -55.332)</td><td>2017-12-24T18:41:23.000+0000</td></tr><tr><td>7768</td><td>Algeria</td><td>List(-88.355, -96.0131)</td><td>2018-05-25T21:34:19.000+0000</td></tr><tr><td>9590</td><td>Algeria</td><td>List(-64.3876, -174.281)</td><td>2019-05-20T19:48:48.000+0000</td></tr><tr><td>1422</td><td>American Samoa</td><td>List(-88.5252, -172.436)</td><td>2018-04-30T08:27:21.000+0000</td></tr><tr><td>9759</td><td>American Samoa</td><td>List(-77.9744, -106.258)</td><td>2017-12-30T13:05:49.000+0000</td></tr><tr><td>159</td><td>Andorra</td><td>List(-88.0812, -166.603)</td><td>2017-11-20T21:14:56.000+0000</td></tr><tr><td>2959</td><td>Angola</td><td>List(-68.0095, -157.227)</td><td>2019-08-19T08:22:02.000+0000</td></tr><tr><td>6063</td><td>Anguilla</td><td>List(-89.1797, -174.015)</td><td>2021-07-20T09:02:47.000+0000</td></tr><tr><td>1545</td><td>Anguilla</td><td>List(-30.18, -72.3784)</td><td>2022-06-17T05:47:12.000+0000</td></tr><tr><td>2418</td><td>Antarctica (the territory South of 60 deg S)</td><td>List(-88.4642, -171.061)</td><td>2022-05-27T11:30:59.000+0000</td></tr><tr><td>7922</td><td>Antigua and Barbuda</td><td>List(-88.0974, -172.052)</td><td>2021-01-27T09:14:19.000+0000</td></tr><tr><td>8606</td><td>Antigua and Barbuda</td><td>List(-88.0974, -172.052)</td><td>2021-03-28T14:54:07.000+0000</td></tr><tr><td>1268</td><td>Argentina</td><td>List(-41.7803, -177.23)</td><td>2019-07-06T04:10:29.000+0000</td></tr><tr><td>8930</td><td>Argentina</td><td>List(-89.4739, -176.154)</td><td>2021-09-29T13:25:49.000+0000</td></tr><tr><td>2863</td><td>Armenia</td><td>List(-5.34445, -177.924)</td><td>2020-04-27T13:34:16.000+0000</td></tr><tr><td>2015</td><td>Armenia</td><td>List(-17.629, -177.685)</td><td>2018-09-22T13:52:19.000+0000</td></tr><tr><td>719</td><td>Armenia</td><td>List(-38.4062, -154.323)</td><td>2018-10-29T04:05:12.000+0000</td></tr><tr><td>1094</td><td>Armenia</td><td>List(-46.7328, -124.445)</td><td>2018-08-19T00:34:20.000+0000</td></tr><tr><td>3156</td><td>Armenia</td><td>List(-84.738, -160.795)</td><td>2018-01-13T19:33:49.000+0000</td></tr><tr><td>8731</td><td>Aruba</td><td>List(-83.104, -171.302)</td><td>2020-07-17T04:39:09.000+0000</td></tr><tr><td>3800</td><td>Aruba</td><td>List(-61.471, -154.912)</td><td>2018-01-27T16:49:07.000+0000</td></tr><tr><td>4913</td><td>Aruba</td><td>List(-84.3768, -157.544)</td><td>2019-03-08T06:45:39.000+0000</td></tr><tr><td>7166</td><td>Aruba</td><td>List(-86.4063, -136.657)</td><td>2022-07-25T03:07:37.000+0000</td></tr><tr><td>7294</td><td>Australia</td><td>List(-76.2967, -136.501)</td><td>2018-02-12T08:06:28.000+0000</td></tr><tr><td>4137</td><td>Australia</td><td>List(-55.3079, 108.918)</td><td>2019-06-23T22:16:34.000+0000</td></tr><tr><td>9936</td><td>Australia</td><td>List(-82.1715, -147.691)</td><td>2018-06-30T22:07:13.000+0000</td></tr><tr><td>7343</td><td>Australia</td><td>List(-65.4428, -161.684)</td><td>2018-08-06T12:17:07.000+0000</td></tr><tr><td>9546</td><td>Austria</td><td>List(-70.0295, -155.428)</td><td>2018-02-10T06:16:40.000+0000</td></tr><tr><td>10138</td><td>Austria</td><td>List(-72.142, -74.3545)</td><td>2019-08-03T00:59:29.000+0000</td></tr><tr><td>5069</td><td>Azerbaijan</td><td>List(-63.0063, -157.474)</td><td>2021-03-20T09:32:44.000+0000</td></tr><tr><td>5630</td><td>Bahrain</td><td>List(-19.1403, -164.987)</td><td>2019-05-12T14:43:19.000+0000</td></tr><tr><td>428</td><td>Bangladesh</td><td>List(-83.4105, -150.788)</td><td>2020-09-27T18:46:41.000+0000</td></tr><tr><td>205</td><td>Barbados</td><td>List(-75.8378, -163.945)</td><td>2020-07-08T14:10:38.000+0000</td></tr><tr><td>9875</td><td>Barbados</td><td>List(-74.3382, -110.484)</td><td>2020-03-20T13:03:18.000+0000</td></tr><tr><td>2482</td><td>Bermuda</td><td>List(63.4563, -164.709)</td><td>2019-09-13T08:20:13.000+0000</td></tr><tr><td>3419</td><td>Bhutan</td><td>List(7.60293, -108.979)</td><td>2021-12-20T05:01:54.000+0000</td></tr><tr><td>8887</td><td>Botswana</td><td>List(-28.0137, -160.708)</td><td>2021-09-19T05:27:43.000+0000</td></tr><tr><td>2293</td><td>British Virgin Islands</td><td>List(-87.7946, -159.647)</td><td>2022-03-21T10:46:53.000+0000</td></tr><tr><td>5494</td><td>Bulgaria</td><td>List(-82.6768, -129.202)</td><td>2021-07-21T02:02:35.000+0000</td></tr><tr><td>3454</td><td>Cambodia</td><td>List(-0.375174, 49.8106)</td><td>2021-07-25T02:20:29.000+0000</td></tr><tr><td>6566</td><td>Cape Verde</td><td>List(-39.225, -71.6593)</td><td>2020-11-19T10:06:13.000+0000</td></tr><tr><td>2074</td><td>Central African Republic</td><td>List(-52.3213, -50.11)</td><td>2019-11-03T05:41:59.000+0000</td></tr><tr><td>1704</td><td>Christmas Island</td><td>List(-56.8702, -93.6232)</td><td>2018-11-29T04:46:39.000+0000</td></tr><tr><td>10794</td><td>Cocos (Keeling) Islands</td><td>List(-89.5236, -154.567)</td><td>2022-01-01T02:26:50.000+0000</td></tr><tr><td>5730</td><td>Colombia</td><td>List(-77.015, -101.437)</td><td>2021-04-19T17:37:03.000+0000</td></tr><tr><td>831</td><td>Congo</td><td>List(-43.7816, -66.1592)</td><td>2021-06-23T23:16:10.000+0000</td></tr><tr><td>2923</td><td>Cote d'Ivoire</td><td>List(-84.6302, -164.507)</td><td>2019-09-08T22:53:09.000+0000</td></tr><tr><td>4315</td><td>Cote d'Ivoire</td><td>List(-45.8508, 66.1003)</td><td>2019-12-15T03:51:28.000+0000</td></tr><tr><td>9979</td><td>Dominican Republic</td><td>List(14.9967, -120.682)</td><td>2018-07-18T19:01:46.000+0000</td></tr><tr><td>2698</td><td>Egypt</td><td>List(-72.7174, 24.169)</td><td>2021-11-24T08:33:51.000+0000</td></tr><tr><td>8304</td><td>French Guiana</td><td>List(-28.8852, -164.87)</td><td>2019-09-13T04:50:29.000+0000</td></tr><tr><td>5076</td><td>Germany</td><td>List(-70.7195, -91.1935)</td><td>2019-05-05T16:22:23.000+0000</td></tr><tr><td>10509</td><td>Gibraltar</td><td>List(-67.187, -24.2977)</td><td>2019-03-06T12:21:56.000+0000</td></tr><tr><td>10552</td><td>Grenada</td><td>List(32.7568, -179.812)</td><td>2020-08-24T11:39:32.000+0000</td></tr><tr><td>8578</td><td>Guinea-Bissau</td><td>List(34.6427, -161.397)</td><td>2018-01-26T19:27:11.000+0000</td></tr><tr><td>9672</td><td>India</td><td>List(79.4658, -69.4133)</td><td>2019-11-03T13:15:52.000+0000</td></tr><tr><td>5468</td><td>Isle of Man</td><td>List(-83.544, 33.9473)</td><td>2020-05-16T23:17:50.000+0000</td></tr><tr><td>427</td><td>Isle of Man</td><td>List(-66.9418, -30.0087)</td><td>2020-04-22T03:08:50.000+0000</td></tr><tr><td>10625</td><td>Jamaica</td><td>List(-84.4944, -81.0613)</td><td>2018-07-13T11:51:15.000+0000</td></tr><tr><td>4988</td><td>Madagascar</td><td>List(-32.1879, -35.2784)</td><td>2020-07-11T11:01:12.000+0000</td></tr><tr><td>5309</td><td>Maldives</td><td>List(-89.4194, -84.2493)</td><td>2020-05-04T22:00:32.000+0000</td></tr><tr><td>1313</td><td>Maldives</td><td>List(77.0447, 61.9119)</td><td>2018-06-26T02:39:25.000+0000</td></tr><tr><td>4076</td><td>Mauritania</td><td>List(-67.2157, 27.8139)</td><td>2019-06-07T20:13:50.000+0000</td></tr><tr><td>771</td><td>Montserrat</td><td>List(-29.1712, -107.111)</td><td>2018-06-21T08:42:57.000+0000</td></tr><tr><td>6145</td><td>Mozambique</td><td>List(-65.9079, -143.845)</td><td>2019-12-05T02:09:44.000+0000</td></tr><tr><td>603</td><td>Netherlands Antilles</td><td>List(14.0083, -141.603)</td><td>2019-06-25T05:13:01.000+0000</td></tr><tr><td>6844</td><td>New Caledonia</td><td>List(-22.6915, 5.69245)</td><td>2021-06-06T21:53:11.000+0000</td></tr><tr><td>7790</td><td>Papua New Guinea</td><td>List(-43.692, 64.9839)</td><td>2018-07-31T08:19:15.000+0000</td></tr><tr><td>4508</td><td>Philippines</td><td>List(69.1858, -76.0761)</td><td>2019-01-04T11:15:27.000+0000</td></tr><tr><td>10663</td><td>Saint Kitts and Nevis</td><td>List(-27.3474, -162.83)</td><td>2019-07-25T18:53:51.000+0000</td></tr><tr><td>8653</td><td>Seychelles</td><td>List(48.4569, -139.658)</td><td>2022-04-11T18:30:19.000+0000</td></tr><tr><td>7554</td><td>Sudan</td><td>List(-51.2172, -77.9768)</td><td>2019-03-20T03:15:07.000+0000</td></tr><tr><td>1014</td><td>Tonga</td><td>List(81.1477, 69.3538)</td><td>2022-02-03T22:05:34.000+0000</td></tr><tr><td>3729</td><td>Turkey</td><td>List(-24.4793, -150.145)</td><td>2018-01-17T03:43:38.000+0000</td></tr><tr><td>null</td><td>[\"country\"]</td><td>List([\"latitude\"], [\"longitude\"])</td><td>null</td></tr></tbody></table></div>"
      ]
     },
     "metadata": {
      "application/vnd.databricks.v1+output": {
       "addedWidgets": {},
       "aggData": [],
       "aggError": "",
       "aggOverflow": false,
       "aggSchema": [],
       "aggSeriesLimitReached": false,
       "aggType": "",
       "arguments": {},
       "columnCustomDisplayInfos": {},
       "data": [
        [
         3599,
         "Afghanistan",
         [
          "-88.5478",
          "-174.971"
         ],
         "2019-03-03T06:13:41.000+0000"
        ],
        [
         46,
         "Afghanistan",
         [
          "4.21689",
          "-145.82"
         ],
         "2018-09-15T09:16:57.000+0000"
        ],
        [
         7528,
         "Albania",
         [
          "-89.9787",
          "-173.293"
         ],
         "2020-08-28T03:52:47.000+0000"
        ],
        [
         808,
         "Albania",
         [
          "-71.6856",
          "-179.126"
         ],
         "2019-01-03T15:43:12.000+0000"
        ],
        [
         3089,
         "Albania",
         [
          "-89.9787",
          "-173.293"
         ],
         "2018-02-28T05:31:29.000+0000"
        ],
        [
         2411,
         "Albania",
         [
          "-71.6856",
          "-179.126"
         ],
         "2020-11-15T17:10:07.000+0000"
        ],
        [
         6398,
         "Albania",
         [
          "-3.29267",
          "-179.726"
         ],
         "2020-01-19T01:49:05.000+0000"
        ],
        [
         1555,
         "Algeria",
         [
          "-1.7046",
          "-55.332"
         ],
         "2017-12-24T18:41:23.000+0000"
        ],
        [
         7768,
         "Algeria",
         [
          "-88.355",
          "-96.0131"
         ],
         "2018-05-25T21:34:19.000+0000"
        ],
        [
         9590,
         "Algeria",
         [
          "-64.3876",
          "-174.281"
         ],
         "2019-05-20T19:48:48.000+0000"
        ],
        [
         1422,
         "American Samoa",
         [
          "-88.5252",
          "-172.436"
         ],
         "2018-04-30T08:27:21.000+0000"
        ],
        [
         9759,
         "American Samoa",
         [
          "-77.9744",
          "-106.258"
         ],
         "2017-12-30T13:05:49.000+0000"
        ],
        [
         159,
         "Andorra",
         [
          "-88.0812",
          "-166.603"
         ],
         "2017-11-20T21:14:56.000+0000"
        ],
        [
         2959,
         "Angola",
         [
          "-68.0095",
          "-157.227"
         ],
         "2019-08-19T08:22:02.000+0000"
        ],
        [
         6063,
         "Anguilla",
         [
          "-89.1797",
          "-174.015"
         ],
         "2021-07-20T09:02:47.000+0000"
        ],
        [
         1545,
         "Anguilla",
         [
          "-30.18",
          "-72.3784"
         ],
         "2022-06-17T05:47:12.000+0000"
        ],
        [
         2418,
         "Antarctica (the territory South of 60 deg S)",
         [
          "-88.4642",
          "-171.061"
         ],
         "2022-05-27T11:30:59.000+0000"
        ],
        [
         7922,
         "Antigua and Barbuda",
         [
          "-88.0974",
          "-172.052"
         ],
         "2021-01-27T09:14:19.000+0000"
        ],
        [
         8606,
         "Antigua and Barbuda",
         [
          "-88.0974",
          "-172.052"
         ],
         "2021-03-28T14:54:07.000+0000"
        ],
        [
         1268,
         "Argentina",
         [
          "-41.7803",
          "-177.23"
         ],
         "2019-07-06T04:10:29.000+0000"
        ],
        [
         8930,
         "Argentina",
         [
          "-89.4739",
          "-176.154"
         ],
         "2021-09-29T13:25:49.000+0000"
        ],
        [
         2863,
         "Armenia",
         [
          "-5.34445",
          "-177.924"
         ],
         "2020-04-27T13:34:16.000+0000"
        ],
        [
         2015,
         "Armenia",
         [
          "-17.629",
          "-177.685"
         ],
         "2018-09-22T13:52:19.000+0000"
        ],
        [
         719,
         "Armenia",
         [
          "-38.4062",
          "-154.323"
         ],
         "2018-10-29T04:05:12.000+0000"
        ],
        [
         1094,
         "Armenia",
         [
          "-46.7328",
          "-124.445"
         ],
         "2018-08-19T00:34:20.000+0000"
        ],
        [
         3156,
         "Armenia",
         [
          "-84.738",
          "-160.795"
         ],
         "2018-01-13T19:33:49.000+0000"
        ],
        [
         8731,
         "Aruba",
         [
          "-83.104",
          "-171.302"
         ],
         "2020-07-17T04:39:09.000+0000"
        ],
        [
         3800,
         "Aruba",
         [
          "-61.471",
          "-154.912"
         ],
         "2018-01-27T16:49:07.000+0000"
        ],
        [
         4913,
         "Aruba",
         [
          "-84.3768",
          "-157.544"
         ],
         "2019-03-08T06:45:39.000+0000"
        ],
        [
         7166,
         "Aruba",
         [
          "-86.4063",
          "-136.657"
         ],
         "2022-07-25T03:07:37.000+0000"
        ],
        [
         7294,
         "Australia",
         [
          "-76.2967",
          "-136.501"
         ],
         "2018-02-12T08:06:28.000+0000"
        ],
        [
         4137,
         "Australia",
         [
          "-55.3079",
          "108.918"
         ],
         "2019-06-23T22:16:34.000+0000"
        ],
        [
         9936,
         "Australia",
         [
          "-82.1715",
          "-147.691"
         ],
         "2018-06-30T22:07:13.000+0000"
        ],
        [
         7343,
         "Australia",
         [
          "-65.4428",
          "-161.684"
         ],
         "2018-08-06T12:17:07.000+0000"
        ],
        [
         9546,
         "Austria",
         [
          "-70.0295",
          "-155.428"
         ],
         "2018-02-10T06:16:40.000+0000"
        ],
        [
         10138,
         "Austria",
         [
          "-72.142",
          "-74.3545"
         ],
         "2019-08-03T00:59:29.000+0000"
        ],
        [
         5069,
         "Azerbaijan",
         [
          "-63.0063",
          "-157.474"
         ],
         "2021-03-20T09:32:44.000+0000"
        ],
        [
         5630,
         "Bahrain",
         [
          "-19.1403",
          "-164.987"
         ],
         "2019-05-12T14:43:19.000+0000"
        ],
        [
         428,
         "Bangladesh",
         [
          "-83.4105",
          "-150.788"
         ],
         "2020-09-27T18:46:41.000+0000"
        ],
        [
         205,
         "Barbados",
         [
          "-75.8378",
          "-163.945"
         ],
         "2020-07-08T14:10:38.000+0000"
        ],
        [
         9875,
         "Barbados",
         [
          "-74.3382",
          "-110.484"
         ],
         "2020-03-20T13:03:18.000+0000"
        ],
        [
         2482,
         "Bermuda",
         [
          "63.4563",
          "-164.709"
         ],
         "2019-09-13T08:20:13.000+0000"
        ],
        [
         3419,
         "Bhutan",
         [
          "7.60293",
          "-108.979"
         ],
         "2021-12-20T05:01:54.000+0000"
        ],
        [
         8887,
         "Botswana",
         [
          "-28.0137",
          "-160.708"
         ],
         "2021-09-19T05:27:43.000+0000"
        ],
        [
         2293,
         "British Virgin Islands",
         [
          "-87.7946",
          "-159.647"
         ],
         "2022-03-21T10:46:53.000+0000"
        ],
        [
         5494,
         "Bulgaria",
         [
          "-82.6768",
          "-129.202"
         ],
         "2021-07-21T02:02:35.000+0000"
        ],
        [
         3454,
         "Cambodia",
         [
          "-0.375174",
          "49.8106"
         ],
         "2021-07-25T02:20:29.000+0000"
        ],
        [
         6566,
         "Cape Verde",
         [
          "-39.225",
          "-71.6593"
         ],
         "2020-11-19T10:06:13.000+0000"
        ],
        [
         2074,
         "Central African Republic",
         [
          "-52.3213",
          "-50.11"
         ],
         "2019-11-03T05:41:59.000+0000"
        ],
        [
         1704,
         "Christmas Island",
         [
          "-56.8702",
          "-93.6232"
         ],
         "2018-11-29T04:46:39.000+0000"
        ],
        [
         10794,
         "Cocos (Keeling) Islands",
         [
          "-89.5236",
          "-154.567"
         ],
         "2022-01-01T02:26:50.000+0000"
        ],
        [
         5730,
         "Colombia",
         [
          "-77.015",
          "-101.437"
         ],
         "2021-04-19T17:37:03.000+0000"
        ],
        [
         831,
         "Congo",
         [
          "-43.7816",
          "-66.1592"
         ],
         "2021-06-23T23:16:10.000+0000"
        ],
        [
         2923,
         "Cote d'Ivoire",
         [
          "-84.6302",
          "-164.507"
         ],
         "2019-09-08T22:53:09.000+0000"
        ],
        [
         4315,
         "Cote d'Ivoire",
         [
          "-45.8508",
          "66.1003"
         ],
         "2019-12-15T03:51:28.000+0000"
        ],
        [
         9979,
         "Dominican Republic",
         [
          "14.9967",
          "-120.682"
         ],
         "2018-07-18T19:01:46.000+0000"
        ],
        [
         2698,
         "Egypt",
         [
          "-72.7174",
          "24.169"
         ],
         "2021-11-24T08:33:51.000+0000"
        ],
        [
         8304,
         "French Guiana",
         [
          "-28.8852",
          "-164.87"
         ],
         "2019-09-13T04:50:29.000+0000"
        ],
        [
         5076,
         "Germany",
         [
          "-70.7195",
          "-91.1935"
         ],
         "2019-05-05T16:22:23.000+0000"
        ],
        [
         10509,
         "Gibraltar",
         [
          "-67.187",
          "-24.2977"
         ],
         "2019-03-06T12:21:56.000+0000"
        ],
        [
         10552,
         "Grenada",
         [
          "32.7568",
          "-179.812"
         ],
         "2020-08-24T11:39:32.000+0000"
        ],
        [
         8578,
         "Guinea-Bissau",
         [
          "34.6427",
          "-161.397"
         ],
         "2018-01-26T19:27:11.000+0000"
        ],
        [
         9672,
         "India",
         [
          "79.4658",
          "-69.4133"
         ],
         "2019-11-03T13:15:52.000+0000"
        ],
        [
         5468,
         "Isle of Man",
         [
          "-83.544",
          "33.9473"
         ],
         "2020-05-16T23:17:50.000+0000"
        ],
        [
         427,
         "Isle of Man",
         [
          "-66.9418",
          "-30.0087"
         ],
         "2020-04-22T03:08:50.000+0000"
        ],
        [
         10625,
         "Jamaica",
         [
          "-84.4944",
          "-81.0613"
         ],
         "2018-07-13T11:51:15.000+0000"
        ],
        [
         4988,
         "Madagascar",
         [
          "-32.1879",
          "-35.2784"
         ],
         "2020-07-11T11:01:12.000+0000"
        ],
        [
         5309,
         "Maldives",
         [
          "-89.4194",
          "-84.2493"
         ],
         "2020-05-04T22:00:32.000+0000"
        ],
        [
         1313,
         "Maldives",
         [
          "77.0447",
          "61.9119"
         ],
         "2018-06-26T02:39:25.000+0000"
        ],
        [
         4076,
         "Mauritania",
         [
          "-67.2157",
          "27.8139"
         ],
         "2019-06-07T20:13:50.000+0000"
        ],
        [
         771,
         "Montserrat",
         [
          "-29.1712",
          "-107.111"
         ],
         "2018-06-21T08:42:57.000+0000"
        ],
        [
         6145,
         "Mozambique",
         [
          "-65.9079",
          "-143.845"
         ],
         "2019-12-05T02:09:44.000+0000"
        ],
        [
         603,
         "Netherlands Antilles",
         [
          "14.0083",
          "-141.603"
         ],
         "2019-06-25T05:13:01.000+0000"
        ],
        [
         6844,
         "New Caledonia",
         [
          "-22.6915",
          "5.69245"
         ],
         "2021-06-06T21:53:11.000+0000"
        ],
        [
         7790,
         "Papua New Guinea",
         [
          "-43.692",
          "64.9839"
         ],
         "2018-07-31T08:19:15.000+0000"
        ],
        [
         4508,
         "Philippines",
         [
          "69.1858",
          "-76.0761"
         ],
         "2019-01-04T11:15:27.000+0000"
        ],
        [
         10663,
         "Saint Kitts and Nevis",
         [
          "-27.3474",
          "-162.83"
         ],
         "2019-07-25T18:53:51.000+0000"
        ],
        [
         8653,
         "Seychelles",
         [
          "48.4569",
          "-139.658"
         ],
         "2022-04-11T18:30:19.000+0000"
        ],
        [
         7554,
         "Sudan",
         [
          "-51.2172",
          "-77.9768"
         ],
         "2019-03-20T03:15:07.000+0000"
        ],
        [
         1014,
         "Tonga",
         [
          "81.1477",
          "69.3538"
         ],
         "2022-02-03T22:05:34.000+0000"
        ],
        [
         3729,
         "Turkey",
         [
          "-24.4793",
          "-150.145"
         ],
         "2018-01-17T03:43:38.000+0000"
        ],
        [
         null,
         "[\"country\"]",
         [
          "[\"latitude\"]",
          "[\"longitude\"]"
         ],
         null
        ]
       ],
       "datasetInfos": [],
       "dbfsResultPath": null,
       "isJsonSchema": true,
       "metadata": {},
       "overflow": false,
       "plotOptions": {
        "customPlotOptions": {},
        "displayType": "table",
        "pivotAggregation": null,
        "pivotColumns": null,
        "xColumns": null,
        "yColumns": null
       },
       "removedWidgets": [],
       "schema": [
        {
         "metadata": "{}",
         "name": "ind",
         "type": "\"long\""
        },
        {
         "metadata": "{}",
         "name": "country",
         "type": "\"string\""
        },
        {
         "metadata": "{}",
         "name": "coordinates",
         "type": "{\"type\":\"array\",\"elementType\":\"string\",\"containsNull\":true}"
        },
        {
         "metadata": "{}",
         "name": "timestamp",
         "type": "\"timestamp\""
        }
       ],
       "type": "table"
      }
     },
     "output_type": "display_data"
    }
   ],
   "source": [
    "file_location = \"/mnt/user-0e0816526d11-bucket/topics/0e0816526d11.geo/partition=0/*.json\"\n",
    "# specify file type\n",
    "file_type = \"json\"\n",
    "# Ask Spark to infer the schema\n",
    "infer_schema = \"true\"\n",
    "# load JSONs from mounted S3 bucket to Spark dataframe\n",
    "df_geo = spark.read.format(file_type) \\\n",
    "    .option(\"inferSchema\", infer_schema) \\\n",
    "    .load(file_location)\n",
    "\n",
    "# created a new column containing latitude and longitude\n",
    "df_geo = df_geo.withColumn(\"coordinates\", array(col(\"latitude\"), col(\"longitude\")))\n",
    "\n",
    "# dropping columns\n",
    "df_geo = df_geo.drop(\"latitude\", \"longitude\")\n",
    "df_geo = df_geo.withColumn(\"timestamp\", col(\"timestamp\").cast(\"timestamp\"))\n",
    "df_geo = df_geo.dropDuplicates([\"ind\",\"country\", \"coordinates\", \"timestamp\"])\n",
    "# df_geo = df_geo.na.drop()\n",
    "\n",
    "geo_reorder_col = [\"ind\", \"country\", \"coordinates\", \"timestamp\"]\n",
    "df_geo = df_geo.select(geo_reorder_col)\n",
    "\n",
    "df_geo = df_geo.sort(\"country\")\n",
    "\n",
    "# Show the table of the Geolocation data\n",
    "display(df_geo)"
   ]
  },
  {
   "cell_type": "code",
   "execution_count": 0,
   "metadata": {
    "application/vnd.databricks.v1+cell": {
     "cellMetadata": {
      "byteLimit": 2048000,
      "rowLimit": 10000
     },
     "inputWidgets": {},
     "nuid": "4a8b7c4f-1f6e-45a3-aff6-36e493d646de",
     "showTitle": false,
     "title": ""
    }
   },
   "outputs": [
    {
     "output_type": "display_data",
     "data": {
      "text/html": [
       "<style scoped>\n",
       "  .table-result-container {\n",
       "    max-height: 300px;\n",
       "    overflow: auto;\n",
       "  }\n",
       "  table, th, td {\n",
       "    border: 1px solid black;\n",
       "    border-collapse: collapse;\n",
       "  }\n",
       "  th, td {\n",
       "    padding: 5px;\n",
       "  }\n",
       "  th {\n",
       "    text-align: left;\n",
       "  }\n",
       "</style><div class='table-result-container'><table class='table-result'><thead style='background-color: white'><tr><th>ind</th><th>user_name</th><th>age</th><th>date_joined</th></tr></thead><tbody><tr><td>1422</td><td>Aaron Abbott</td><td>20</td><td>2015-10-31T18:51:07.000+0000</td></tr><tr><td>2411</td><td>Aaron Bartlett</td><td>21</td><td>2015-11-24T02:15:36.000+0000</td></tr><tr><td>3419</td><td>Aaron Jenkins</td><td>47</td><td>2017-04-26T03:26:23.000+0000</td></tr><tr><td>7528</td><td>Abigail Ali</td><td>20</td><td>2015-10-24T11:23:51.000+0000</td></tr><tr><td>3800</td><td>Adam Armstrong</td><td>20</td><td>2015-12-17T08:43:40.000+0000</td></tr><tr><td>831</td><td>Aimee Collins</td><td>28</td><td>2016-06-16T02:06:38.000+0000</td></tr><tr><td>9546</td><td>Alex Barnes</td><td>20</td><td>2016-02-27T21:13:44.000+0000</td></tr><tr><td>2293</td><td>Alex Bean</td><td>24</td><td>2016-01-11T23:08:27.000+0000</td></tr><tr><td>6566</td><td>Alexander Perez</td><td>31</td><td>2017-08-04T14:30:22.000+0000</td></tr><tr><td>3599</td><td>Alexandria Alvarado</td><td>20</td><td>2015-10-23T04:13:23.000+0000</td></tr><tr><td>1555</td><td>Alexis Bennett</td><td>54</td><td>2016-05-15T04:22:01.000+0000</td></tr><tr><td>719</td><td>Alicia Avila</td><td>20</td><td>2016-01-26T01:49:23.000+0000</td></tr><tr><td>159</td><td>Alison Bell</td><td>21</td><td>2016-01-07T08:11:35.000+0000</td></tr><tr><td>7166</td><td>Alvin Adams</td><td>20</td><td>2016-01-01T13:50:40.000+0000</td></tr><tr><td>2418</td><td>Amanda Adams</td><td>20</td><td>2015-10-21T08:27:36.000+0000</td></tr><tr><td>9590</td><td>Amanda Allen</td><td>22</td><td>2015-10-24T18:56:30.000+0000</td></tr><tr><td>5069</td><td>Amanda Ball</td><td>25</td><td>2016-01-13T17:36:30.000+0000</td></tr><tr><td>8731</td><td>Andrea Alexander</td><td>21</td><td>2015-11-10T09:27:42.000+0000</td></tr><tr><td>8930</td><td>Andrew Anderson</td><td>23</td><td>2015-11-28T11:52:37.000+0000</td></tr><tr><td>3156</td><td>Andrew Baker</td><td>22</td><td>2015-12-21T08:06:54.000+0000</td></tr><tr><td>4913</td><td>Angela Brooks</td><td>24</td><td>2015-11-20T05:37:11.000+0000</td></tr><tr><td>1094</td><td>Ann Elliott</td><td>20</td><td>2016-07-02T02:32:30.000+0000</td></tr><tr><td>5494</td><td>Anne Allen</td><td>27</td><td>2015-12-16T15:20:05.000+0000</td></tr><tr><td>7343</td><td>Anne Clayton</td><td>24</td><td>2016-01-11T12:03:48.000+0000</td></tr><tr><td>2074</td><td>Annette Forbes</td><td>21</td><td>2016-01-03T15:42:12.000+0000</td></tr><tr><td>9936</td><td>Anthony Cantu</td><td>28</td><td>2016-11-15T10:40:03.000+0000</td></tr><tr><td>8887</td><td>Austin Rodriguez</td><td>24</td><td>2016-03-31T20:56:39.000+0000</td></tr><tr><td>1704</td><td>Barry Lynn</td><td>20</td><td>2015-10-28T05:00:33.000+0000</td></tr><tr><td>603</td><td>Brandon Jackson</td><td>44</td><td>2016-10-29T02:07:21.000+0000</td></tr><tr><td>9875</td><td>Brendan Joseph</td><td>26</td><td>2015-12-20T10:28:00.000+0000</td></tr><tr><td>205</td><td>Brett Bryant</td><td>20</td><td>2015-10-23T12:40:19.000+0000</td></tr><tr><td>2923</td><td>Brian Nelson</td><td>26</td><td>2015-11-11T03:20:57.000+0000</td></tr><tr><td>771</td><td>Brittany Butler</td><td>32</td><td>2016-03-10T04:11:31.000+0000</td></tr><tr><td>1313</td><td>Brittany Jones</td><td>32</td><td>2016-04-02T03:51:23.000+0000</td></tr><tr><td>10509</td><td>Brittany Thompson</td><td>49</td><td>2016-04-22T20:36:02.000+0000</td></tr><tr><td>5630</td><td>Carlos Estrada</td><td>22</td><td>2016-02-09T17:01:38.000+0000</td></tr><tr><td>10138</td><td>Carol Silva</td><td>22</td><td>2015-12-31T14:57:02.000+0000</td></tr><tr><td>8304</td><td>Charles Berry</td><td>25</td><td>2015-12-28T04:21:39.000+0000</td></tr><tr><td>7554</td><td>Cheryl Huerta</td><td>20</td><td>2017-04-11T16:35:33.000+0000</td></tr><tr><td>10625</td><td>Christian Lang</td><td>32</td><td>2017-10-10T20:09:33.000+0000</td></tr><tr><td>6398</td><td>Christina Davenport</td><td>39</td><td>2016-06-29T20:43:59.000+0000</td></tr><tr><td>7768</td><td>Christine Cortez</td><td>23</td><td>2015-12-01T18:15:02.000+0000</td></tr><tr><td>2015</td><td>Christopher Bradshaw</td><td>27</td><td>2016-03-08T13:38:37.000+0000</td></tr><tr><td>5076</td><td>Christopher Butler</td><td>20</td><td>2015-12-01T15:08:31.000+0000</td></tr><tr><td>428</td><td>Claudia Adams</td><td>20</td><td>2015-11-28T02:20:29.000+0000</td></tr><tr><td>6063</td><td>Corey Andrews</td><td>23</td><td>2015-11-25T13:36:22.000+0000</td></tr><tr><td>9759</td><td>Daniel Brooks</td><td>25</td><td>2015-11-19T21:24:33.000+0000</td></tr><tr><td>5309</td><td>Daniel Roy</td><td>31</td><td>2016-03-07T01:01:24.000+0000</td></tr><tr><td>2959</td><td>David Griffith</td><td>20</td><td>2016-01-07T19:49:22.000+0000</td></tr><tr><td>2482</td><td>David Moss</td><td>22</td><td>2016-03-01T07:11:48.000+0000</td></tr><tr><td>7294</td><td>Dawn Anderson</td><td>20</td><td>2016-12-31T00:06:36.000+0000</td></tr><tr><td>7922</td><td>Denise Adams</td><td>21</td><td>2015-11-12T06:21:36.000+0000</td></tr><tr><td>1268</td><td>Donna Campbell</td><td>32</td><td>2016-06-08T22:10:13.000+0000</td></tr><tr><td>2863</td><td>Dylan Holmes</td><td>32</td><td>2016-10-23T14:06:51.000+0000</td></tr><tr><td>6145</td><td>Emily Hawkins</td><td>30</td><td>2015-12-25T20:24:37.000+0000</td></tr><tr><td>46</td><td>Erik Kelley</td><td>30</td><td>2016-01-06T09:58:56.000+0000</td></tr><tr><td>1014</td><td>Gregory Ramsey</td><td>56</td><td>2016-10-15T17:21:39.000+0000</td></tr><tr><td>9672</td><td>Jennifer Hudson</td><td>22</td><td>2016-02-11T20:46:04.000+0000</td></tr><tr><td>8578</td><td>Joe Pham</td><td>48</td><td>2017-06-01T23:13:27.000+0000</td></tr><tr><td>427</td><td>Jon Burke</td><td>25</td><td>2015-11-26T17:42:37.000+0000</td></tr><tr><td>1545</td><td>Jonathan Avila</td><td>46</td><td>2015-11-27T23:11:21.000+0000</td></tr><tr><td>10663</td><td>Julie Cox</td><td>23</td><td>2016-06-23T14:38:00.000+0000</td></tr><tr><td>2698</td><td>Kayla Burton</td><td>44</td><td>2017-06-21T19:53:27.000+0000</td></tr><tr><td>9979</td><td>Kaylee Miller</td><td>31</td><td>2016-11-09T19:50:51.000+0000</td></tr><tr><td>4076</td><td>Larry Pineda</td><td>20</td><td>2015-10-23T22:47:39.000+0000</td></tr><tr><td>5468</td><td>Lisa Gamble</td><td>20</td><td>2016-07-23T20:51:06.000+0000</td></tr><tr><td>4508</td><td>Michael Carter</td><td>58</td><td>2016-06-03T23:35:30.000+0000</td></tr><tr><td>4137</td><td>Michael Decker</td><td>59</td><td>2017-06-29T22:35:17.000+0000</td></tr><tr><td>10552</td><td>Michael Hunter</td><td>40</td><td>2017-05-16T07:09:21.000+0000</td></tr><tr><td>7790</td><td>Michelle Gutierrez</td><td>39</td><td>2017-07-19T07:12:04.000+0000</td></tr><tr><td>4315</td><td>Michelle Prince</td><td>36</td><td>2015-12-20T16:38:13.000+0000</td></tr><tr><td>6844</td><td>Peter Roberts</td><td>30</td><td>2016-07-03T10:59:40.000+0000</td></tr><tr><td>5730</td><td>Rachel Davis</td><td>36</td><td>2015-12-08T20:02:43.000+0000</td></tr><tr><td>4988</td><td>Rhonda Durham</td><td>25</td><td>2017-07-20T05:51:23.000+0000</td></tr><tr><td>3729</td><td>Richard Edwards</td><td>52</td><td>2016-02-07T20:00:25.000+0000</td></tr><tr><td>3454</td><td>Robert Murphy</td><td>48</td><td>2017-09-26T16:31:56.000+0000</td></tr><tr><td>8653</td><td>Tammy Davis</td><td>24</td><td>2016-03-09T10:48:14.000+0000</td></tr><tr><td>10794</td><td>Thomas Turner</td><td>34</td><td>2016-12-22T00:02:02.000+0000</td></tr></tbody></table></div>"
      ]
     },
     "metadata": {
      "application/vnd.databricks.v1+output": {
       "addedWidgets": {},
       "aggData": [],
       "aggError": "",
       "aggOverflow": false,
       "aggSchema": [],
       "aggSeriesLimitReached": false,
       "aggType": "",
       "arguments": {},
       "columnCustomDisplayInfos": {},
       "data": [
        [
         1422,
         "Aaron Abbott",
         "20",
         "2015-10-31T18:51:07.000+0000"
        ],
        [
         2411,
         "Aaron Bartlett",
         "21",
         "2015-11-24T02:15:36.000+0000"
        ],
        [
         3419,
         "Aaron Jenkins",
         "47",
         "2017-04-26T03:26:23.000+0000"
        ],
        [
         7528,
         "Abigail Ali",
         "20",
         "2015-10-24T11:23:51.000+0000"
        ],
        [
         3800,
         "Adam Armstrong",
         "20",
         "2015-12-17T08:43:40.000+0000"
        ],
        [
         831,
         "Aimee Collins",
         "28",
         "2016-06-16T02:06:38.000+0000"
        ],
        [
         9546,
         "Alex Barnes",
         "20",
         "2016-02-27T21:13:44.000+0000"
        ],
        [
         2293,
         "Alex Bean",
         "24",
         "2016-01-11T23:08:27.000+0000"
        ],
        [
         6566,
         "Alexander Perez",
         "31",
         "2017-08-04T14:30:22.000+0000"
        ],
        [
         3599,
         "Alexandria Alvarado",
         "20",
         "2015-10-23T04:13:23.000+0000"
        ],
        [
         1555,
         "Alexis Bennett",
         "54",
         "2016-05-15T04:22:01.000+0000"
        ],
        [
         719,
         "Alicia Avila",
         "20",
         "2016-01-26T01:49:23.000+0000"
        ],
        [
         159,
         "Alison Bell",
         "21",
         "2016-01-07T08:11:35.000+0000"
        ],
        [
         7166,
         "Alvin Adams",
         "20",
         "2016-01-01T13:50:40.000+0000"
        ],
        [
         2418,
         "Amanda Adams",
         "20",
         "2015-10-21T08:27:36.000+0000"
        ],
        [
         9590,
         "Amanda Allen",
         "22",
         "2015-10-24T18:56:30.000+0000"
        ],
        [
         5069,
         "Amanda Ball",
         "25",
         "2016-01-13T17:36:30.000+0000"
        ],
        [
         8731,
         "Andrea Alexander",
         "21",
         "2015-11-10T09:27:42.000+0000"
        ],
        [
         8930,
         "Andrew Anderson",
         "23",
         "2015-11-28T11:52:37.000+0000"
        ],
        [
         3156,
         "Andrew Baker",
         "22",
         "2015-12-21T08:06:54.000+0000"
        ],
        [
         4913,
         "Angela Brooks",
         "24",
         "2015-11-20T05:37:11.000+0000"
        ],
        [
         1094,
         "Ann Elliott",
         "20",
         "2016-07-02T02:32:30.000+0000"
        ],
        [
         5494,
         "Anne Allen",
         "27",
         "2015-12-16T15:20:05.000+0000"
        ],
        [
         7343,
         "Anne Clayton",
         "24",
         "2016-01-11T12:03:48.000+0000"
        ],
        [
         2074,
         "Annette Forbes",
         "21",
         "2016-01-03T15:42:12.000+0000"
        ],
        [
         9936,
         "Anthony Cantu",
         "28",
         "2016-11-15T10:40:03.000+0000"
        ],
        [
         8887,
         "Austin Rodriguez",
         "24",
         "2016-03-31T20:56:39.000+0000"
        ],
        [
         1704,
         "Barry Lynn",
         "20",
         "2015-10-28T05:00:33.000+0000"
        ],
        [
         603,
         "Brandon Jackson",
         "44",
         "2016-10-29T02:07:21.000+0000"
        ],
        [
         9875,
         "Brendan Joseph",
         "26",
         "2015-12-20T10:28:00.000+0000"
        ],
        [
         205,
         "Brett Bryant",
         "20",
         "2015-10-23T12:40:19.000+0000"
        ],
        [
         2923,
         "Brian Nelson",
         "26",
         "2015-11-11T03:20:57.000+0000"
        ],
        [
         771,
         "Brittany Butler",
         "32",
         "2016-03-10T04:11:31.000+0000"
        ],
        [
         1313,
         "Brittany Jones",
         "32",
         "2016-04-02T03:51:23.000+0000"
        ],
        [
         10509,
         "Brittany Thompson",
         "49",
         "2016-04-22T20:36:02.000+0000"
        ],
        [
         5630,
         "Carlos Estrada",
         "22",
         "2016-02-09T17:01:38.000+0000"
        ],
        [
         10138,
         "Carol Silva",
         "22",
         "2015-12-31T14:57:02.000+0000"
        ],
        [
         8304,
         "Charles Berry",
         "25",
         "2015-12-28T04:21:39.000+0000"
        ],
        [
         7554,
         "Cheryl Huerta",
         "20",
         "2017-04-11T16:35:33.000+0000"
        ],
        [
         10625,
         "Christian Lang",
         "32",
         "2017-10-10T20:09:33.000+0000"
        ],
        [
         6398,
         "Christina Davenport",
         "39",
         "2016-06-29T20:43:59.000+0000"
        ],
        [
         7768,
         "Christine Cortez",
         "23",
         "2015-12-01T18:15:02.000+0000"
        ],
        [
         2015,
         "Christopher Bradshaw",
         "27",
         "2016-03-08T13:38:37.000+0000"
        ],
        [
         5076,
         "Christopher Butler",
         "20",
         "2015-12-01T15:08:31.000+0000"
        ],
        [
         428,
         "Claudia Adams",
         "20",
         "2015-11-28T02:20:29.000+0000"
        ],
        [
         6063,
         "Corey Andrews",
         "23",
         "2015-11-25T13:36:22.000+0000"
        ],
        [
         9759,
         "Daniel Brooks",
         "25",
         "2015-11-19T21:24:33.000+0000"
        ],
        [
         5309,
         "Daniel Roy",
         "31",
         "2016-03-07T01:01:24.000+0000"
        ],
        [
         2959,
         "David Griffith",
         "20",
         "2016-01-07T19:49:22.000+0000"
        ],
        [
         2482,
         "David Moss",
         "22",
         "2016-03-01T07:11:48.000+0000"
        ],
        [
         7294,
         "Dawn Anderson",
         "20",
         "2016-12-31T00:06:36.000+0000"
        ],
        [
         7922,
         "Denise Adams",
         "21",
         "2015-11-12T06:21:36.000+0000"
        ],
        [
         1268,
         "Donna Campbell",
         "32",
         "2016-06-08T22:10:13.000+0000"
        ],
        [
         2863,
         "Dylan Holmes",
         "32",
         "2016-10-23T14:06:51.000+0000"
        ],
        [
         6145,
         "Emily Hawkins",
         "30",
         "2015-12-25T20:24:37.000+0000"
        ],
        [
         46,
         "Erik Kelley",
         "30",
         "2016-01-06T09:58:56.000+0000"
        ],
        [
         1014,
         "Gregory Ramsey",
         "56",
         "2016-10-15T17:21:39.000+0000"
        ],
        [
         9672,
         "Jennifer Hudson",
         "22",
         "2016-02-11T20:46:04.000+0000"
        ],
        [
         8578,
         "Joe Pham",
         "48",
         "2017-06-01T23:13:27.000+0000"
        ],
        [
         427,
         "Jon Burke",
         "25",
         "2015-11-26T17:42:37.000+0000"
        ],
        [
         1545,
         "Jonathan Avila",
         "46",
         "2015-11-27T23:11:21.000+0000"
        ],
        [
         10663,
         "Julie Cox",
         "23",
         "2016-06-23T14:38:00.000+0000"
        ],
        [
         2698,
         "Kayla Burton",
         "44",
         "2017-06-21T19:53:27.000+0000"
        ],
        [
         9979,
         "Kaylee Miller",
         "31",
         "2016-11-09T19:50:51.000+0000"
        ],
        [
         4076,
         "Larry Pineda",
         "20",
         "2015-10-23T22:47:39.000+0000"
        ],
        [
         5468,
         "Lisa Gamble",
         "20",
         "2016-07-23T20:51:06.000+0000"
        ],
        [
         4508,
         "Michael Carter",
         "58",
         "2016-06-03T23:35:30.000+0000"
        ],
        [
         4137,
         "Michael Decker",
         "59",
         "2017-06-29T22:35:17.000+0000"
        ],
        [
         10552,
         "Michael Hunter",
         "40",
         "2017-05-16T07:09:21.000+0000"
        ],
        [
         7790,
         "Michelle Gutierrez",
         "39",
         "2017-07-19T07:12:04.000+0000"
        ],
        [
         4315,
         "Michelle Prince",
         "36",
         "2015-12-20T16:38:13.000+0000"
        ],
        [
         6844,
         "Peter Roberts",
         "30",
         "2016-07-03T10:59:40.000+0000"
        ],
        [
         5730,
         "Rachel Davis",
         "36",
         "2015-12-08T20:02:43.000+0000"
        ],
        [
         4988,
         "Rhonda Durham",
         "25",
         "2017-07-20T05:51:23.000+0000"
        ],
        [
         3729,
         "Richard Edwards",
         "52",
         "2016-02-07T20:00:25.000+0000"
        ],
        [
         3454,
         "Robert Murphy",
         "48",
         "2017-09-26T16:31:56.000+0000"
        ],
        [
         8653,
         "Tammy Davis",
         "24",
         "2016-03-09T10:48:14.000+0000"
        ],
        [
         10794,
         "Thomas Turner",
         "34",
         "2016-12-22T00:02:02.000+0000"
        ]
       ],
       "datasetInfos": [],
       "dbfsResultPath": null,
       "isJsonSchema": true,
       "metadata": {},
       "overflow": false,
       "plotOptions": {
        "customPlotOptions": {},
        "displayType": "table",
        "pivotAggregation": null,
        "pivotColumns": null,
        "xColumns": null,
        "yColumns": null
       },
       "removedWidgets": [],
       "schema": [
        {
         "metadata": "{}",
         "name": "ind",
         "type": "\"long\""
        },
        {
         "metadata": "{}",
         "name": "user_name",
         "type": "\"string\""
        },
        {
         "metadata": "{}",
         "name": "age",
         "type": "\"string\""
        },
        {
         "metadata": "{}",
         "name": "date_joined",
         "type": "\"timestamp\""
        }
       ],
       "type": "table"
      }
     },
     "output_type": "display_data"
    }
   ],
   "source": [
    "file_location = \"/mnt/user-0e0816526d11-bucket/topics/0e0816526d11.user/partition=0/*.json\"\n",
    "# specify file type\n",
    "file_type = \"json\"\n",
    "# Ask Spark to infer the schema\n",
    "infer_schema = \"true\"\n",
    "# load JSONs from mounted S3 bucket to Spark dataframe\n",
    "df_user = spark.read.format(file_type) \\\n",
    "    .option(\"inferSchema\", infer_schema) \\\n",
    "    .load(file_location)\n",
    "\n",
    "df_user = df_user.withColumn(\"user_name\", concat(col(\"first_name\"),lit(\" \"),col(\"last_name\")))\n",
    "df_user = df_user.drop(\"first_name\",\"last_name\",\"index\")\n",
    "df_user = df_user.withColumn(\"date_joined\", col(\"date_joined\").cast(\"timestamp\"))\n",
    "df_user = df_user.dropDuplicates([\"user_name\", \"age\", \"date_joined\"])\n",
    "df_user = df_user.na.drop()\n",
    "\n",
    "user_reorder_col = [\"ind\",\"user_name\",\"age\",\"date_joined\"]\n",
    "df_user = df_user.select(user_reorder_col)\n",
    "\n",
    "df_user = df_user.sort(\"user_name\")\n",
    "\n",
    "# Show the table of the User data\n",
    "display(df_user)"
   ]
  },
  {
   "cell_type": "code",
   "execution_count": 0,
   "metadata": {
    "application/vnd.databricks.v1+cell": {
     "cellMetadata": {
      "byteLimit": 2048000,
      "rowLimit": 10000
     },
     "inputWidgets": {},
     "nuid": "9f9e79d5-1138-4450-8d6d-bd2b9a47ab9a",
     "showTitle": false,
     "title": ""
    }
   },
   "outputs": [
    {
     "output_type": "display_data",
     "data": {
      "text/html": [
       "<style scoped>\n",
       "  .ansiout {\n",
       "    display: block;\n",
       "    unicode-bidi: embed;\n",
       "    white-space: pre-wrap;\n",
       "    word-wrap: break-word;\n",
       "    word-break: break-all;\n",
       "    font-family: \"Menlo\", \"Monaco\", \"Consolas\", \"Ubuntu Mono\", \"Source Code Pro\", monospace;\n",
       "    font-size: 13px;\n",
       "    color: #555;\n",
       "    margin-left: 4px;\n",
       "    line-height: 19px;\n",
       "  }\n",
       "</style>\n",
       "<div class=\"ansiout\">/mnt/user-0e0816526d11-bucket has been unmounted.\n",
       "Out[2]: True</div>"
      ]
     },
     "metadata": {
      "application/vnd.databricks.v1+output": {
       "addedWidgets": {},
       "arguments": {},
       "data": "<div class=\"ansiout\">/mnt/user-0e0816526d11-bucket has been unmounted.\nOut[2]: True</div>",
       "datasetInfos": [],
       "metadata": {},
       "removedWidgets": [],
       "type": "html"
      }
     },
     "output_type": "display_data"
    }
   ],
   "source": [
    "dbutils.fs.unmount(\"/mnt/user-0e0816526d11-bucket\")"
   ]
  },
  {
   "cell_type": "code",
   "execution_count": 0,
   "metadata": {
    "application/vnd.databricks.v1+cell": {
     "cellMetadata": {
      "byteLimit": 2048000,
      "rowLimit": 10000
     },
     "inputWidgets": {},
     "nuid": "167bf941-7e85-4327-924e-c3eb40867d3e",
     "showTitle": false,
     "title": ""
    }
   },
   "outputs": [
    {
     "output_type": "display_data",
     "data": {
      "text/html": [
       "<style scoped>\n",
       "  .table-result-container {\n",
       "    max-height: 300px;\n",
       "    overflow: auto;\n",
       "  }\n",
       "  table, th, td {\n",
       "    border: 1px solid black;\n",
       "    border-collapse: collapse;\n",
       "  }\n",
       "  th, td {\n",
       "    padding: 5px;\n",
       "  }\n",
       "  th {\n",
       "    text-align: left;\n",
       "  }\n",
       "</style><div class='table-result-container'><table class='table-result'><thead style='background-color: white'><tr><th>country</th><th>category</th><th>category_count</th></tr></thead><tbody><tr><td>Australia</td><td>mens-fashion</td><td>2</td></tr><tr><td>Austria</td><td>travel</td><td>2</td></tr><tr><td>Armenia</td><td>diy-and-crafts</td><td>2</td></tr><tr><td>India</td><td>travel</td><td>1</td></tr><tr><td>French Guiana</td><td>quotes</td><td>1</td></tr><tr><td>Cocos (Keeling) Islands</td><td>vehicles</td><td>1</td></tr><tr><td>Cambodia</td><td>diy-and-crafts</td><td>1</td></tr><tr><td>Grenada</td><td>vehicles</td><td>1</td></tr><tr><td>Armenia</td><td>christmas</td><td>1</td></tr><tr><td>Central African Republic</td><td>christmas</td><td>1</td></tr><tr><td>New Caledonia</td><td>mens-fashion</td><td>1</td></tr><tr><td>Madagascar</td><td>event-planning</td><td>1</td></tr><tr><td>Isle of Man</td><td>finance</td><td>1</td></tr><tr><td>Mozambique</td><td>home-decor</td><td>1</td></tr><tr><td>Aruba</td><td>tattoos</td><td>1</td></tr><tr><td>Tonga</td><td>beauty</td><td>1</td></tr><tr><td>Jamaica</td><td>vehicles</td><td>1</td></tr><tr><td>Dominican Republic</td><td>travel</td><td>1</td></tr><tr><td>Barbados</td><td>art</td><td>1</td></tr><tr><td>Armenia</td><td>beauty</td><td>1</td></tr><tr><td>American Samoa</td><td>travel</td><td>1</td></tr><tr><td>Aruba</td><td>mens-fashion</td><td>1</td></tr><tr><td>Armenia</td><td>art</td><td>1</td></tr><tr><td>American Samoa</td><td>beauty</td><td>1</td></tr><tr><td>Seychelles</td><td>tattoos</td><td>1</td></tr><tr><td>Isle of Man</td><td>art</td><td>1</td></tr><tr><td>Afghanistan</td><td>education</td><td>1</td></tr><tr><td>Botswana</td><td>tattoos</td><td>1</td></tr><tr><td>Colombia</td><td>finance</td><td>1</td></tr><tr><td>Bhutan</td><td>diy-and-crafts</td><td>1</td></tr><tr><td>Angola</td><td>diy-and-crafts</td><td>1</td></tr><tr><td>Bermuda</td><td>christmas</td><td>1</td></tr><tr><td>Papua New Guinea</td><td>quotes</td><td>1</td></tr><tr><td>Saint Kitts and Nevis</td><td>vehicles</td><td>1</td></tr><tr><td>Andorra</td><td>art</td><td>1</td></tr><tr><td>Bangladesh</td><td>art</td><td>1</td></tr><tr><td>Netherlands Antilles</td><td>art</td><td>1</td></tr><tr><td>British Virgin Islands</td><td>christmas</td><td>1</td></tr><tr><td>Montserrat</td><td>art</td><td>1</td></tr><tr><td>Cote d'Ivoire</td><td>education</td><td>1</td></tr><tr><td>Congo</td><td>art</td><td>1</td></tr><tr><td>Australia</td><td>education</td><td>1</td></tr><tr><td>Antigua and Barbuda</td><td>quotes</td><td>1</td></tr><tr><td>Anguilla</td><td>beauty</td><td>1</td></tr><tr><td>Albania</td><td>christmas</td><td>1</td></tr><tr><td>Algeria</td><td>beauty</td><td>1</td></tr><tr><td>Aruba</td><td>education</td><td>1</td></tr><tr><td>Aruba</td><td>event-planning</td><td>1</td></tr><tr><td>Australia</td><td>travel</td><td>1</td></tr><tr><td>Guinea-Bissau</td><td>tattoos</td><td>1</td></tr><tr><td>Bahrain</td><td>finance</td><td>1</td></tr><tr><td>Germany</td><td>event-planning</td><td>1</td></tr><tr><td>Maldives</td><td>finance</td><td>1</td></tr><tr><td>Albania</td><td>art</td><td>1</td></tr><tr><td>Mauritania</td><td>education</td><td>1</td></tr><tr><td>Barbados</td><td>travel</td><td>1</td></tr><tr><td>Cape Verde</td><td>home-decor</td><td>1</td></tr><tr><td>Philippines</td><td>event-planning</td><td>1</td></tr><tr><td>Cote d'Ivoire</td><td>diy-and-crafts</td><td>1</td></tr><tr><td>Christmas Island</td><td>christmas</td><td>1</td></tr><tr><td>Algeria</td><td>travel</td><td>1</td></tr><tr><td>Egypt</td><td>diy-and-crafts</td><td>1</td></tr><tr><td>Azerbaijan</td><td>event-planning</td><td>1</td></tr><tr><td>Algeria</td><td>quotes</td><td>1</td></tr><tr><td>Antigua and Barbuda</td><td>tattoos</td><td>1</td></tr><tr><td>Anguilla</td><td>home-decor</td><td>1</td></tr><tr><td>Sudan</td><td>mens-fashion</td><td>1</td></tr><tr><td>Afghanistan</td><td>art</td><td>1</td></tr><tr><td>Argentina</td><td>beauty</td><td>1</td></tr><tr><td>Antarctica (the territory South of 60 deg S)</td><td>christmas</td><td>1</td></tr><tr><td>Bulgaria</td><td>finance</td><td>1</td></tr><tr><td>Turkey</td><td>education</td><td>1</td></tr><tr><td>Argentina</td><td>tattoos</td><td>1</td></tr></tbody></table></div>"
      ]
     },
     "metadata": {
      "application/vnd.databricks.v1+output": {
       "addedWidgets": {},
       "aggData": [],
       "aggError": "",
       "aggOverflow": false,
       "aggSchema": [],
       "aggSeriesLimitReached": false,
       "aggType": "",
       "arguments": {},
       "columnCustomDisplayInfos": {},
       "data": [
        [
         "Australia",
         "mens-fashion",
         2
        ],
        [
         "Austria",
         "travel",
         2
        ],
        [
         "Armenia",
         "diy-and-crafts",
         2
        ],
        [
         "India",
         "travel",
         1
        ],
        [
         "French Guiana",
         "quotes",
         1
        ],
        [
         "Cocos (Keeling) Islands",
         "vehicles",
         1
        ],
        [
         "Cambodia",
         "diy-and-crafts",
         1
        ],
        [
         "Grenada",
         "vehicles",
         1
        ],
        [
         "Armenia",
         "christmas",
         1
        ],
        [
         "Central African Republic",
         "christmas",
         1
        ],
        [
         "New Caledonia",
         "mens-fashion",
         1
        ],
        [
         "Madagascar",
         "event-planning",
         1
        ],
        [
         "Isle of Man",
         "finance",
         1
        ],
        [
         "Mozambique",
         "home-decor",
         1
        ],
        [
         "Aruba",
         "tattoos",
         1
        ],
        [
         "Tonga",
         "beauty",
         1
        ],
        [
         "Jamaica",
         "vehicles",
         1
        ],
        [
         "Dominican Republic",
         "travel",
         1
        ],
        [
         "Barbados",
         "art",
         1
        ],
        [
         "Armenia",
         "beauty",
         1
        ],
        [
         "American Samoa",
         "travel",
         1
        ],
        [
         "Aruba",
         "mens-fashion",
         1
        ],
        [
         "Armenia",
         "art",
         1
        ],
        [
         "American Samoa",
         "beauty",
         1
        ],
        [
         "Seychelles",
         "tattoos",
         1
        ],
        [
         "Isle of Man",
         "art",
         1
        ],
        [
         "Afghanistan",
         "education",
         1
        ],
        [
         "Botswana",
         "tattoos",
         1
        ],
        [
         "Colombia",
         "finance",
         1
        ],
        [
         "Bhutan",
         "diy-and-crafts",
         1
        ],
        [
         "Angola",
         "diy-and-crafts",
         1
        ],
        [
         "Bermuda",
         "christmas",
         1
        ],
        [
         "Papua New Guinea",
         "quotes",
         1
        ],
        [
         "Saint Kitts and Nevis",
         "vehicles",
         1
        ],
        [
         "Andorra",
         "art",
         1
        ],
        [
         "Bangladesh",
         "art",
         1
        ],
        [
         "Netherlands Antilles",
         "art",
         1
        ],
        [
         "British Virgin Islands",
         "christmas",
         1
        ],
        [
         "Montserrat",
         "art",
         1
        ],
        [
         "Cote d'Ivoire",
         "education",
         1
        ],
        [
         "Congo",
         "art",
         1
        ],
        [
         "Australia",
         "education",
         1
        ],
        [
         "Antigua and Barbuda",
         "quotes",
         1
        ],
        [
         "Anguilla",
         "beauty",
         1
        ],
        [
         "Albania",
         "christmas",
         1
        ],
        [
         "Algeria",
         "beauty",
         1
        ],
        [
         "Aruba",
         "education",
         1
        ],
        [
         "Aruba",
         "event-planning",
         1
        ],
        [
         "Australia",
         "travel",
         1
        ],
        [
         "Guinea-Bissau",
         "tattoos",
         1
        ],
        [
         "Bahrain",
         "finance",
         1
        ],
        [
         "Germany",
         "event-planning",
         1
        ],
        [
         "Maldives",
         "finance",
         1
        ],
        [
         "Albania",
         "art",
         1
        ],
        [
         "Mauritania",
         "education",
         1
        ],
        [
         "Barbados",
         "travel",
         1
        ],
        [
         "Cape Verde",
         "home-decor",
         1
        ],
        [
         "Philippines",
         "event-planning",
         1
        ],
        [
         "Cote d'Ivoire",
         "diy-and-crafts",
         1
        ],
        [
         "Christmas Island",
         "christmas",
         1
        ],
        [
         "Algeria",
         "travel",
         1
        ],
        [
         "Egypt",
         "diy-and-crafts",
         1
        ],
        [
         "Azerbaijan",
         "event-planning",
         1
        ],
        [
         "Algeria",
         "quotes",
         1
        ],
        [
         "Antigua and Barbuda",
         "tattoos",
         1
        ],
        [
         "Anguilla",
         "home-decor",
         1
        ],
        [
         "Sudan",
         "mens-fashion",
         1
        ],
        [
         "Afghanistan",
         "art",
         1
        ],
        [
         "Argentina",
         "beauty",
         1
        ],
        [
         "Antarctica (the territory South of 60 deg S)",
         "christmas",
         1
        ],
        [
         "Bulgaria",
         "finance",
         1
        ],
        [
         "Turkey",
         "education",
         1
        ],
        [
         "Argentina",
         "tattoos",
         1
        ]
       ],
       "datasetInfos": [],
       "dbfsResultPath": null,
       "isJsonSchema": true,
       "metadata": {},
       "overflow": false,
       "plotOptions": {
        "customPlotOptions": {},
        "displayType": "table",
        "pivotAggregation": null,
        "pivotColumns": null,
        "xColumns": null,
        "yColumns": null
       },
       "removedWidgets": [],
       "schema": [
        {
         "metadata": "{}",
         "name": "country",
         "type": "\"string\""
        },
        {
         "metadata": "{}",
         "name": "category",
         "type": "\"string\""
        },
        {
         "metadata": "{}",
         "name": "category_count",
         "type": "\"long\""
        }
       ],
       "type": "table"
      }
     },
     "output_type": "display_data"
    }
   ],
   "source": [
    "# Finding the most popular Pinterest category in each country.\n",
    "\n",
    "df_pin_geo = df_pin.join(df_geo, \"ind\").groupBy(df_geo.country, df_pin.category).agg(count(\"category\").alias(\"category_count\")).orderBy(desc(\"category_count\"))\n",
    "\n",
    "display(df_pin_geo)\n"
   ]
  },
  {
   "cell_type": "code",
   "execution_count": 0,
   "metadata": {
    "application/vnd.databricks.v1+cell": {
     "cellMetadata": {
      "byteLimit": 2048000,
      "rowLimit": 10000
     },
     "inputWidgets": {},
     "nuid": "3369ed5d-c8c7-416c-aad9-ba54cff60d2d",
     "showTitle": false,
     "title": ""
    }
   },
   "outputs": [
    {
     "output_type": "display_data",
     "data": {
      "text/html": [
       "<style scoped>\n",
       "  .table-result-container {\n",
       "    max-height: 300px;\n",
       "    overflow: auto;\n",
       "  }\n",
       "  table, th, td {\n",
       "    border: 1px solid black;\n",
       "    border-collapse: collapse;\n",
       "  }\n",
       "  th, td {\n",
       "    padding: 5px;\n",
       "  }\n",
       "  th {\n",
       "    text-align: left;\n",
       "  }\n",
       "</style><div class='table-result-container'><table class='table-result'><thead style='background-color: white'><tr><th>post_year</th><th>category</th><th>category_count</th></tr></thead><tbody><tr><td>2022</td><td>beauty</td><td>2</td></tr><tr><td>2021</td><td>event-planning</td><td>1</td></tr><tr><td>2020</td><td>diy-and-crafts</td><td>1</td></tr><tr><td>2019</td><td>christmas</td><td>2</td></tr><tr><td>2018</td><td>mens-fashion</td><td>2</td></tr></tbody></table></div>"
      ]
     },
     "metadata": {
      "application/vnd.databricks.v1+output": {
       "addedWidgets": {},
       "aggData": [],
       "aggError": "",
       "aggOverflow": false,
       "aggSchema": [],
       "aggSeriesLimitReached": false,
       "aggType": "",
       "arguments": {},
       "columnCustomDisplayInfos": {},
       "data": [
        [
         2022,
         "beauty",
         2
        ],
        [
         2021,
         "event-planning",
         1
        ],
        [
         2020,
         "diy-and-crafts",
         1
        ],
        [
         2019,
         "christmas",
         2
        ],
        [
         2018,
         "mens-fashion",
         2
        ]
       ],
       "datasetInfos": [],
       "dbfsResultPath": null,
       "isJsonSchema": true,
       "metadata": {},
       "overflow": false,
       "plotOptions": {
        "customPlotOptions": {},
        "displayType": "table",
        "pivotAggregation": null,
        "pivotColumns": null,
        "xColumns": null,
        "yColumns": null
       },
       "removedWidgets": [],
       "schema": [
        {
         "metadata": "{}",
         "name": "post_year",
         "type": "\"integer\""
        },
        {
         "metadata": "{}",
         "name": "category",
         "type": "\"string\""
        },
        {
         "metadata": "{}",
         "name": "category_count",
         "type": "\"long\""
        }
       ],
       "type": "table"
      }
     },
     "output_type": "display_data"
    }
   ],
   "source": [
    "# Finding the most popular category each year\n",
    "\n",
    "df_post_year = df_pin.join(df_geo, \"ind\").groupBy(year(\"timestamp\").alias(\"post_year\"), \"category\").agg(count(\"category\").alias(\"category_count\"))\n",
    "\n",
    "post_year_filter = df_post_year.filter((col(\"post_year\") >= 2018) & (col(\"post_year\") <= 2022))\n",
    "\n",
    "popular_cat_each_year = post_year_filter.groupBy(\"post_year\").agg(first(\"category\").alias(\"category\"), first(\"category_count\").alias(\"category_count\")).orderBy(desc(\"post_year\"))\n",
    "\n",
    "display(popular_cat_each_year)"
   ]
  },
  {
   "cell_type": "code",
   "execution_count": 0,
   "metadata": {
    "application/vnd.databricks.v1+cell": {
     "cellMetadata": {
      "byteLimit": 2048000,
      "rowLimit": 10000
     },
     "inputWidgets": {},
     "nuid": "a69ab11e-269f-4cbb-971f-d30a667a4cee",
     "showTitle": false,
     "title": ""
    }
   },
   "outputs": [
    {
     "output_type": "display_data",
     "data": {
      "text/html": [
       "<style scoped>\n",
       "  .table-result-container {\n",
       "    max-height: 300px;\n",
       "    overflow: auto;\n",
       "  }\n",
       "  table, th, td {\n",
       "    border: 1px solid black;\n",
       "    border-collapse: collapse;\n",
       "  }\n",
       "  th, td {\n",
       "    padding: 5px;\n",
       "  }\n",
       "  th {\n",
       "    text-align: left;\n",
       "  }\n",
       "</style><div class='table-result-container'><table class='table-result'><thead style='background-color: white'><tr><th>country</th><th>poster_name</th><th>follower_count</th></tr></thead><tbody><tr><td>Azerbaijan</td><td>Style Me Pretty</td><td>6000000</td></tr><tr><td>American Samoa</td><td>BuzzFeed</td><td>5000000</td></tr><tr><td>Christmas Island</td><td>Instructables</td><td>3000000</td></tr><tr><td>Bangladesh</td><td>Architectural Digest</td><td>3000000</td></tr><tr><td>Afghanistan</td><td>Walmart</td><td>2000000</td></tr><tr><td>Andorra</td><td>Teachers Pay Teachers</td><td>1000000</td></tr><tr><td>Australia</td><td>Cultura Colectiva</td><td>1000000</td></tr><tr><td>Armenia</td><td>Michelle {CraftyMorning.com}</td><td>892000</td></tr><tr><td>Central African Republic</td><td>PureWow</td><td>868000</td></tr><tr><td>Argentina</td><td>Next Luxury</td><td>800000</td></tr><tr><td>Armenia</td><td>ArchitectureArtDesigns</td><td>616000</td></tr><tr><td>Angola</td><td>CraftGossip.com</td><td>502000</td></tr><tr><td>Antarctica (the territory South of 60 deg S)</td><td>HikenDip</td><td>500000</td></tr><tr><td>Barbados</td><td>The Creativity Exchange</td><td>410000</td></tr><tr><td>Maldives</td><td>Passion For Savings</td><td>330000</td></tr><tr><td>Algeria</td><td>ELLE Germany</td><td>326000</td></tr><tr><td>Antigua and Barbuda</td><td>Sumcoco | Decor Ideas, Hairstyles, Nails Fashion Advice</td><td>306000</td></tr><tr><td>British Virgin Islands</td><td>Kitchen Fun With My 3 Sons</td><td>245000</td></tr><tr><td>Aruba</td><td>TheTrendSpotter</td><td>211000</td></tr><tr><td>Cote d'Ivoire</td><td>The Crafting Chicks</td><td>192000</td></tr><tr><td>Cape Verde</td><td>Sand and Sisal</td><td>178000</td></tr><tr><td>Saint Kitts and Nevis</td><td>vintagetopia</td><td>171000</td></tr><tr><td>Algeria</td><td>Fun Life Crisis</td><td>130000</td></tr><tr><td>Armenia</td><td>Of Life & Lisa | Lifestyle Blog</td><td>124000</td></tr><tr><td>Madagascar</td><td>MomAdvice</td><td>112000</td></tr><tr><td>Aruba</td><td>The Work at Home Woman</td><td>110000</td></tr><tr><td>Anguilla</td><td>Kristen | Lifestyle, Mom Tips & Teacher Stuff Blog</td><td>92000</td></tr><tr><td>Austria</td><td>The World Pursuit Travel Website</td><td>89000</td></tr><tr><td>Anguilla</td><td>Thank Your Body</td><td>85000</td></tr><tr><td>Mozambique</td><td>Stylin by Aylin</td><td>83000</td></tr><tr><td>Isle of Man</td><td>Abbotts At Home</td><td>52000</td></tr><tr><td>French Guiana</td><td>Commitment Connection</td><td>51000</td></tr><tr><td>Bermuda</td><td>Life on Summerhill | Home, Holiday Decor & DIY Website</td><td>46000</td></tr><tr><td>Bahrain</td><td>R.J. Weiss at The Ways To Wealth | Personal Finance | Debt Payoff</td><td>46000</td></tr><tr><td>Algeria</td><td>Boss Babe Chronicles | Personal Development, Finances, Self Care</td><td>45000</td></tr><tr><td>American Samoa</td><td>TheFab20s | Travel+Food+DIY+Listicles</td><td>42000</td></tr><tr><td>Barbados</td><td>Nicki </td><td>28000</td></tr><tr><td>Australia</td><td>LLEGANCE | Workwear Fashion Woman Advice For Driven Professionals</td><td>28000</td></tr><tr><td>Congo</td><td>Shawn Petite</td><td>27000</td></tr><tr><td>Afghanistan</td><td>It's me, JD | DIY, Crafts, Home & Organization</td><td>27000</td></tr><tr><td>Bulgaria</td><td>Living Low Key | Save Money, Make Money, & Frugal Living</td><td>26000</td></tr><tr><td>Armenia</td><td>The Arty Teacher</td><td>25000</td></tr><tr><td>Cote d'Ivoire</td><td>Math Giraffe</td><td>25000</td></tr><tr><td>Mauritania</td><td>The Literacy Nest</td><td>22000</td></tr><tr><td>Australia</td><td>Jess Wandering</td><td>22000</td></tr><tr><td>Seychelles</td><td>ALL FOR WOMAN</td><td>21000</td></tr><tr><td>Albania</td><td>Projects with Kids</td><td>20000</td></tr><tr><td>Aruba</td><td>Traci Bender - The Bender Bunch</td><td>11000</td></tr><tr><td>Austria</td><td>Wanderlust Chloe ✈️ Travel guides, inspo and adventure travel ✈️</td><td>10000</td></tr><tr><td>Turkey</td><td>My Little Poppies (Cait Curley, MA/CAGS)</td><td>9000</td></tr><tr><td>Egypt</td><td>South Lumina Style</td><td>9000</td></tr><tr><td>Armenia</td><td>Jiew82633</td><td>8000</td></tr><tr><td>Jamaica</td><td>hobbyDB</td><td>8000</td></tr><tr><td>Netherlands Antilles</td><td>Kim Cook-Thirteen Chairs-Slates Mugs And Tees</td><td>7000</td></tr><tr><td>India</td><td>Travel Mad Mum</td><td>7000</td></tr><tr><td>Cambodia</td><td>Mixed Media Crafts</td><td>6000</td></tr><tr><td>Australia</td><td>Write Your Story | Budgeting, Healthy Lifestyle, Faith</td><td>5000</td></tr><tr><td>Germany</td><td>QC Career School</td><td>5000</td></tr><tr><td>Botswana</td><td>RapidLeaks</td><td>4000</td></tr><tr><td>Montserrat</td><td>Taming Little Monsters - Fun Activities for Kids</td><td>4000</td></tr><tr><td>Bhutan</td><td>Kids Crafts & Free Preschool Printables- Sharing Our Experiences</td><td>3000</td></tr><tr><td>Argentina</td><td>Tony</td><td>3000</td></tr><tr><td>Dominican Republic</td><td>Petite in Paris</td><td>3000</td></tr><tr><td>Sudan</td><td>iElylike ..✿◕‿◕✿ஐ✿◕‿◕✿</td><td>940</td></tr><tr><td>Cocos (Keeling) Islands</td><td>Ray Uyemura</td><td>437</td></tr><tr><td>New Caledonia</td><td>Au'vey Smith</td><td>377</td></tr><tr><td>Grenada</td><td>p hump</td><td>314</td></tr><tr><td>Isle of Man</td><td>Annamarie Hilton</td><td>313</td></tr><tr><td>Papua New Guinea</td><td>AnnaLee Kick</td><td>112</td></tr><tr><td>Philippines</td><td>Life of Neon | Custom Neon Light Signs | Home Decor Wall Art</td><td>111</td></tr><tr><td>Aruba</td><td>Mala Rock | Rock T-shirts</td><td>27</td></tr><tr><td>Tonga</td><td>Grecia Perales</td><td>0</td></tr><tr><td>Guinea-Bissau</td><td>Livitrevisani</td><td>0</td></tr><tr><td>Colombia</td><td>Consuelo Aguirre</td><td>0</td></tr></tbody></table></div>"
      ]
     },
     "metadata": {
      "application/vnd.databricks.v1+output": {
       "addedWidgets": {},
       "aggData": [],
       "aggError": "",
       "aggOverflow": false,
       "aggSchema": [],
       "aggSeriesLimitReached": false,
       "aggType": "",
       "arguments": {},
       "columnCustomDisplayInfos": {},
       "data": [
        [
         "Azerbaijan",
         "Style Me Pretty",
         6000000
        ],
        [
         "American Samoa",
         "BuzzFeed",
         5000000
        ],
        [
         "Christmas Island",
         "Instructables",
         3000000
        ],
        [
         "Bangladesh",
         "Architectural Digest",
         3000000
        ],
        [
         "Afghanistan",
         "Walmart",
         2000000
        ],
        [
         "Andorra",
         "Teachers Pay Teachers",
         1000000
        ],
        [
         "Australia",
         "Cultura Colectiva",
         1000000
        ],
        [
         "Armenia",
         "Michelle {CraftyMorning.com}",
         892000
        ],
        [
         "Central African Republic",
         "PureWow",
         868000
        ],
        [
         "Argentina",
         "Next Luxury",
         800000
        ],
        [
         "Armenia",
         "ArchitectureArtDesigns",
         616000
        ],
        [
         "Angola",
         "CraftGossip.com",
         502000
        ],
        [
         "Antarctica (the territory South of 60 deg S)",
         "HikenDip",
         500000
        ],
        [
         "Barbados",
         "The Creativity Exchange",
         410000
        ],
        [
         "Maldives",
         "Passion For Savings",
         330000
        ],
        [
         "Algeria",
         "ELLE Germany",
         326000
        ],
        [
         "Antigua and Barbuda",
         "Sumcoco | Decor Ideas, Hairstyles, Nails Fashion Advice",
         306000
        ],
        [
         "British Virgin Islands",
         "Kitchen Fun With My 3 Sons",
         245000
        ],
        [
         "Aruba",
         "TheTrendSpotter",
         211000
        ],
        [
         "Cote d'Ivoire",
         "The Crafting Chicks",
         192000
        ],
        [
         "Cape Verde",
         "Sand and Sisal",
         178000
        ],
        [
         "Saint Kitts and Nevis",
         "vintagetopia",
         171000
        ],
        [
         "Algeria",
         "Fun Life Crisis",
         130000
        ],
        [
         "Armenia",
         "Of Life & Lisa | Lifestyle Blog",
         124000
        ],
        [
         "Madagascar",
         "MomAdvice",
         112000
        ],
        [
         "Aruba",
         "The Work at Home Woman",
         110000
        ],
        [
         "Anguilla",
         "Kristen | Lifestyle, Mom Tips & Teacher Stuff Blog",
         92000
        ],
        [
         "Austria",
         "The World Pursuit Travel Website",
         89000
        ],
        [
         "Anguilla",
         "Thank Your Body",
         85000
        ],
        [
         "Mozambique",
         "Stylin by Aylin",
         83000
        ],
        [
         "Isle of Man",
         "Abbotts At Home",
         52000
        ],
        [
         "French Guiana",
         "Commitment Connection",
         51000
        ],
        [
         "Bermuda",
         "Life on Summerhill | Home, Holiday Decor & DIY Website",
         46000
        ],
        [
         "Bahrain",
         "R.J. Weiss at The Ways To Wealth | Personal Finance | Debt Payoff",
         46000
        ],
        [
         "Algeria",
         "Boss Babe Chronicles | Personal Development, Finances, Self Care",
         45000
        ],
        [
         "American Samoa",
         "TheFab20s | Travel+Food+DIY+Listicles",
         42000
        ],
        [
         "Barbados",
         "Nicki ",
         28000
        ],
        [
         "Australia",
         "LLEGANCE | Workwear Fashion Woman Advice For Driven Professionals",
         28000
        ],
        [
         "Congo",
         "Shawn Petite",
         27000
        ],
        [
         "Afghanistan",
         "It's me, JD | DIY, Crafts, Home & Organization",
         27000
        ],
        [
         "Bulgaria",
         "Living Low Key | Save Money, Make Money, & Frugal Living",
         26000
        ],
        [
         "Armenia",
         "The Arty Teacher",
         25000
        ],
        [
         "Cote d'Ivoire",
         "Math Giraffe",
         25000
        ],
        [
         "Mauritania",
         "The Literacy Nest",
         22000
        ],
        [
         "Australia",
         "Jess Wandering",
         22000
        ],
        [
         "Seychelles",
         "ALL FOR WOMAN",
         21000
        ],
        [
         "Albania",
         "Projects with Kids",
         20000
        ],
        [
         "Aruba",
         "Traci Bender - The Bender Bunch",
         11000
        ],
        [
         "Austria",
         "Wanderlust Chloe ✈️ Travel guides, inspo and adventure travel ✈️",
         10000
        ],
        [
         "Turkey",
         "My Little Poppies (Cait Curley, MA/CAGS)",
         9000
        ],
        [
         "Egypt",
         "South Lumina Style",
         9000
        ],
        [
         "Armenia",
         "Jiew82633",
         8000
        ],
        [
         "Jamaica",
         "hobbyDB",
         8000
        ],
        [
         "Netherlands Antilles",
         "Kim Cook-Thirteen Chairs-Slates Mugs And Tees",
         7000
        ],
        [
         "India",
         "Travel Mad Mum",
         7000
        ],
        [
         "Cambodia",
         "Mixed Media Crafts",
         6000
        ],
        [
         "Australia",
         "Write Your Story | Budgeting, Healthy Lifestyle, Faith",
         5000
        ],
        [
         "Germany",
         "QC Career School",
         5000
        ],
        [
         "Botswana",
         "RapidLeaks",
         4000
        ],
        [
         "Montserrat",
         "Taming Little Monsters - Fun Activities for Kids",
         4000
        ],
        [
         "Bhutan",
         "Kids Crafts & Free Preschool Printables- Sharing Our Experiences",
         3000
        ],
        [
         "Argentina",
         "Tony",
         3000
        ],
        [
         "Dominican Republic",
         "Petite in Paris",
         3000
        ],
        [
         "Sudan",
         "iElylike ..✿◕‿◕✿ஐ✿◕‿◕✿",
         940
        ],
        [
         "Cocos (Keeling) Islands",
         "Ray Uyemura",
         437
        ],
        [
         "New Caledonia",
         "Au'vey Smith",
         377
        ],
        [
         "Grenada",
         "p hump",
         314
        ],
        [
         "Isle of Man",
         "Annamarie Hilton",
         313
        ],
        [
         "Papua New Guinea",
         "AnnaLee Kick",
         112
        ],
        [
         "Philippines",
         "Life of Neon | Custom Neon Light Signs | Home Decor Wall Art",
         111
        ],
        [
         "Aruba",
         "Mala Rock | Rock T-shirts",
         27
        ],
        [
         "Tonga",
         "Grecia Perales",
         0
        ],
        [
         "Guinea-Bissau",
         "Livitrevisani",
         0
        ],
        [
         "Colombia",
         "Consuelo Aguirre",
         0
        ]
       ],
       "datasetInfos": [],
       "dbfsResultPath": null,
       "isJsonSchema": true,
       "metadata": {},
       "overflow": false,
       "plotOptions": {
        "customPlotOptions": {},
        "displayType": "table",
        "pivotAggregation": null,
        "pivotColumns": null,
        "xColumns": null,
        "yColumns": null
       },
       "removedWidgets": [],
       "schema": [
        {
         "metadata": "{}",
         "name": "country",
         "type": "\"string\""
        },
        {
         "metadata": "{}",
         "name": "poster_name",
         "type": "\"string\""
        },
        {
         "metadata": "{}",
         "name": "follower_count",
         "type": "\"integer\""
        }
       ],
       "type": "table"
      }
     },
     "output_type": "display_data"
    },
    {
     "output_type": "display_data",
     "data": {
      "text/html": [
       "<style scoped>\n",
       "  .ansiout {\n",
       "    display: block;\n",
       "    unicode-bidi: embed;\n",
       "    white-space: pre-wrap;\n",
       "    word-wrap: break-word;\n",
       "    word-break: break-all;\n",
       "    font-family: \"Menlo\", \"Monaco\", \"Consolas\", \"Ubuntu Mono\", \"Source Code Pro\", monospace;\n",
       "    font-size: 13px;\n",
       "    color: #555;\n",
       "    margin-left: 4px;\n",
       "    line-height: 19px;\n",
       "  }\n",
       "</style>\n",
       "<div class=\"ansiout\">+----------+--------------+\n",
       "   country|follower_count|\n",
       "+----------+--------------+\n",
       "Azerbaijan|       6000000|\n",
       "+----------+--------------+\n",
       "only showing top 1 row\n",
       "\n",
       "</div>"
      ]
     },
     "metadata": {
      "application/vnd.databricks.v1+output": {
       "addedWidgets": {},
       "arguments": {},
       "data": "<div class=\"ansiout\">+----------+--------------+\n|   country|follower_count|\n+----------+--------------+\n|Azerbaijan|       6000000|\n+----------+--------------+\nonly showing top 1 row\n\n</div>",
       "datasetInfos": [],
       "metadata": {},
       "removedWidgets": [],
       "type": "html"
      }
     },
     "output_type": "display_data"
    }
   ],
   "source": [
    "# Finding user with most follower in each country\n",
    "\n",
    "df_c_pn_fc = df_pin.join(df_geo, \"ind\").groupBy(df_geo.country, df_pin.poster_name).agg(first(df_pin.follower_count).alias(\"follower_count\")).orderBy(desc(\"follower_count\"))\n",
    "display(df_c_pn_fc)\n",
    "\n",
    "# country with most user followers\n",
    "\n",
    "df_c_fc = df_c_pn_fc.orderBy(desc(\"follower_count\"))\n",
    "df_c_fc = df_c_fc.drop(\"poster_name\")\n",
    "df_c_fc.show(1)"
   ]
  },
  {
   "cell_type": "code",
   "execution_count": 0,
   "metadata": {
    "application/vnd.databricks.v1+cell": {
     "cellMetadata": {
      "byteLimit": 2048000,
      "rowLimit": 10000
     },
     "inputWidgets": {},
     "nuid": "38ed387a-6d49-4f1a-aa8b-d805a9388a72",
     "showTitle": false,
     "title": ""
    }
   },
   "outputs": [
    {
     "output_type": "display_data",
     "data": {
      "text/html": [
       "<style scoped>\n",
       "  .table-result-container {\n",
       "    max-height: 300px;\n",
       "    overflow: auto;\n",
       "  }\n",
       "  table, th, td {\n",
       "    border: 1px solid black;\n",
       "    border-collapse: collapse;\n",
       "  }\n",
       "  th, td {\n",
       "    padding: 5px;\n",
       "  }\n",
       "  th {\n",
       "    text-align: left;\n",
       "  }\n",
       "</style><div class='table-result-container'><table class='table-result'><thead style='background-color: white'><tr><th>age_group</th><th>category</th><th>category_count</th></tr></thead><tbody><tr><td>18 - 24</td><td>art</td><td>5</td></tr><tr><td>25 - 35</td><td>travel</td><td>4</td></tr><tr><td>36 - 50</td><td>diy-and-crafts</td><td>3</td></tr><tr><td>Invalid</td><td>education</td><td>2</td></tr></tbody></table></div>"
      ]
     },
     "metadata": {
      "application/vnd.databricks.v1+output": {
       "addedWidgets": {},
       "aggData": [],
       "aggError": "",
       "aggOverflow": false,
       "aggSchema": [],
       "aggSeriesLimitReached": false,
       "aggType": "",
       "arguments": {},
       "columnCustomDisplayInfos": {},
       "data": [
        [
         "18 - 24",
         "art",
         5
        ],
        [
         "25 - 35",
         "travel",
         4
        ],
        [
         "36 - 50",
         "diy-and-crafts",
         3
        ],
        [
         "Invalid",
         "education",
         2
        ]
       ],
       "datasetInfos": [],
       "dbfsResultPath": null,
       "isJsonSchema": true,
       "metadata": {},
       "overflow": false,
       "plotOptions": {
        "customPlotOptions": {},
        "displayType": "table",
        "pivotAggregation": null,
        "pivotColumns": null,
        "xColumns": null,
        "yColumns": null
       },
       "removedWidgets": [],
       "schema": [
        {
         "metadata": "{}",
         "name": "age_group",
         "type": "\"string\""
        },
        {
         "metadata": "{}",
         "name": "category",
         "type": "\"string\""
        },
        {
         "metadata": "{}",
         "name": "category_count",
         "type": "\"long\""
        }
       ],
       "type": "table"
      }
     },
     "output_type": "display_data"
    }
   ],
   "source": [
    "# Finding the most popular category for different age groups\n",
    "\n",
    "# age groups:\n",
    "# 18 <-> 24\n",
    "# 25 <-> 35\n",
    "# 36 <-> 50\n",
    "# +50\n",
    "\n",
    "df_age_group = df_user.withColumn(\"age_group\", when((df_user.age >=18) & (df_user.age <= 24), \"18 - 24\").when((df_user.age >=25) & (df_user.age <= 35), \"25 - 35\").when((df_user.age >=36) & (df_user.age <= 50), \"36 - 50\").otherwise(\"Invalid\"))\n",
    "\n",
    "df_pin_age_group_join = df_pin.join(df_age_group, \"ind\").groupBy(df_age_group.age_group, df_pin.category).agg(count(\"*\").alias(\"category_count\")).orderBy(desc(\"category_count\"))\n",
    "\n",
    "popular_cat_by_age_group = df_pin_age_group_join.groupBy(\"age_group\").agg(first(\"category\").alias(\"category\"), first(\"category_count\").alias(\"category_count\"))\n",
    "\n",
    "display(popular_cat_by_age_group)"
   ]
  },
  {
   "cell_type": "code",
   "execution_count": 0,
   "metadata": {
    "application/vnd.databricks.v1+cell": {
     "cellMetadata": {
      "byteLimit": 2048000,
      "rowLimit": 10000
     },
     "inputWidgets": {},
     "nuid": "2a367119-5ae8-4d6c-8a94-29e853b844ab",
     "showTitle": false,
     "title": ""
    }
   },
   "outputs": [
    {
     "output_type": "display_data",
     "data": {
      "text/html": [
       "<style scoped>\n",
       "  .table-result-container {\n",
       "    max-height: 300px;\n",
       "    overflow: auto;\n",
       "  }\n",
       "  table, th, td {\n",
       "    border: 1px solid black;\n",
       "    border-collapse: collapse;\n",
       "  }\n",
       "  th, td {\n",
       "    padding: 5px;\n",
       "  }\n",
       "  th {\n",
       "    text-align: left;\n",
       "  }\n",
       "</style><div class='table-result-container'><table class='table-result'><thead style='background-color: white'><tr><th>age_group</th><th>median_follower_count</th></tr></thead><tbody><tr><td>18 - 24</td><td>89000</td></tr><tr><td>25 - 35</td><td>42000</td></tr><tr><td>36 - 50</td><td>6000</td></tr><tr><td>Invalid</td><td>5000</td></tr></tbody></table></div>"
      ]
     },
     "metadata": {
      "application/vnd.databricks.v1+output": {
       "addedWidgets": {},
       "aggData": [],
       "aggError": "",
       "aggOverflow": false,
       "aggSchema": [],
       "aggSeriesLimitReached": false,
       "aggType": "",
       "arguments": {},
       "columnCustomDisplayInfos": {},
       "data": [
        [
         "18 - 24",
         89000
        ],
        [
         "25 - 35",
         42000
        ],
        [
         "36 - 50",
         6000
        ],
        [
         "Invalid",
         5000
        ]
       ],
       "datasetInfos": [],
       "dbfsResultPath": null,
       "isJsonSchema": true,
       "metadata": {},
       "overflow": false,
       "plotOptions": {
        "customPlotOptions": {},
        "displayType": "table",
        "pivotAggregation": null,
        "pivotColumns": null,
        "xColumns": null,
        "yColumns": null
       },
       "removedWidgets": [],
       "schema": [
        {
         "metadata": "{}",
         "name": "age_group",
         "type": "\"string\""
        },
        {
         "metadata": "{}",
         "name": "median_follower_count",
         "type": "\"integer\""
        }
       ],
       "type": "table"
      }
     },
     "output_type": "display_data"
    }
   ],
   "source": [
    "# Finding the median follower count for different age groups\n",
    "\n",
    "df_median = df_pin.join(df_age_group, \"ind\").groupBy(df_age_group.age_group, df_pin.follower_count).agg(count(\"*\").alias(\"median_follower_count\"))\n",
    "\n",
    "df_median_age_group = df_median.groupBy(\"age_group\").agg(expr(\"percentile_approx(follower_count, 0.5)\").alias(\"median_follower_count\")).orderBy(asc(\"age_group\"))\n",
    "\n",
    "display(df_median_age_group)\n"
   ]
  },
  {
   "cell_type": "code",
   "execution_count": 0,
   "metadata": {
    "application/vnd.databricks.v1+cell": {
     "cellMetadata": {
      "byteLimit": 2048000,
      "rowLimit": 10000
     },
     "inputWidgets": {},
     "nuid": "65a8611f-0d95-4966-ad7e-177b17155f44",
     "showTitle": false,
     "title": ""
    }
   },
   "outputs": [
    {
     "output_type": "display_data",
     "data": {
      "text/html": [
       "<style scoped>\n",
       "  .table-result-container {\n",
       "    max-height: 300px;\n",
       "    overflow: auto;\n",
       "  }\n",
       "  table, th, td {\n",
       "    border: 1px solid black;\n",
       "    border-collapse: collapse;\n",
       "  }\n",
       "  th, td {\n",
       "    padding: 5px;\n",
       "  }\n",
       "  th {\n",
       "    text-align: left;\n",
       "  }\n",
       "</style><div class='table-result-container'><table class='table-result'><thead style='background-color: white'><tr><th>post_year</th><th>number_users_joined</th></tr></thead><tbody><tr><td>2017</td><td>11</td></tr><tr><td>2016</td><td>37</td></tr><tr><td>2015</td><td>30</td></tr></tbody></table></div>"
      ]
     },
     "metadata": {
      "application/vnd.databricks.v1+output": {
       "addedWidgets": {},
       "aggData": [],
       "aggError": "",
       "aggOverflow": false,
       "aggSchema": [],
       "aggSeriesLimitReached": false,
       "aggType": "",
       "arguments": {},
       "columnCustomDisplayInfos": {},
       "data": [
        [
         2017,
         11
        ],
        [
         2016,
         37
        ],
        [
         2015,
         30
        ]
       ],
       "datasetInfos": [],
       "dbfsResultPath": null,
       "isJsonSchema": true,
       "metadata": {},
       "overflow": false,
       "plotOptions": {
        "customPlotOptions": {},
        "displayType": "table",
        "pivotAggregation": null,
        "pivotColumns": null,
        "xColumns": null,
        "yColumns": null
       },
       "removedWidgets": [],
       "schema": [
        {
         "metadata": "{}",
         "name": "post_year",
         "type": "\"integer\""
        },
        {
         "metadata": "{}",
         "name": "number_users_joined",
         "type": "\"long\""
        }
       ],
       "type": "table"
      }
     },
     "output_type": "display_data"
    }
   ],
   "source": [
    "# Finding how many users have joined each year?\n",
    "\n",
    "df_user_post_year = df_user.withColumn(\"post_year\", year(\"date_joined\"))\n",
    "\n",
    "df_user_joined = df_user_post_year.groupBy(\"post_year\").agg(count(\"*\").alias(\"number_users_joined\"))\n",
    "\n",
    "user_post_year_filter = df_user_joined.filter((col(\"post_year\") >= 2015) & (col(\"post_year\") <= 2020))\n",
    "\n",
    "user_joined_each_year = user_post_year_filter.groupBy(\"post_year\").agg(first(\"number_users_joined\").alias(\"number_users_joined\")).orderBy(desc(\"post_year\"))\n",
    "\n",
    "display(user_joined_each_year)"
   ]
  },
  {
   "cell_type": "code",
   "execution_count": 0,
   "metadata": {
    "application/vnd.databricks.v1+cell": {
     "cellMetadata": {
      "byteLimit": 2048000,
      "rowLimit": 10000
     },
     "inputWidgets": {},
     "nuid": "7befa7a4-55f7-464f-be64-31a20b6180e5",
     "showTitle": false,
     "title": ""
    }
   },
   "outputs": [
    {
     "output_type": "display_data",
     "data": {
      "text/html": [
       "<style scoped>\n",
       "  .table-result-container {\n",
       "    max-height: 300px;\n",
       "    overflow: auto;\n",
       "  }\n",
       "  table, th, td {\n",
       "    border: 1px solid black;\n",
       "    border-collapse: collapse;\n",
       "  }\n",
       "  th, td {\n",
       "    padding: 5px;\n",
       "  }\n",
       "  th {\n",
       "    text-align: left;\n",
       "  }\n",
       "</style><div class='table-result-container'><table class='table-result'><thead style='background-color: white'><tr><th>post_year</th><th>median_follower_count</th></tr></thead><tbody><tr><td>2017</td><td>112</td></tr><tr><td>2016</td><td>25000</td></tr><tr><td>2015</td><td>42000</td></tr></tbody></table></div>"
      ]
     },
     "metadata": {
      "application/vnd.databricks.v1+output": {
       "addedWidgets": {},
       "aggData": [],
       "aggError": "",
       "aggOverflow": false,
       "aggSchema": [],
       "aggSeriesLimitReached": false,
       "aggType": "",
       "arguments": {},
       "columnCustomDisplayInfos": {},
       "data": [
        [
         2017,
         112
        ],
        [
         2016,
         25000
        ],
        [
         2015,
         42000
        ]
       ],
       "datasetInfos": [],
       "dbfsResultPath": null,
       "isJsonSchema": true,
       "metadata": {},
       "overflow": false,
       "plotOptions": {
        "customPlotOptions": {},
        "displayType": "table",
        "pivotAggregation": null,
        "pivotColumns": null,
        "xColumns": null,
        "yColumns": null
       },
       "removedWidgets": [],
       "schema": [
        {
         "metadata": "{}",
         "name": "post_year",
         "type": "\"integer\""
        },
        {
         "metadata": "{}",
         "name": "median_follower_count",
         "type": "\"integer\""
        }
       ],
       "type": "table"
      }
     },
     "output_type": "display_data"
    }
   ],
   "source": [
    "# Finding the median follower count of users that have joined between 2015 to 2020\n",
    "\n",
    "df_pin_user_median_follower_count = df_pin.join(df_user_post_year, \"ind\").groupBy(df_user_post_year.post_year, df_pin.follower_count).agg(expr(\"percentile_approx(follower_count, 0.5)\").alias(\"median_follower_count\"))\n",
    "\n",
    "df_user_post_year_filter = df_pin_user_median_follower_count.filter((col(\"post_year\") >= 2015) & (col(\"post_year\") <= 2020))\n",
    "\n",
    "user_mfc = df_user_post_year_filter.groupBy(\"post_year\").agg(first(\"median_follower_count\").alias(\"median_follower_count\")).orderBy(desc(\"post_year\"))\n",
    "\n",
    "display(user_mfc)"
   ]
  },
  {
   "cell_type": "code",
   "execution_count": 0,
   "metadata": {
    "application/vnd.databricks.v1+cell": {
     "cellMetadata": {
      "byteLimit": 2048000,
      "rowLimit": 10000
     },
     "inputWidgets": {},
     "nuid": "c3e31fb8-40fc-4aa1-bf03-80f435bb3308",
     "showTitle": false,
     "title": ""
    }
   },
   "outputs": [
    {
     "output_type": "display_data",
     "data": {
      "text/html": [
       "<style scoped>\n",
       "  .table-result-container {\n",
       "    max-height: 300px;\n",
       "    overflow: auto;\n",
       "  }\n",
       "  table, th, td {\n",
       "    border: 1px solid black;\n",
       "    border-collapse: collapse;\n",
       "  }\n",
       "  th, td {\n",
       "    padding: 5px;\n",
       "  }\n",
       "  th {\n",
       "    text-align: left;\n",
       "  }\n",
       "</style><div class='table-result-container'><table class='table-result'><thead style='background-color: white'><tr><th>age_group</th><th>post_year</th><th>median_follower_count</th></tr></thead><tbody><tr><td>18 - 24</td><td>2015</td><td>110000</td></tr><tr><td>18 - 24</td><td>2016</td><td>25000</td></tr><tr><td>18 - 24</td><td>2017</td><td>5000</td></tr><tr><td>25 - 35</td><td>2015</td><td>42000</td></tr><tr><td>25 - 35</td><td>2016</td><td>22000</td></tr><tr><td>25 - 35</td><td>2017</td><td>8000</td></tr><tr><td>36 - 50</td><td>2017</td><td>314</td></tr><tr><td>36 - 50</td><td>2015</td><td>25000</td></tr><tr><td>36 - 50</td><td>2016</td><td>7000</td></tr><tr><td>Invalid</td><td>2017</td><td>5000</td></tr><tr><td>Invalid</td><td>2016</td><td>111</td></tr><tr><td>Invalid</td><td>2015</td><td>0</td></tr></tbody></table></div>"
      ]
     },
     "metadata": {
      "application/vnd.databricks.v1+output": {
       "addedWidgets": {},
       "aggData": [],
       "aggError": "",
       "aggOverflow": false,
       "aggSchema": [],
       "aggSeriesLimitReached": false,
       "aggType": "",
       "arguments": {},
       "columnCustomDisplayInfos": {},
       "data": [
        [
         "18 - 24",
         2015,
         110000
        ],
        [
         "18 - 24",
         2016,
         25000
        ],
        [
         "18 - 24",
         2017,
         5000
        ],
        [
         "25 - 35",
         2015,
         42000
        ],
        [
         "25 - 35",
         2016,
         22000
        ],
        [
         "25 - 35",
         2017,
         8000
        ],
        [
         "36 - 50",
         2017,
         314
        ],
        [
         "36 - 50",
         2015,
         25000
        ],
        [
         "36 - 50",
         2016,
         7000
        ],
        [
         "Invalid",
         2017,
         5000
        ],
        [
         "Invalid",
         2016,
         111
        ],
        [
         "Invalid",
         2015,
         0
        ]
       ],
       "datasetInfos": [],
       "dbfsResultPath": null,
       "isJsonSchema": true,
       "metadata": {},
       "overflow": false,
       "plotOptions": {
        "customPlotOptions": {},
        "displayType": "table",
        "pivotAggregation": null,
        "pivotColumns": null,
        "xColumns": null,
        "yColumns": null
       },
       "removedWidgets": [],
       "schema": [
        {
         "metadata": "{}",
         "name": "age_group",
         "type": "\"string\""
        },
        {
         "metadata": "{}",
         "name": "post_year",
         "type": "\"integer\""
        },
        {
         "metadata": "{}",
         "name": "median_follower_count",
         "type": "\"integer\""
        }
       ],
       "type": "table"
      }
     },
     "output_type": "display_data"
    }
   ],
   "source": [
    "# Finding the median follower count of users based on their joining and age group\n",
    "\n",
    "df_pin_age_group_join2 = df_pin.join(df_age_group, \"ind\").groupBy(df_age_group.age_group, df_pin.follower_count).agg(count(\"*\").alias(\"median_follower_count\")).orderBy(desc(\"median_follower_count\"))\n",
    "\n",
    "df_pin_user_median_follower_count = df_pin.join(df_user_post_year, \"ind\").groupBy(df_user_post_year.post_year, df_pin.follower_count).agg(expr(\"percentile_approx(follower_count, 0.5)\").alias(\"median_follower_count\"))\n",
    "\n",
    "df_age_group_post_year2 = df_pin_age_group_join2.join(df_pin_user_median_follower_count, \"follower_count\").groupBy(df_pin_age_group_join2.age_group, df_pin_user_median_follower_count.post_year).agg(expr(\"percentile_approx(follower_count, 0.5)\").alias(\"median_follower_count\")).orderBy(asc(\"age_group\"))\n",
    "\n",
    "# filters the post year between 2015 to 2020\n",
    "df_age_group_post_year_filter = df_age_group_post_year2.filter((col(\"post_year\") >= 2015) & (col(\"post_year\") <= 2020))\n",
    "\n",
    "display(df_age_group_post_year_filter)"
   ]
  }
 ],
 "metadata": {
  "application/vnd.databricks.v1+notebook": {
   "dashboards": [],
   "language": "python",
   "notebookMetadata": {
    "pythonIndentUnit": 4
   },
   "notebookName": "batch_cleaning_and_queries_databricks",
   "widgets": {}
  }
 },
 "nbformat": 4,
 "nbformat_minor": 0
}
